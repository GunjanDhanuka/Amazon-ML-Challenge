{
 "cells": [
  {
   "cell_type": "code",
   "execution_count": 1,
   "id": "78f9f9bc",
   "metadata": {
    "execution": {
     "iopub.execute_input": "2023-04-22T15:37:46.921046Z",
     "iopub.status.busy": "2023-04-22T15:37:46.919959Z",
     "iopub.status.idle": "2023-04-22T15:38:00.078189Z",
     "shell.execute_reply": "2023-04-22T15:38:00.076567Z"
    },
    "papermill": {
     "duration": 13.170985,
     "end_time": "2023-04-22T15:38:00.080495",
     "exception": false,
     "start_time": "2023-04-22T15:37:46.909510",
     "status": "completed"
    },
    "tags": []
   },
   "outputs": [
    {
     "name": "stdout",
     "output_type": "stream",
     "text": [
      "\u001b[33mWARNING: Running pip as the 'root' user can result in broken permissions and conflicting behaviour with the system package manager. It is recommended to use a virtual environment instead: https://pip.pypa.io/warnings/venv\u001b[0m\u001b[33m\r\n",
      "\u001b[0mNote: you may need to restart the kernel to use updated packages.\n"
     ]
    }
   ],
   "source": [
    "pip install -q faiss-gpu"
   ]
  },
  {
   "cell_type": "code",
   "execution_count": 2,
   "id": "97b5e8da",
   "metadata": {
    "execution": {
     "iopub.execute_input": "2023-04-22T15:38:00.097590Z",
     "iopub.status.busy": "2023-04-22T15:38:00.097271Z",
     "iopub.status.idle": "2023-04-22T15:38:00.316557Z",
     "shell.execute_reply": "2023-04-22T15:38:00.315495Z"
    },
    "papermill": {
     "duration": 0.230412,
     "end_time": "2023-04-22T15:38:00.318933",
     "exception": false,
     "start_time": "2023-04-22T15:38:00.088521",
     "status": "completed"
    },
    "tags": []
   },
   "outputs": [],
   "source": [
    "import pandas as pd\n",
    "import numpy as np\n",
    "import os, gc\n",
    "import faiss\n",
    "from tqdm.auto import tqdm\n",
    "import time"
   ]
  },
  {
   "cell_type": "code",
   "execution_count": 3,
   "id": "93081825",
   "metadata": {
    "execution": {
     "iopub.execute_input": "2023-04-22T15:38:00.336220Z",
     "iopub.status.busy": "2023-04-22T15:38:00.335270Z",
     "iopub.status.idle": "2023-04-22T15:38:00.340958Z",
     "shell.execute_reply": "2023-04-22T15:38:00.340069Z"
    },
    "papermill": {
     "duration": 0.016098,
     "end_time": "2023-04-22T15:38:00.342818",
     "exception": false,
     "start_time": "2023-04-22T15:38:00.326720",
     "status": "completed"
    },
    "tags": []
   },
   "outputs": [],
   "source": [
    "# declare GPU resource to encapsulate chunk of GPU memory\n",
    "res = faiss.StandardGpuResources()"
   ]
  },
  {
   "cell_type": "code",
   "execution_count": 4,
   "id": "11876417",
   "metadata": {
    "execution": {
     "iopub.execute_input": "2023-04-22T15:38:00.358990Z",
     "iopub.status.busy": "2023-04-22T15:38:00.358722Z",
     "iopub.status.idle": "2023-04-22T15:38:04.931935Z",
     "shell.execute_reply": "2023-04-22T15:38:04.930851Z"
    },
    "papermill": {
     "duration": 4.584051,
     "end_time": "2023-04-22T15:38:04.934508",
     "exception": false,
     "start_time": "2023-04-22T15:38:00.350457",
     "status": "completed"
    },
    "tags": []
   },
   "outputs": [
    {
     "data": {
      "text/plain": [
       "(351208, 768)"
      ]
     },
     "execution_count": 4,
     "metadata": {},
     "output_type": "execute_result"
    }
   ],
   "source": [
    "feats0 = np.load(\"/kaggle/input/sentencetf-new/train_mpnet_basev2_F0_feats.npy\")\n",
    "feats0.shape"
   ]
  },
  {
   "cell_type": "code",
   "execution_count": 5,
   "id": "a5e5c78d",
   "metadata": {
    "execution": {
     "iopub.execute_input": "2023-04-22T15:38:04.951930Z",
     "iopub.status.busy": "2023-04-22T15:38:04.951631Z",
     "iopub.status.idle": "2023-04-22T15:38:08.650100Z",
     "shell.execute_reply": "2023-04-22T15:38:08.648978Z"
    },
    "papermill": {
     "duration": 3.709567,
     "end_time": "2023-04-22T15:38:08.652562",
     "exception": false,
     "start_time": "2023-04-22T15:38:04.942995",
     "status": "completed"
    },
    "tags": []
   },
   "outputs": [
    {
     "data": {
      "text/plain": [
       "(351209, 768)"
      ]
     },
     "execution_count": 5,
     "metadata": {},
     "output_type": "execute_result"
    }
   ],
   "source": [
    "feats1 = np.load(\"/kaggle/input/sentencetf-new/train_mpnet_basev2_F1_feats.npy\")\n",
    "feats1.shape"
   ]
  },
  {
   "cell_type": "code",
   "execution_count": 6,
   "id": "b760f519",
   "metadata": {
    "execution": {
     "iopub.execute_input": "2023-04-22T15:38:08.669810Z",
     "iopub.status.busy": "2023-04-22T15:38:08.669512Z",
     "iopub.status.idle": "2023-04-22T15:38:09.052826Z",
     "shell.execute_reply": "2023-04-22T15:38:09.051643Z"
    },
    "papermill": {
     "duration": 0.394945,
     "end_time": "2023-04-22T15:38:09.055589",
     "exception": false,
     "start_time": "2023-04-22T15:38:08.660644",
     "status": "completed"
    },
    "tags": []
   },
   "outputs": [
    {
     "data": {
      "text/plain": [
       "(702417, 768)"
      ]
     },
     "execution_count": 6,
     "metadata": {},
     "output_type": "execute_result"
    }
   ],
   "source": [
    "feats = np.concatenate([feats0, feats1], axis=0)\n",
    "feats.shape"
   ]
  },
  {
   "cell_type": "code",
   "execution_count": 7,
   "id": "e6a96949",
   "metadata": {
    "execution": {
     "iopub.execute_input": "2023-04-22T15:38:09.073263Z",
     "iopub.status.busy": "2023-04-22T15:38:09.072937Z",
     "iopub.status.idle": "2023-04-22T15:38:09.171717Z",
     "shell.execute_reply": "2023-04-22T15:38:09.170498Z"
    },
    "papermill": {
     "duration": 0.110199,
     "end_time": "2023-04-22T15:38:09.174475",
     "exception": false,
     "start_time": "2023-04-22T15:38:09.064276",
     "status": "completed"
    },
    "tags": []
   },
   "outputs": [
    {
     "data": {
      "text/plain": [
       "121"
      ]
     },
     "execution_count": 7,
     "metadata": {},
     "output_type": "execute_result"
    }
   ],
   "source": [
    "del feats0, feats1\n",
    "gc.collect()"
   ]
  },
  {
   "cell_type": "code",
   "execution_count": 8,
   "id": "d1f7313e",
   "metadata": {
    "execution": {
     "iopub.execute_input": "2023-04-22T15:38:09.193046Z",
     "iopub.status.busy": "2023-04-22T15:38:09.191535Z",
     "iopub.status.idle": "2023-04-22T15:38:09.197097Z",
     "shell.execute_reply": "2023-04-22T15:38:09.196203Z"
    },
    "papermill": {
     "duration": 0.016687,
     "end_time": "2023-04-22T15:38:09.199251",
     "exception": false,
     "start_time": "2023-04-22T15:38:09.182564",
     "status": "completed"
    },
    "tags": []
   },
   "outputs": [],
   "source": [
    "d = feats.shape[1]"
   ]
  },
  {
   "cell_type": "code",
   "execution_count": 9,
   "id": "c5f372a4",
   "metadata": {
    "execution": {
     "iopub.execute_input": "2023-04-22T15:38:09.216144Z",
     "iopub.status.busy": "2023-04-22T15:38:09.215862Z",
     "iopub.status.idle": "2023-04-22T15:38:10.380446Z",
     "shell.execute_reply": "2023-04-22T15:38:10.379389Z"
    },
    "papermill": {
     "duration": 1.175817,
     "end_time": "2023-04-22T15:38:10.382923",
     "exception": false,
     "start_time": "2023-04-22T15:38:09.207106",
     "status": "completed"
    },
    "tags": []
   },
   "outputs": [
    {
     "data": {
      "text/plain": [
       "PRODUCT_ID    0\n",
       "TITLE         5\n",
       "dtype: int64"
      ]
     },
     "execution_count": 9,
     "metadata": {},
     "output_type": "execute_result"
    }
   ],
   "source": [
    "test_df = pd.read_parquet('/kaggle/input/xlm-roberta-embeddings-new/test.parquet', columns=['PRODUCT_ID', 'TITLE'])\n",
    "test_df.isna().sum()"
   ]
  },
  {
   "cell_type": "code",
   "execution_count": 10,
   "id": "9501d52a",
   "metadata": {
    "execution": {
     "iopub.execute_input": "2023-04-22T15:38:10.400453Z",
     "iopub.status.busy": "2023-04-22T15:38:10.400130Z",
     "iopub.status.idle": "2023-04-22T15:38:20.042227Z",
     "shell.execute_reply": "2023-04-22T15:38:20.041148Z"
    },
    "papermill": {
     "duration": 9.65319,
     "end_time": "2023-04-22T15:38:20.044395",
     "exception": false,
     "start_time": "2023-04-22T15:38:10.391205",
     "status": "completed"
    },
    "tags": []
   },
   "outputs": [
    {
     "data": {
      "text/plain": [
       "(734736, 768)"
      ]
     },
     "execution_count": 10,
     "metadata": {},
     "output_type": "execute_result"
    }
   ],
   "source": [
    "test_feats = np.load('/kaggle/input/sentencetf-new/test_mpnet_basev2_feats.npy').astype(np.float32)\n",
    "test_feats.shape"
   ]
  },
  {
   "cell_type": "code",
   "execution_count": 11,
   "id": "54a8dcce",
   "metadata": {
    "execution": {
     "iopub.execute_input": "2023-04-22T15:38:20.062671Z",
     "iopub.status.busy": "2023-04-22T15:38:20.061795Z",
     "iopub.status.idle": "2023-04-22T15:38:20.068743Z",
     "shell.execute_reply": "2023-04-22T15:38:20.067403Z"
    },
    "papermill": {
     "duration": 0.018511,
     "end_time": "2023-04-22T15:38:20.071398",
     "exception": false,
     "start_time": "2023-04-22T15:38:20.052887",
     "status": "completed"
    },
    "tags": []
   },
   "outputs": [
    {
     "data": {
      "text/plain": [
       "(734736, 2)"
      ]
     },
     "execution_count": 11,
     "metadata": {},
     "output_type": "execute_result"
    }
   ],
   "source": [
    "test_df.shape"
   ]
  },
  {
   "cell_type": "code",
   "execution_count": 12,
   "id": "5b4ebb0e",
   "metadata": {
    "execution": {
     "iopub.execute_input": "2023-04-22T15:38:20.088995Z",
     "iopub.status.busy": "2023-04-22T15:38:20.088273Z",
     "iopub.status.idle": "2023-04-22T15:38:21.512263Z",
     "shell.execute_reply": "2023-04-22T15:38:21.511227Z"
    },
    "papermill": {
     "duration": 1.435185,
     "end_time": "2023-04-22T15:38:21.514586",
     "exception": false,
     "start_time": "2023-04-22T15:38:20.079401",
     "status": "completed"
    },
    "tags": []
   },
   "outputs": [
    {
     "data": {
      "text/plain": [
       "(702420, 5)"
      ]
     },
     "execution_count": 12,
     "metadata": {},
     "output_type": "execute_result"
    }
   ],
   "source": [
    "df0 = pd.read_parquet('/kaggle/input/amzz-best-folds/train0.parquet', columns=['index','PRODUCT_ID', 'PRODUCT_LENGTH', 'TITLE'])\n",
    "df1 = pd.read_parquet('/kaggle/input/amzz-best-folds/train1.parquet', columns=['index','PRODUCT_ID', 'PRODUCT_LENGTH', 'TITLE'])\n",
    "\n",
    "tr_df = pd.concat([df0, df1])\n",
    "tr_df = tr_df.reset_index()\n",
    "del df0, df1\n",
    "gc.collect()\n",
    "tr_df.shape"
   ]
  },
  {
   "cell_type": "code",
   "execution_count": 13,
   "id": "4a4c3188",
   "metadata": {
    "execution": {
     "iopub.execute_input": "2023-04-22T15:38:21.533511Z",
     "iopub.status.busy": "2023-04-22T15:38:21.532932Z",
     "iopub.status.idle": "2023-04-22T15:38:21.646374Z",
     "shell.execute_reply": "2023-04-22T15:38:21.645332Z"
    },
    "papermill": {
     "duration": 0.125224,
     "end_time": "2023-04-22T15:38:21.649045",
     "exception": false,
     "start_time": "2023-04-22T15:38:21.523821",
     "status": "completed"
    },
    "tags": []
   },
   "outputs": [],
   "source": [
    "tr_df = tr_df.dropna(subset=['TITLE'])"
   ]
  },
  {
   "cell_type": "code",
   "execution_count": 14,
   "id": "bfe6828e",
   "metadata": {
    "execution": {
     "iopub.execute_input": "2023-04-22T15:38:21.671086Z",
     "iopub.status.busy": "2023-04-22T15:38:21.670471Z",
     "iopub.status.idle": "2023-04-22T15:38:21.714937Z",
     "shell.execute_reply": "2023-04-22T15:38:21.713854Z"
    },
    "papermill": {
     "duration": 0.060196,
     "end_time": "2023-04-22T15:38:21.717753",
     "exception": false,
     "start_time": "2023-04-22T15:38:21.657557",
     "status": "completed"
    },
    "tags": []
   },
   "outputs": [
    {
     "data": {
      "text/plain": [
       "level_0           0\n",
       "index             0\n",
       "PRODUCT_ID        0\n",
       "PRODUCT_LENGTH    0\n",
       "TITLE             0\n",
       "dtype: int64"
      ]
     },
     "execution_count": 14,
     "metadata": {},
     "output_type": "execute_result"
    }
   ],
   "source": [
    "tr_df.isna().sum()"
   ]
  },
  {
   "cell_type": "code",
   "execution_count": 15,
   "id": "512519c6",
   "metadata": {
    "execution": {
     "iopub.execute_input": "2023-04-22T15:38:21.740851Z",
     "iopub.status.busy": "2023-04-22T15:38:21.740554Z",
     "iopub.status.idle": "2023-04-22T15:38:22.054480Z",
     "shell.execute_reply": "2023-04-22T15:38:22.053397Z"
    },
    "papermill": {
     "duration": 0.325677,
     "end_time": "2023-04-22T15:38:22.056993",
     "exception": false,
     "start_time": "2023-04-22T15:38:21.731316",
     "status": "completed"
    },
    "tags": []
   },
   "outputs": [],
   "source": [
    "feats = feats[tr_df['PRODUCT_LENGTH'] < 1000]\n",
    "tr_df = tr_df[tr_df['PRODUCT_LENGTH'] < 1000]"
   ]
  },
  {
   "cell_type": "markdown",
   "id": "cf99b127",
   "metadata": {
    "papermill": {
     "duration": 0.007965,
     "end_time": "2023-04-22T15:38:22.073643",
     "exception": false,
     "start_time": "2023-04-22T15:38:22.065678",
     "status": "completed"
    },
    "tags": []
   },
   "source": [
    "For Cosine Similarity, refer this link: https://github.com/facebookresearch/faiss/wiki/MetricType-and-distances\n",
    "\n",
    "https://www.kaggle.com/code/dailysergey/howtodata-use-faiss-for-similarity-search-cpu/notebook\n",
    "\n",
    "https://github.com/facebookresearch/faiss/wiki/Running-on-GPUs"
   ]
  },
  {
   "cell_type": "code",
   "execution_count": 16,
   "id": "a1eb97f9",
   "metadata": {
    "execution": {
     "iopub.execute_input": "2023-04-22T15:38:22.092184Z",
     "iopub.status.busy": "2023-04-22T15:38:22.091236Z",
     "iopub.status.idle": "2023-04-22T15:38:22.505809Z",
     "shell.execute_reply": "2023-04-22T15:38:22.504767Z"
    },
    "papermill": {
     "duration": 0.426817,
     "end_time": "2023-04-22T15:38:22.508623",
     "exception": false,
     "start_time": "2023-04-22T15:38:22.081806",
     "status": "completed"
    },
    "tags": []
   },
   "outputs": [],
   "source": [
    "nlist = 1000\n",
    "# quantizer = faiss.IndexFlatL2(d)\n",
    "quantizer = faiss.IndexFlatIP(d)\n",
    "index = faiss.IndexIVFFlat(quantizer, d, nlist)\n",
    "index = faiss.index_cpu_to_gpu(res, 0, index)"
   ]
  },
  {
   "cell_type": "code",
   "execution_count": 17,
   "id": "9a4f4ef5",
   "metadata": {
    "execution": {
     "iopub.execute_input": "2023-04-22T15:38:22.526569Z",
     "iopub.status.busy": "2023-04-22T15:38:22.526243Z",
     "iopub.status.idle": "2023-04-22T15:38:32.209600Z",
     "shell.execute_reply": "2023-04-22T15:38:32.208239Z"
    },
    "papermill": {
     "duration": 9.696992,
     "end_time": "2023-04-22T15:38:32.214089",
     "exception": false,
     "start_time": "2023-04-22T15:38:22.517097",
     "status": "completed"
    },
    "tags": []
   },
   "outputs": [],
   "source": [
    "from sklearn.preprocessing import normalize\n",
    "normed_feat = normalize(feats, axis=1, norm='l2')"
   ]
  },
  {
   "cell_type": "code",
   "execution_count": 18,
   "id": "9d82ac61",
   "metadata": {
    "execution": {
     "iopub.execute_input": "2023-04-22T15:38:32.243700Z",
     "iopub.status.busy": "2023-04-22T15:38:32.243181Z",
     "iopub.status.idle": "2023-04-22T15:38:32.366317Z",
     "shell.execute_reply": "2023-04-22T15:38:32.365118Z"
    },
    "papermill": {
     "duration": 0.138966,
     "end_time": "2023-04-22T15:38:32.368446",
     "exception": false,
     "start_time": "2023-04-22T15:38:32.229480",
     "status": "completed"
    },
    "tags": []
   },
   "outputs": [
    {
     "data": {
      "text/plain": [
       "21"
      ]
     },
     "execution_count": 18,
     "metadata": {},
     "output_type": "execute_result"
    }
   ],
   "source": [
    "feats = normed_feat\n",
    "del normed_feat\n",
    "gc.collect()"
   ]
  },
  {
   "cell_type": "code",
   "execution_count": 19,
   "id": "1931de16",
   "metadata": {
    "execution": {
     "iopub.execute_input": "2023-04-22T15:38:32.387360Z",
     "iopub.status.busy": "2023-04-22T15:38:32.386455Z",
     "iopub.status.idle": "2023-04-22T15:38:34.149148Z",
     "shell.execute_reply": "2023-04-22T15:38:34.148055Z"
    },
    "papermill": {
     "duration": 1.774864,
     "end_time": "2023-04-22T15:38:34.151990",
     "exception": false,
     "start_time": "2023-04-22T15:38:32.377126",
     "status": "completed"
    },
    "tags": []
   },
   "outputs": [],
   "source": [
    "test_feats = normalize(test_feats, axis=1, norm='l2')"
   ]
  },
  {
   "cell_type": "code",
   "execution_count": 20,
   "id": "4062ac8a",
   "metadata": {
    "execution": {
     "iopub.execute_input": "2023-04-22T15:38:34.170887Z",
     "iopub.status.busy": "2023-04-22T15:38:34.170575Z",
     "iopub.status.idle": "2023-04-22T15:38:39.210259Z",
     "shell.execute_reply": "2023-04-22T15:38:39.209209Z"
    },
    "papermill": {
     "duration": 5.052022,
     "end_time": "2023-04-22T15:38:39.213072",
     "exception": false,
     "start_time": "2023-04-22T15:38:34.161050",
     "status": "completed"
    },
    "tags": []
   },
   "outputs": [],
   "source": [
    "index.train(feats.astype(np.float32))"
   ]
  },
  {
   "cell_type": "code",
   "execution_count": 21,
   "id": "e8b28634",
   "metadata": {
    "execution": {
     "iopub.execute_input": "2023-04-22T15:38:39.231758Z",
     "iopub.status.busy": "2023-04-22T15:38:39.231447Z",
     "iopub.status.idle": "2023-04-22T15:38:41.553879Z",
     "shell.execute_reply": "2023-04-22T15:38:41.552720Z"
    },
    "papermill": {
     "duration": 2.334747,
     "end_time": "2023-04-22T15:38:41.556689",
     "exception": false,
     "start_time": "2023-04-22T15:38:39.221942",
     "status": "completed"
    },
    "tags": []
   },
   "outputs": [
    {
     "data": {
      "text/plain": [
       "546862"
      ]
     },
     "execution_count": 21,
     "metadata": {},
     "output_type": "execute_result"
    }
   ],
   "source": [
    "index.add(feats.astype(np.float32))\n",
    "index.ntotal"
   ]
  },
  {
   "cell_type": "code",
   "execution_count": 22,
   "id": "1a5a6d4e",
   "metadata": {
    "execution": {
     "iopub.execute_input": "2023-04-22T15:38:41.574954Z",
     "iopub.status.busy": "2023-04-22T15:38:41.574660Z",
     "iopub.status.idle": "2023-04-22T15:38:41.581142Z",
     "shell.execute_reply": "2023-04-22T15:38:41.580211Z"
    },
    "papermill": {
     "duration": 0.018034,
     "end_time": "2023-04-22T15:38:41.583428",
     "exception": false,
     "start_time": "2023-04-22T15:38:41.565394",
     "status": "completed"
    },
    "tags": []
   },
   "outputs": [
    {
     "name": "stdout",
     "output_type": "stream",
     "text": [
      "(546862, 768) (546862, 5)\n"
     ]
    }
   ],
   "source": [
    "print(feats.shape, tr_df.shape)"
   ]
  },
  {
   "cell_type": "code",
   "execution_count": 23,
   "id": "fa6fe9a5",
   "metadata": {
    "execution": {
     "iopub.execute_input": "2023-04-22T15:38:41.601278Z",
     "iopub.status.busy": "2023-04-22T15:38:41.600979Z",
     "iopub.status.idle": "2023-04-22T15:38:41.605129Z",
     "shell.execute_reply": "2023-04-22T15:38:41.604062Z"
    },
    "papermill": {
     "duration": 0.015439,
     "end_time": "2023-04-22T15:38:41.607284",
     "exception": false,
     "start_time": "2023-04-22T15:38:41.591845",
     "status": "completed"
    },
    "tags": []
   },
   "outputs": [],
   "source": [
    "index.nprobe =10"
   ]
  },
  {
   "cell_type": "code",
   "execution_count": 24,
   "id": "a30cdb83",
   "metadata": {
    "execution": {
     "iopub.execute_input": "2023-04-22T15:38:41.625527Z",
     "iopub.status.busy": "2023-04-22T15:38:41.624714Z",
     "iopub.status.idle": "2023-04-22T15:38:41.696944Z",
     "shell.execute_reply": "2023-04-22T15:38:41.695907Z"
    },
    "papermill": {
     "duration": 0.083869,
     "end_time": "2023-04-22T15:38:41.699495",
     "exception": false,
     "start_time": "2023-04-22T15:38:41.615626",
     "status": "completed"
    },
    "tags": []
   },
   "outputs": [],
   "source": [
    "k = 10\n",
    "results = pd.DataFrame(columns=['PRODUCT_ID'])\n",
    "results['PRODUCT_ID'] = test_df['PRODUCT_ID']\n",
    "# results['values'] = np.zeros((test_df.shape[0]))\n",
    "result_values = []"
   ]
  },
  {
   "cell_type": "code",
   "execution_count": 25,
   "id": "4fcb4a99",
   "metadata": {
    "execution": {
     "iopub.execute_input": "2023-04-22T15:38:41.718028Z",
     "iopub.status.busy": "2023-04-22T15:38:41.717728Z",
     "iopub.status.idle": "2023-04-22T15:38:41.785036Z",
     "shell.execute_reply": "2023-04-22T15:38:41.784036Z"
    },
    "papermill": {
     "duration": 0.079372,
     "end_time": "2023-04-22T15:38:41.787588",
     "exception": false,
     "start_time": "2023-04-22T15:38:41.708216",
     "status": "completed"
    },
    "tags": []
   },
   "outputs": [],
   "source": [
    "results_mean = pd.DataFrame(columns=['PRODUCT_ID'])\n",
    "results_mean['PRODUCT_ID'] = test_df['PRODUCT_ID']\n",
    "results_mean['PRODUCT_LENGTH'] = np.zeros((test_df.shape[0]))"
   ]
  },
  {
   "cell_type": "code",
   "execution_count": 26,
   "id": "95ce62d9",
   "metadata": {
    "execution": {
     "iopub.execute_input": "2023-04-22T15:38:41.806339Z",
     "iopub.status.busy": "2023-04-22T15:38:41.805882Z",
     "iopub.status.idle": "2023-04-22T15:38:41.870447Z",
     "shell.execute_reply": "2023-04-22T15:38:41.869440Z"
    },
    "papermill": {
     "duration": 0.076343,
     "end_time": "2023-04-22T15:38:41.872644",
     "exception": false,
     "start_time": "2023-04-22T15:38:41.796301",
     "status": "completed"
    },
    "tags": []
   },
   "outputs": [],
   "source": [
    "results_min = pd.DataFrame(columns=['PRODUCT_ID'])\n",
    "results_min['PRODUCT_ID'] = test_df['PRODUCT_ID']\n",
    "results_min['PRODUCT_LENGTH'] = np.zeros((test_df.shape[0]))"
   ]
  },
  {
   "cell_type": "code",
   "execution_count": 27,
   "id": "17adbcd6",
   "metadata": {
    "execution": {
     "iopub.execute_input": "2023-04-22T15:38:41.891024Z",
     "iopub.status.busy": "2023-04-22T15:38:41.890725Z",
     "iopub.status.idle": "2023-04-22T15:38:41.955772Z",
     "shell.execute_reply": "2023-04-22T15:38:41.954755Z"
    },
    "papermill": {
     "duration": 0.07697,
     "end_time": "2023-04-22T15:38:41.958317",
     "exception": false,
     "start_time": "2023-04-22T15:38:41.881347",
     "status": "completed"
    },
    "tags": []
   },
   "outputs": [],
   "source": [
    "results_median = pd.DataFrame(columns=['PRODUCT_ID'])\n",
    "results_median['PRODUCT_ID'] = test_df['PRODUCT_ID']\n",
    "results_median['PRODUCT_LENGTH'] = np.zeros((test_df.shape[0]))"
   ]
  },
  {
   "cell_type": "code",
   "execution_count": 28,
   "id": "d434da4f",
   "metadata": {
    "execution": {
     "iopub.execute_input": "2023-04-22T15:38:41.977653Z",
     "iopub.status.busy": "2023-04-22T15:38:41.977116Z",
     "iopub.status.idle": "2023-04-22T15:38:42.044770Z",
     "shell.execute_reply": "2023-04-22T15:38:42.043730Z"
    },
    "papermill": {
     "duration": 0.080193,
     "end_time": "2023-04-22T15:38:42.047528",
     "exception": false,
     "start_time": "2023-04-22T15:38:41.967335",
     "status": "completed"
    },
    "tags": []
   },
   "outputs": [],
   "source": [
    "results_wt = pd.DataFrame(columns=['PRODUCT_ID'])\n",
    "results_wt['PRODUCT_ID'] = test_df['PRODUCT_ID']\n",
    "results_wt['PRODUCT_LENGTH'] = np.zeros((test_df.shape[0]))"
   ]
  },
  {
   "cell_type": "code",
   "execution_count": 29,
   "id": "cd0eba38",
   "metadata": {
    "execution": {
     "iopub.execute_input": "2023-04-22T15:38:42.066562Z",
     "iopub.status.busy": "2023-04-22T15:38:42.066244Z",
     "iopub.status.idle": "2023-04-22T15:38:42.136050Z",
     "shell.execute_reply": "2023-04-22T15:38:42.135014Z"
    },
    "papermill": {
     "duration": 0.082289,
     "end_time": "2023-04-22T15:38:42.138728",
     "exception": false,
     "start_time": "2023-04-22T15:38:42.056439",
     "status": "completed"
    },
    "tags": []
   },
   "outputs": [],
   "source": [
    "results_pr = pd.DataFrame(columns=['PRODUCT_ID'])\n",
    "results_pr['PRODUCT_ID'] = test_df['PRODUCT_ID']\n",
    "results_pr['PRODUCT_LENGTH'] = np.zeros((test_df.shape[0]))"
   ]
  },
  {
   "cell_type": "code",
   "execution_count": 30,
   "id": "d5019937",
   "metadata": {
    "execution": {
     "iopub.execute_input": "2023-04-22T15:38:42.158553Z",
     "iopub.status.busy": "2023-04-22T15:38:42.157680Z",
     "iopub.status.idle": "2023-04-22T15:38:42.164308Z",
     "shell.execute_reply": "2023-04-22T15:38:42.163394Z"
    },
    "papermill": {
     "duration": 0.018785,
     "end_time": "2023-04-22T15:38:42.166487",
     "exception": false,
     "start_time": "2023-04-22T15:38:42.147702",
     "status": "completed"
    },
    "tags": []
   },
   "outputs": [],
   "source": [
    "def get_value_weighted_score(arr, k):\n",
    "#     print(arr.shape)\n",
    "    new_arr = np.zeros(arr.shape)\n",
    "    tmp_k = k+1\n",
    "    s = 0\n",
    "    arr = np.sort(arr)\n",
    "    for i in range(arr.shape[0]):\n",
    "        val = arr[i]*tmp_k\n",
    "        s += tmp_k\n",
    "        new_arr[i] = val\n",
    "        tmp_k -= 1\n",
    "#         print(i, val, tmp_k, new_arr)\n",
    "    return np.sum(new_arr/s)"
   ]
  },
  {
   "cell_type": "code",
   "execution_count": 31,
   "id": "5d6e3022",
   "metadata": {
    "execution": {
     "iopub.execute_input": "2023-04-22T15:38:42.184456Z",
     "iopub.status.busy": "2023-04-22T15:38:42.184151Z",
     "iopub.status.idle": "2023-04-22T15:38:42.190091Z",
     "shell.execute_reply": "2023-04-22T15:38:42.189196Z"
    },
    "papermill": {
     "duration": 0.017174,
     "end_time": "2023-04-22T15:38:42.192066",
     "exception": false,
     "start_time": "2023-04-22T15:38:42.174892",
     "status": "completed"
    },
    "tags": []
   },
   "outputs": [],
   "source": [
    "def get_priority_weighted_score(arr, k):\n",
    "#     print(arr.shape)\n",
    "    new_arr = np.zeros(arr.shape)\n",
    "    tmp_k = k+1\n",
    "    s = 0\n",
    "    for i in range(arr.shape[0]):\n",
    "        val = arr[i]*tmp_k\n",
    "        s += tmp_k\n",
    "        new_arr[i] = val\n",
    "        tmp_k -= 1\n",
    "#         print(i, val, tmp_k, new_arr)\n",
    "    return np.sum(new_arr/s)"
   ]
  },
  {
   "cell_type": "code",
   "execution_count": 32,
   "id": "cabd5d68",
   "metadata": {
    "execution": {
     "iopub.execute_input": "2023-04-22T15:38:42.211651Z",
     "iopub.status.busy": "2023-04-22T15:38:42.211385Z",
     "iopub.status.idle": "2023-04-22T15:38:42.252955Z",
     "shell.execute_reply": "2023-04-22T15:38:42.252063Z"
    },
    "papermill": {
     "duration": 0.052913,
     "end_time": "2023-04-22T15:38:42.255118",
     "exception": false,
     "start_time": "2023-04-22T15:38:42.202205",
     "status": "completed"
    },
    "tags": []
   },
   "outputs": [
    {
     "data": {
      "text/plain": [
       "PRODUCT_ID    0\n",
       "TITLE         5\n",
       "dtype: int64"
      ]
     },
     "execution_count": 32,
     "metadata": {},
     "output_type": "execute_result"
    }
   ],
   "source": [
    "test_df.isna().sum()"
   ]
  },
  {
   "cell_type": "code",
   "execution_count": 33,
   "id": "d7d95392",
   "metadata": {
    "execution": {
     "iopub.execute_input": "2023-04-22T15:38:42.273984Z",
     "iopub.status.busy": "2023-04-22T15:38:42.273040Z",
     "iopub.status.idle": "2023-04-22T16:26:01.978665Z",
     "shell.execute_reply": "2023-04-22T16:26:01.977472Z"
    },
    "papermill": {
     "duration": 2839.718384,
     "end_time": "2023-04-22T16:26:01.981942",
     "exception": false,
     "start_time": "2023-04-22T15:38:42.263558",
     "status": "completed"
    },
    "tags": []
   },
   "outputs": [
    {
     "data": {
      "application/vnd.jupyter.widget-view+json": {
       "model_id": "5d3b8f15abe74ce994090bb86c39fc66",
       "version_major": 2,
       "version_minor": 0
      },
      "text/plain": [
       "  0%|          | 0/734736 [00:00<?, ?it/s]"
      ]
     },
     "metadata": {},
     "output_type": "display_data"
    },
    {
     "name": "stdout",
     "output_type": "stream",
     "text": [
      "row number: 0\n",
      "row number: 10000\n",
      "row number: 20000\n",
      "row number: 30000\n",
      "row number: 40000\n",
      "row number: 50000\n",
      "row number: 60000\n",
      "row number: 70000\n",
      "row number: 80000\n",
      "row number: 90000\n",
      "row number: 100000\n",
      "row number: 110000\n",
      "row number: 120000\n",
      "row number: 130000\n",
      "row number: 140000\n",
      "row number: 150000\n",
      "row number: 160000\n",
      "row number: 170000\n",
      "row number: 180000\n",
      "row number: 190000\n",
      "row number: 200000\n",
      "row number: 210000\n",
      "row number: 220000\n",
      "row number: 230000\n",
      "row number: 240000\n",
      "row number: 250000\n",
      "row number: 260000\n",
      "row number: 270000\n",
      "row number: 280000\n",
      "row number: 290000\n",
      "row number: 300000\n",
      "row number: 310000\n",
      "row number: 320000\n",
      "row number: 330000\n",
      "row number: 340000\n",
      "row number: 350000\n",
      "row number: 360000\n",
      "row number: 370000\n",
      "row number: 380000\n",
      "row number: 390000\n",
      "row number: 400000\n",
      "row number: 410000\n",
      "row number: 420000\n",
      "row number: 430000\n",
      "row number: 440000\n",
      "row number: 450000\n",
      "row number: 460000\n",
      "row number: 470000\n",
      "row number: 480000\n",
      "row number: 490000\n",
      "row number: 500000\n",
      "row number: 510000\n",
      "row number: 520000\n",
      "row number: 530000\n",
      "row number: 540000\n",
      "row number: 550000\n",
      "row number: 560000\n",
      "row number: 570000\n",
      "row number: 580000\n",
      "row number: 590000\n",
      "row number: 600000\n",
      "row number: 610000\n",
      "row number: 620000\n",
      "row number: 630000\n",
      "row number: 640000\n",
      "row number: 650000\n",
      "row number: 660000\n",
      "row number: 670000\n",
      "row number: 680000\n",
      "row number: 690000\n",
      "row number: 700000\n",
      "row number: 710000\n",
      "row number: 720000\n",
      "row number: 730000\n",
      "CPU times: user 47min 8s, sys: 14.2 s, total: 47min 22s\n",
      "Wall time: 47min 19s\n"
     ]
    }
   ],
   "source": [
    "%%time\n",
    "from tqdm.auto import tqdm\n",
    "k = 10\n",
    "verbose = False\n",
    "log_step = 10000\n",
    "rows = test_df.shape[0]\n",
    "result_values = []\n",
    "for row in tqdm(range(rows)):\n",
    "    start = time.time()\n",
    "    if row % log_step == 0:\n",
    "        print(f'row number: {row}')\n",
    "    if test_df.iloc[row]['TITLE'] is not np.NaN:\n",
    "        if verbose:\n",
    "            print(f'------------------{row}--------')\n",
    "        xq = np.array(test_feats[row]).astype(np.float32)\n",
    "        D, I = index.search(np.array([xq]), k)\n",
    "        if verbose:\n",
    "            print(f\"Test title: {test_df.iloc[row]['TITLE']}\")\n",
    "            print(f'Train titles:-')\n",
    "            print([f\"{i}: {tr_df.iloc[i]['TITLE']}\" for i in I[0]])\n",
    "        values = np.array([tr_df.iloc[i]['PRODUCT_LENGTH'] for i in I[0]])\n",
    "        mean = np.mean(values, axis=0)\n",
    "#         median = np.median(values, axis=0)\n",
    "#         minm = np.min(values, axis=0)\n",
    "#         wt = get_value_weighted_score(values, k)\n",
    "#         pr = get_priority_weighted_score(values, k)\n",
    "        if verbose:\n",
    "            print('--------------------------------')\n",
    "    else:\n",
    "        mean = 600\n",
    "#         median = 600\n",
    "#         minm = 600\n",
    "#         wt = 600\n",
    "    results_mean.loc[row, 'PRODUCT_LENGTH'] = mean\n",
    "#     results_min.loc[row, 'PRODUCT_LENGTH'] = minm\n",
    "#     results_median.loc[row, 'PRODUCT_LENGTH'] = median\n",
    "#     results_wt.loc[row, 'PRODUCT_LENGTH'] = wt\n",
    "#     results_pr.loc[row, 'PRODUCT_LENGTH'] = pr\n",
    "    result_values.append(values)\n",
    "    end = time.time()\n",
    "#     print(f'Time needed = {(end-start)*test_feats.shape[0]}')"
   ]
  },
  {
   "cell_type": "code",
   "execution_count": 34,
   "id": "210ac3d1",
   "metadata": {
    "execution": {
     "iopub.execute_input": "2023-04-22T16:26:02.010758Z",
     "iopub.status.busy": "2023-04-22T16:26:02.010074Z",
     "iopub.status.idle": "2023-04-22T16:26:03.236259Z",
     "shell.execute_reply": "2023-04-22T16:26:03.235192Z"
    },
    "papermill": {
     "duration": 1.243204,
     "end_time": "2023-04-22T16:26:03.239195",
     "exception": false,
     "start_time": "2023-04-22T16:26:01.995991",
     "status": "completed"
    },
    "tags": []
   },
   "outputs": [],
   "source": [
    "results_mean.to_csv('results_mean.csv', index=False)"
   ]
  },
  {
   "cell_type": "code",
   "execution_count": 35,
   "id": "85f4ce9e",
   "metadata": {
    "execution": {
     "iopub.execute_input": "2023-04-22T16:26:03.266955Z",
     "iopub.status.busy": "2023-04-22T16:26:03.266607Z",
     "iopub.status.idle": "2023-04-22T16:26:03.594558Z",
     "shell.execute_reply": "2023-04-22T16:26:03.593415Z"
    },
    "papermill": {
     "duration": 0.344918,
     "end_time": "2023-04-22T16:26:03.597377",
     "exception": false,
     "start_time": "2023-04-22T16:26:03.252459",
     "status": "completed"
    },
    "tags": []
   },
   "outputs": [
    {
     "name": "stdout",
     "output_type": "stream",
     "text": [
      "(734736, 10)\n"
     ]
    }
   ],
   "source": [
    "result_values_np = np.array(result_values)\n",
    "print(result_values_np.shape)\n",
    "np.save('result_values.npy', result_values_np)"
   ]
  },
  {
   "cell_type": "code",
   "execution_count": 36,
   "id": "5e567296",
   "metadata": {
    "execution": {
     "iopub.execute_input": "2023-04-22T16:26:03.625293Z",
     "iopub.status.busy": "2023-04-22T16:26:03.624889Z",
     "iopub.status.idle": "2023-04-22T16:26:03.739858Z",
     "shell.execute_reply": "2023-04-22T16:26:03.738840Z"
    },
    "papermill": {
     "duration": 0.132163,
     "end_time": "2023-04-22T16:26:03.742433",
     "exception": false,
     "start_time": "2023-04-22T16:26:03.610270",
     "status": "completed"
    },
    "tags": []
   },
   "outputs": [],
   "source": [
    "results['values'] = result_values"
   ]
  },
  {
   "cell_type": "code",
   "execution_count": 37,
   "id": "110c75a3",
   "metadata": {
    "execution": {
     "iopub.execute_input": "2023-04-22T16:26:03.769971Z",
     "iopub.status.busy": "2023-04-22T16:26:03.769633Z",
     "iopub.status.idle": "2023-04-22T16:27:40.412300Z",
     "shell.execute_reply": "2023-04-22T16:27:40.411114Z"
    },
    "papermill": {
     "duration": 96.659612,
     "end_time": "2023-04-22T16:27:40.415269",
     "exception": false,
     "start_time": "2023-04-22T16:26:03.755657",
     "status": "completed"
    },
    "tags": []
   },
   "outputs": [],
   "source": [
    "results.to_csv('results.csv', index=False)"
   ]
  },
  {
   "cell_type": "code",
   "execution_count": 38,
   "id": "382f075e",
   "metadata": {
    "execution": {
     "iopub.execute_input": "2023-04-22T16:27:40.442285Z",
     "iopub.status.busy": "2023-04-22T16:27:40.441923Z",
     "iopub.status.idle": "2023-04-22T16:27:40.446464Z",
     "shell.execute_reply": "2023-04-22T16:27:40.445366Z"
    },
    "papermill": {
     "duration": 0.020668,
     "end_time": "2023-04-22T16:27:40.449053",
     "exception": false,
     "start_time": "2023-04-22T16:27:40.428385",
     "status": "completed"
    },
    "tags": []
   },
   "outputs": [],
   "source": [
    "# results_mean.to_csv(\"submission_mean.csv\", index=False)\n",
    "# results_min.to_csv(\"submission_mean.csv\", index=False)\n",
    "# results_median.to_csv(\"submission_mean.csv\", index=False)\n",
    "# results_wt.to_csv(\"submission_mean.csv\", index=False)\n",
    "# results_pr.to_csv(\"submission_mean.csv\", index=False)"
   ]
  }
 ],
 "metadata": {
  "kernelspec": {
   "display_name": "Python 3",
   "language": "python",
   "name": "python3"
  },
  "language_info": {
   "codemirror_mode": {
    "name": "ipython",
    "version": 3
   },
   "file_extension": ".py",
   "mimetype": "text/x-python",
   "name": "python",
   "nbconvert_exporter": "python",
   "pygments_lexer": "ipython3",
   "version": "3.7.12"
  },
  "papermill": {
   "default_parameters": {},
   "duration": 3003.370256,
   "end_time": "2023-04-22T16:27:41.593904",
   "environment_variables": {},
   "exception": null,
   "input_path": "__notebook__.ipynb",
   "output_path": "__notebook__.ipynb",
   "parameters": {},
   "start_time": "2023-04-22T15:37:38.223648",
   "version": "2.4.0"
  },
  "widgets": {
   "application/vnd.jupyter.widget-state+json": {
    "state": {
     "0b252b81ff0348aa8830fa8ce115958f": {
      "model_module": "@jupyter-widgets/controls",
      "model_module_version": "1.5.0",
      "model_name": "DescriptionStyleModel",
      "state": {
       "_model_module": "@jupyter-widgets/controls",
       "_model_module_version": "1.5.0",
       "_model_name": "DescriptionStyleModel",
       "_view_count": null,
       "_view_module": "@jupyter-widgets/base",
       "_view_module_version": "1.2.0",
       "_view_name": "StyleView",
       "description_width": ""
      }
     },
     "2167ccfec1a04bd4b93c6b5da67f801d": {
      "model_module": "@jupyter-widgets/controls",
      "model_module_version": "1.5.0",
      "model_name": "FloatProgressModel",
      "state": {
       "_dom_classes": [],
       "_model_module": "@jupyter-widgets/controls",
       "_model_module_version": "1.5.0",
       "_model_name": "FloatProgressModel",
       "_view_count": null,
       "_view_module": "@jupyter-widgets/controls",
       "_view_module_version": "1.5.0",
       "_view_name": "ProgressView",
       "bar_style": "success",
       "description": "",
       "description_tooltip": null,
       "layout": "IPY_MODEL_d15d6af6d3de4ede98e3bf93e5a0985a",
       "max": 734736.0,
       "min": 0.0,
       "orientation": "horizontal",
       "style": "IPY_MODEL_f0b8f2dd89664fa0a0a4a4b75ffbbe60",
       "value": 734736.0
      }
     },
     "57600cba27684e7aa27385ef6a32f2cb": {
      "model_module": "@jupyter-widgets/controls",
      "model_module_version": "1.5.0",
      "model_name": "HTMLModel",
      "state": {
       "_dom_classes": [],
       "_model_module": "@jupyter-widgets/controls",
       "_model_module_version": "1.5.0",
       "_model_name": "HTMLModel",
       "_view_count": null,
       "_view_module": "@jupyter-widgets/controls",
       "_view_module_version": "1.5.0",
       "_view_name": "HTMLView",
       "description": "",
       "description_tooltip": null,
       "layout": "IPY_MODEL_d4d3b03da60a4f24b9525c41940d830d",
       "placeholder": "​",
       "style": "IPY_MODEL_9ecabee814464484a12196b0e38b78ac",
       "value": "100%"
      }
     },
     "5d3b8f15abe74ce994090bb86c39fc66": {
      "model_module": "@jupyter-widgets/controls",
      "model_module_version": "1.5.0",
      "model_name": "HBoxModel",
      "state": {
       "_dom_classes": [],
       "_model_module": "@jupyter-widgets/controls",
       "_model_module_version": "1.5.0",
       "_model_name": "HBoxModel",
       "_view_count": null,
       "_view_module": "@jupyter-widgets/controls",
       "_view_module_version": "1.5.0",
       "_view_name": "HBoxView",
       "box_style": "",
       "children": [
        "IPY_MODEL_57600cba27684e7aa27385ef6a32f2cb",
        "IPY_MODEL_2167ccfec1a04bd4b93c6b5da67f801d",
        "IPY_MODEL_66e8bca361f643f486e4f812d6316532"
       ],
       "layout": "IPY_MODEL_caf9055879144446af116bcda87a020b"
      }
     },
     "66e8bca361f643f486e4f812d6316532": {
      "model_module": "@jupyter-widgets/controls",
      "model_module_version": "1.5.0",
      "model_name": "HTMLModel",
      "state": {
       "_dom_classes": [],
       "_model_module": "@jupyter-widgets/controls",
       "_model_module_version": "1.5.0",
       "_model_name": "HTMLModel",
       "_view_count": null,
       "_view_module": "@jupyter-widgets/controls",
       "_view_module_version": "1.5.0",
       "_view_name": "HTMLView",
       "description": "",
       "description_tooltip": null,
       "layout": "IPY_MODEL_976a380b612f48088a0cca7ba96d9613",
       "placeholder": "​",
       "style": "IPY_MODEL_0b252b81ff0348aa8830fa8ce115958f",
       "value": " 734736/734736 [47:19&lt;00:00, 239.40it/s]"
      }
     },
     "976a380b612f48088a0cca7ba96d9613": {
      "model_module": "@jupyter-widgets/base",
      "model_module_version": "1.2.0",
      "model_name": "LayoutModel",
      "state": {
       "_model_module": "@jupyter-widgets/base",
       "_model_module_version": "1.2.0",
       "_model_name": "LayoutModel",
       "_view_count": null,
       "_view_module": "@jupyter-widgets/base",
       "_view_module_version": "1.2.0",
       "_view_name": "LayoutView",
       "align_content": null,
       "align_items": null,
       "align_self": null,
       "border": null,
       "bottom": null,
       "display": null,
       "flex": null,
       "flex_flow": null,
       "grid_area": null,
       "grid_auto_columns": null,
       "grid_auto_flow": null,
       "grid_auto_rows": null,
       "grid_column": null,
       "grid_gap": null,
       "grid_row": null,
       "grid_template_areas": null,
       "grid_template_columns": null,
       "grid_template_rows": null,
       "height": null,
       "justify_content": null,
       "justify_items": null,
       "left": null,
       "margin": null,
       "max_height": null,
       "max_width": null,
       "min_height": null,
       "min_width": null,
       "object_fit": null,
       "object_position": null,
       "order": null,
       "overflow": null,
       "overflow_x": null,
       "overflow_y": null,
       "padding": null,
       "right": null,
       "top": null,
       "visibility": null,
       "width": null
      }
     },
     "9ecabee814464484a12196b0e38b78ac": {
      "model_module": "@jupyter-widgets/controls",
      "model_module_version": "1.5.0",
      "model_name": "DescriptionStyleModel",
      "state": {
       "_model_module": "@jupyter-widgets/controls",
       "_model_module_version": "1.5.0",
       "_model_name": "DescriptionStyleModel",
       "_view_count": null,
       "_view_module": "@jupyter-widgets/base",
       "_view_module_version": "1.2.0",
       "_view_name": "StyleView",
       "description_width": ""
      }
     },
     "caf9055879144446af116bcda87a020b": {
      "model_module": "@jupyter-widgets/base",
      "model_module_version": "1.2.0",
      "model_name": "LayoutModel",
      "state": {
       "_model_module": "@jupyter-widgets/base",
       "_model_module_version": "1.2.0",
       "_model_name": "LayoutModel",
       "_view_count": null,
       "_view_module": "@jupyter-widgets/base",
       "_view_module_version": "1.2.0",
       "_view_name": "LayoutView",
       "align_content": null,
       "align_items": null,
       "align_self": null,
       "border": null,
       "bottom": null,
       "display": null,
       "flex": null,
       "flex_flow": null,
       "grid_area": null,
       "grid_auto_columns": null,
       "grid_auto_flow": null,
       "grid_auto_rows": null,
       "grid_column": null,
       "grid_gap": null,
       "grid_row": null,
       "grid_template_areas": null,
       "grid_template_columns": null,
       "grid_template_rows": null,
       "height": null,
       "justify_content": null,
       "justify_items": null,
       "left": null,
       "margin": null,
       "max_height": null,
       "max_width": null,
       "min_height": null,
       "min_width": null,
       "object_fit": null,
       "object_position": null,
       "order": null,
       "overflow": null,
       "overflow_x": null,
       "overflow_y": null,
       "padding": null,
       "right": null,
       "top": null,
       "visibility": null,
       "width": null
      }
     },
     "d15d6af6d3de4ede98e3bf93e5a0985a": {
      "model_module": "@jupyter-widgets/base",
      "model_module_version": "1.2.0",
      "model_name": "LayoutModel",
      "state": {
       "_model_module": "@jupyter-widgets/base",
       "_model_module_version": "1.2.0",
       "_model_name": "LayoutModel",
       "_view_count": null,
       "_view_module": "@jupyter-widgets/base",
       "_view_module_version": "1.2.0",
       "_view_name": "LayoutView",
       "align_content": null,
       "align_items": null,
       "align_self": null,
       "border": null,
       "bottom": null,
       "display": null,
       "flex": null,
       "flex_flow": null,
       "grid_area": null,
       "grid_auto_columns": null,
       "grid_auto_flow": null,
       "grid_auto_rows": null,
       "grid_column": null,
       "grid_gap": null,
       "grid_row": null,
       "grid_template_areas": null,
       "grid_template_columns": null,
       "grid_template_rows": null,
       "height": null,
       "justify_content": null,
       "justify_items": null,
       "left": null,
       "margin": null,
       "max_height": null,
       "max_width": null,
       "min_height": null,
       "min_width": null,
       "object_fit": null,
       "object_position": null,
       "order": null,
       "overflow": null,
       "overflow_x": null,
       "overflow_y": null,
       "padding": null,
       "right": null,
       "top": null,
       "visibility": null,
       "width": null
      }
     },
     "d4d3b03da60a4f24b9525c41940d830d": {
      "model_module": "@jupyter-widgets/base",
      "model_module_version": "1.2.0",
      "model_name": "LayoutModel",
      "state": {
       "_model_module": "@jupyter-widgets/base",
       "_model_module_version": "1.2.0",
       "_model_name": "LayoutModel",
       "_view_count": null,
       "_view_module": "@jupyter-widgets/base",
       "_view_module_version": "1.2.0",
       "_view_name": "LayoutView",
       "align_content": null,
       "align_items": null,
       "align_self": null,
       "border": null,
       "bottom": null,
       "display": null,
       "flex": null,
       "flex_flow": null,
       "grid_area": null,
       "grid_auto_columns": null,
       "grid_auto_flow": null,
       "grid_auto_rows": null,
       "grid_column": null,
       "grid_gap": null,
       "grid_row": null,
       "grid_template_areas": null,
       "grid_template_columns": null,
       "grid_template_rows": null,
       "height": null,
       "justify_content": null,
       "justify_items": null,
       "left": null,
       "margin": null,
       "max_height": null,
       "max_width": null,
       "min_height": null,
       "min_width": null,
       "object_fit": null,
       "object_position": null,
       "order": null,
       "overflow": null,
       "overflow_x": null,
       "overflow_y": null,
       "padding": null,
       "right": null,
       "top": null,
       "visibility": null,
       "width": null
      }
     },
     "f0b8f2dd89664fa0a0a4a4b75ffbbe60": {
      "model_module": "@jupyter-widgets/controls",
      "model_module_version": "1.5.0",
      "model_name": "ProgressStyleModel",
      "state": {
       "_model_module": "@jupyter-widgets/controls",
       "_model_module_version": "1.5.0",
       "_model_name": "ProgressStyleModel",
       "_view_count": null,
       "_view_module": "@jupyter-widgets/base",
       "_view_module_version": "1.2.0",
       "_view_name": "StyleView",
       "bar_color": null,
       "description_width": ""
      }
     }
    },
    "version_major": 2,
    "version_minor": 0
   }
  }
 },
 "nbformat": 4,
 "nbformat_minor": 5
}
