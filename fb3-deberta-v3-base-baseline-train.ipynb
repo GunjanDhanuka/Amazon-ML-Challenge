{
 "cells": [
  {
   "cell_type": "markdown",
   "id": "4487dd87",
   "metadata": {
    "papermill": {
     "duration": 0.006995,
     "end_time": "2022-08-31T22:31:20.199821",
     "exception": false,
     "start_time": "2022-08-31T22:31:20.192826",
     "status": "completed"
    },
    "tags": []
   },
   "source": [
    "# About this notebook\n",
    "- Deberta-v3-base starter code\n",
    "- pip wheels is [here](https://www.kaggle.com/code/yasufuminakama/fb3-pip-wheels)\n",
    "- Inference notebook is [here](https://www.kaggle.com/yasufuminakama/fb3-deberta-v3-base-baseline-inference)\n",
    "\n",
    "If this notebook is helpful, feel free to upvote :)"
   ]
  },
  {
   "cell_type": "markdown",
   "id": "00af3d33",
   "metadata": {
    "papermill": {
     "duration": 0.006899,
     "end_time": "2022-08-31T22:31:20.215491",
     "exception": false,
     "start_time": "2022-08-31T22:31:20.208592",
     "status": "completed"
    },
    "tags": []
   },
   "source": [
    "# Directory settings"
   ]
  },
  {
   "cell_type": "code",
   "execution_count": 1,
   "id": "9f89e5f8",
   "metadata": {
    "execution": {
     "iopub.execute_input": "2022-08-31T22:31:20.233612Z",
     "iopub.status.busy": "2022-08-31T22:31:20.233146Z",
     "iopub.status.idle": "2022-08-31T22:31:20.248183Z",
     "shell.execute_reply": "2022-08-31T22:31:20.247226Z"
    },
    "papermill": {
     "duration": 0.027843,
     "end_time": "2022-08-31T22:31:20.251266",
     "exception": false,
     "start_time": "2022-08-31T22:31:20.223423",
     "status": "completed"
    },
    "tags": []
   },
   "outputs": [],
   "source": [
    "# ====================================================\n",
    "# Directory settings\n",
    "# ====================================================\n",
    "import os\n",
    "\n",
    "OUTPUT_DIR = './'\n",
    "if not os.path.exists(OUTPUT_DIR):\n",
    "    os.makedirs(OUTPUT_DIR)"
   ]
  },
  {
   "cell_type": "markdown",
   "id": "8b42ab58",
   "metadata": {
    "papermill": {
     "duration": 0.00523,
     "end_time": "2022-08-31T22:31:20.262025",
     "exception": false,
     "start_time": "2022-08-31T22:31:20.256795",
     "status": "completed"
    },
    "tags": []
   },
   "source": [
    "# CFG"
   ]
  },
  {
   "cell_type": "code",
   "execution_count": 2,
   "id": "e5d62d96",
   "metadata": {
    "execution": {
     "iopub.execute_input": "2022-08-31T22:31:20.275246Z",
     "iopub.status.busy": "2022-08-31T22:31:20.274550Z",
     "iopub.status.idle": "2022-08-31T22:31:20.282480Z",
     "shell.execute_reply": "2022-08-31T22:31:20.281625Z"
    },
    "papermill": {
     "duration": 0.01687,
     "end_time": "2022-08-31T22:31:20.284537",
     "exception": false,
     "start_time": "2022-08-31T22:31:20.267667",
     "status": "completed"
    },
    "tags": []
   },
   "outputs": [],
   "source": [
    "# ====================================================\n",
    "# CFG\n",
    "# ====================================================\n",
    "class CFG:\n",
    "    wandb=True\n",
    "    competition='Amazon'\n",
    "    _wandb_kernel='gunjan'\n",
    "    debug=False\n",
    "    apex=True\n",
    "    print_freq=20\n",
    "    num_workers=4\n",
    "    model=\"microsoft/deberta-v3-base\"\n",
    "    gradient_checkpointing=True\n",
    "    scheduler='cosine' # ['linear', 'cosine']\n",
    "    batch_scheduler=True\n",
    "    num_cycles=0.5\n",
    "    num_warmup_steps=0\n",
    "    epochs=4\n",
    "    encoder_lr=2e-5\n",
    "    decoder_lr=2e-5\n",
    "    min_lr=1e-6\n",
    "    eps=1e-6\n",
    "    betas=(0.9, 0.999)\n",
    "    batch_size=8\n",
    "    max_len=512\n",
    "    weight_decay=0.01\n",
    "    gradient_accumulation_steps=1\n",
    "    max_grad_norm=1000\n",
    "    target_cols=['PRODUCT_LENGTH']\n",
    "    seed=42\n",
    "    n_fold=4\n",
    "    trn_fold=[0, 1, 2, 3]\n",
    "    train=True\n",
    "    \n",
    "if CFG.debug:\n",
    "    CFG.epochs = 2\n",
    "    CFG.trn_fold = [0]"
   ]
  },
  {
   "cell_type": "code",
   "execution_count": 4,
   "id": "4692bb04",
   "metadata": {
    "execution": {
     "iopub.execute_input": "2022-08-31T22:31:20.297610Z",
     "iopub.status.busy": "2022-08-31T22:31:20.296833Z",
     "iopub.status.idle": "2022-08-31T22:31:29.392500Z",
     "shell.execute_reply": "2022-08-31T22:31:29.391447Z"
    },
    "papermill": {
     "duration": 9.105575,
     "end_time": "2022-08-31T22:31:29.395630",
     "exception": false,
     "start_time": "2022-08-31T22:31:20.290055",
     "status": "completed"
    },
    "tags": []
   },
   "outputs": [
    {
     "name": "stderr",
     "output_type": "stream",
     "text": [
      "Failed to detect the name of this notebook, you can set it manually with the WANDB_NOTEBOOK_NAME environment variable to enable code saving.\n",
      "\u001b[34m\u001b[1mwandb\u001b[0m: Currently logged in as: \u001b[33mgunjandhanuka\u001b[0m. Use \u001b[1m`wandb login --relogin`\u001b[0m to force relogin\n"
     ]
    },
    {
     "data": {
      "application/vnd.jupyter.widget-view+json": {
       "model_id": "4637b4f6dd8f45c5aa815258005f3e46",
       "version_major": 2,
       "version_minor": 0
      },
      "text/plain": [
       "VBox(children=(Label(value='Waiting for wandb.init()...\\r'), FloatProgress(value=0.016669287700005954, max=1.0…"
      ]
     },
     "metadata": {},
     "output_type": "display_data"
    },
    {
     "data": {
      "text/html": [
       "Tracking run with wandb version 0.15.0"
      ],
      "text/plain": [
       "<IPython.core.display.HTML object>"
      ]
     },
     "metadata": {},
     "output_type": "display_data"
    },
    {
     "data": {
      "text/html": [
       "Run data is saved locally in <code>/home/gunjan/Desktop/amazon/wandb/run-20230421_010147-jpffefj0</code>"
      ],
      "text/plain": [
       "<IPython.core.display.HTML object>"
      ]
     },
     "metadata": {},
     "output_type": "display_data"
    },
    {
     "data": {
      "text/html": [
       "Syncing run <strong><a href='https://wandb.ai/gunjandhanuka/FB3-Public/runs/jpffefj0' target=\"_blank\">microsoft/deberta-v3-base</a></strong> to <a href='https://wandb.ai/gunjandhanuka/FB3-Public' target=\"_blank\">Weights & Biases</a> (<a href='https://wandb.me/run' target=\"_blank\">docs</a>)<br/>"
      ],
      "text/plain": [
       "<IPython.core.display.HTML object>"
      ]
     },
     "metadata": {},
     "output_type": "display_data"
    },
    {
     "data": {
      "text/html": [
       " View project at <a href='https://wandb.ai/gunjandhanuka/FB3-Public' target=\"_blank\">https://wandb.ai/gunjandhanuka/FB3-Public</a>"
      ],
      "text/plain": [
       "<IPython.core.display.HTML object>"
      ]
     },
     "metadata": {},
     "output_type": "display_data"
    },
    {
     "data": {
      "text/html": [
       " View run at <a href='https://wandb.ai/gunjandhanuka/FB3-Public/runs/jpffefj0' target=\"_blank\">https://wandb.ai/gunjandhanuka/FB3-Public/runs/jpffefj0</a>"
      ],
      "text/plain": [
       "<IPython.core.display.HTML object>"
      ]
     },
     "metadata": {},
     "output_type": "display_data"
    }
   ],
   "source": [
    "# ====================================================\n",
    "# wandb\n",
    "# ====================================================\n",
    "if CFG.wandb:\n",
    "    \n",
    "    import wandb\n",
    "\n",
    "    try:\n",
    "        # from kaggle_secrets import UserSecretsClient\n",
    "        # user_secrets = UserSecretsClient()\n",
    "        # secret_value_0 = user_secrets.get_secret(\"wandb_api\")\n",
    "        # wandb.login(key=secret_value_0)\n",
    "        wandb.login()\n",
    "        anony = None\n",
    "    except:\n",
    "        anony = \"must\"\n",
    "        print('If you want to use your W&B account, go to Add-ons -> Secrets and provide your W&B access token. Use the Label name as wandb_api. \\nGet your W&B access token from here: https://wandb.ai/authorize')\n",
    "\n",
    "\n",
    "    def class2dict(f):\n",
    "        return dict((name, getattr(f, name)) for name in dir(f) if not name.startswith('__'))\n",
    "\n",
    "    run = wandb.init(project='FB3-Public', \n",
    "                     name=CFG.model,\n",
    "                     config=class2dict(CFG),\n",
    "                     group=CFG.model,\n",
    "                     job_type=\"train\",\n",
    "                     anonymous=anony)"
   ]
  },
  {
   "cell_type": "markdown",
   "id": "b59ce0b2",
   "metadata": {
    "papermill": {
     "duration": 0.009322,
     "end_time": "2022-08-31T22:31:29.415506",
     "exception": false,
     "start_time": "2022-08-31T22:31:29.406184",
     "status": "completed"
    },
    "tags": []
   },
   "source": [
    "# Library"
   ]
  },
  {
   "cell_type": "code",
   "execution_count": 4,
   "id": "f513d712",
   "metadata": {
    "execution": {
     "iopub.execute_input": "2022-08-31T22:31:29.436467Z",
     "iopub.status.busy": "2022-08-31T22:31:29.436018Z",
     "iopub.status.idle": "2022-08-31T22:32:28.081444Z",
     "shell.execute_reply": "2022-08-31T22:32:28.080370Z"
    },
    "papermill": {
     "duration": 58.659308,
     "end_time": "2022-08-31T22:32:28.084435",
     "exception": false,
     "start_time": "2022-08-31T22:31:29.425127",
     "status": "completed"
    },
    "tags": []
   },
   "outputs": [
    {
     "name": "stdout",
     "output_type": "stream",
     "text": [
      "tokenizers.__version__: 0.13.3\n",
      "transformers.__version__: 4.28.1\n",
      "env: TOKENIZERS_PARALLELISM=true\n"
     ]
    }
   ],
   "source": [
    "# ====================================================\n",
    "# Library\n",
    "# ====================================================\n",
    "import os\n",
    "import gc\n",
    "import re\n",
    "import ast\n",
    "import sys\n",
    "import copy\n",
    "import json\n",
    "import time\n",
    "import math\n",
    "import string\n",
    "import pickle\n",
    "import random\n",
    "import joblib\n",
    "import itertools\n",
    "import warnings\n",
    "warnings.filterwarnings(\"ignore\")\n",
    "\n",
    "import scipy as sp\n",
    "import numpy as np\n",
    "import pandas as pd\n",
    "pd.set_option('display.max_rows', 500)\n",
    "pd.set_option('display.max_columns', 500)\n",
    "pd.set_option('display.width', 1000)\n",
    "from tqdm.auto import tqdm\n",
    "from sklearn.metrics import mean_squared_error\n",
    "from sklearn.model_selection import StratifiedKFold, GroupKFold, KFold\n",
    "\n",
    "# os.system('pip install iterative-stratification==0.1.7')\n",
    "from iterstrat.ml_stratifiers import MultilabelStratifiedKFold\n",
    "\n",
    "import torch\n",
    "import torch.nn as nn\n",
    "from torch.nn import Parameter\n",
    "import torch.nn.functional as F\n",
    "from torch.optim import Adam, SGD, AdamW\n",
    "from torch.utils.data import DataLoader, Dataset\n",
    "\n",
    "# os.system('pip uninstall -y transformers')\n",
    "# os.system('pip uninstall -y tokenizers')\n",
    "# os.system('python -m pip install --no-index --find-links=../input/fb3-pip-wheels transformers')\n",
    "# os.system('python -m pip install --no-index --find-links=../input/fb3-pip-wheels tokenizers')\n",
    "import tokenizers\n",
    "import transformers\n",
    "print(f\"tokenizers.__version__: {tokenizers.__version__}\")\n",
    "print(f\"transformers.__version__: {transformers.__version__}\")\n",
    "from transformers import AutoTokenizer, AutoModel, AutoConfig\n",
    "from transformers import get_linear_schedule_with_warmup, get_cosine_schedule_with_warmup\n",
    "%env TOKENIZERS_PARALLELISM=true\n",
    "\n",
    "device = torch.device('cuda' if torch.cuda.is_available() else 'cpu')"
   ]
  },
  {
   "cell_type": "markdown",
   "id": "c521bb35",
   "metadata": {
    "papermill": {
     "duration": 0.015189,
     "end_time": "2022-08-31T22:32:28.113643",
     "exception": false,
     "start_time": "2022-08-31T22:32:28.098454",
     "status": "completed"
    },
    "tags": []
   },
   "source": [
    "# Utils"
   ]
  },
  {
   "cell_type": "code",
   "execution_count": 5,
   "id": "37e2a622",
   "metadata": {
    "execution": {
     "iopub.execute_input": "2022-08-31T22:32:28.142081Z",
     "iopub.status.busy": "2022-08-31T22:32:28.140999Z",
     "iopub.status.idle": "2022-08-31T22:32:28.163185Z",
     "shell.execute_reply": "2022-08-31T22:32:28.162199Z"
    },
    "papermill": {
     "duration": 0.039148,
     "end_time": "2022-08-31T22:32:28.165976",
     "exception": false,
     "start_time": "2022-08-31T22:32:28.126828",
     "status": "completed"
    },
    "tags": []
   },
   "outputs": [],
   "source": [
    "# ====================================================\n",
    "# Utils\n",
    "# ====================================================\n",
    "def MCRMSE(y_trues, y_preds):\n",
    "    scores = []\n",
    "    idxes = y_trues.shape[1]\n",
    "    for i in range(idxes):\n",
    "        y_true = y_trues[:,i]\n",
    "        y_pred = y_preds[:,i]\n",
    "        score = mean_squared_error(y_true, y_pred, squared=False) # RMSE\n",
    "        scores.append(score)\n",
    "    mcrmse_score = np.mean(scores)\n",
    "    return mcrmse_score, scores\n",
    "\n",
    "\n",
    "def get_score(y_trues, y_preds):\n",
    "    mcrmse_score, scores = MCRMSE(y_trues, y_preds)\n",
    "    return mcrmse_score, scores\n",
    "\n",
    "\n",
    "def get_logger(filename=OUTPUT_DIR+'train'):\n",
    "    from logging import getLogger, INFO, StreamHandler, FileHandler, Formatter\n",
    "    logger = getLogger(__name__)\n",
    "    logger.setLevel(INFO)\n",
    "    handler1 = StreamHandler()\n",
    "    handler1.setFormatter(Formatter(\"%(message)s\"))\n",
    "    handler2 = FileHandler(filename=f\"{filename}.log\")\n",
    "    handler2.setFormatter(Formatter(\"%(message)s\"))\n",
    "    logger.addHandler(handler1)\n",
    "    logger.addHandler(handler2)\n",
    "    return logger\n",
    "\n",
    "LOGGER = get_logger()\n",
    "\n",
    "\n",
    "def seed_everything(seed=42):\n",
    "    random.seed(seed)\n",
    "    os.environ['PYTHONHASHSEED'] = str(seed)\n",
    "    np.random.seed(seed)\n",
    "    torch.manual_seed(seed)\n",
    "    torch.cuda.manual_seed(seed)\n",
    "    torch.backends.cudnn.deterministic = True\n",
    "    \n",
    "seed_everything(seed=42)"
   ]
  },
  {
   "cell_type": "markdown",
   "id": "94e95c84",
   "metadata": {
    "papermill": {
     "duration": 0.010764,
     "end_time": "2022-08-31T22:32:28.191852",
     "exception": false,
     "start_time": "2022-08-31T22:32:28.181088",
     "status": "completed"
    },
    "tags": []
   },
   "source": [
    "# Data Loading"
   ]
  },
  {
   "cell_type": "code",
   "execution_count": 6,
   "id": "db454733",
   "metadata": {
    "execution": {
     "iopub.execute_input": "2022-08-31T22:32:28.216397Z",
     "iopub.status.busy": "2022-08-31T22:32:28.215550Z",
     "iopub.status.idle": "2022-08-31T22:32:28.504765Z",
     "shell.execute_reply": "2022-08-31T22:32:28.503570Z"
    },
    "papermill": {
     "duration": 0.304959,
     "end_time": "2022-08-31T22:32:28.508101",
     "exception": false,
     "start_time": "2022-08-31T22:32:28.203142",
     "status": "completed"
    },
    "tags": []
   },
   "outputs": [
    {
     "name": "stdout",
     "output_type": "stream",
     "text": [
      "train.shape: (2249698, 6)\n"
     ]
    },
    {
     "data": {
      "text/html": [
       "<div>\n",
       "<style scoped>\n",
       "    .dataframe tbody tr th:only-of-type {\n",
       "        vertical-align: middle;\n",
       "    }\n",
       "\n",
       "    .dataframe tbody tr th {\n",
       "        vertical-align: top;\n",
       "    }\n",
       "\n",
       "    .dataframe thead th {\n",
       "        text-align: right;\n",
       "    }\n",
       "</style>\n",
       "<table border=\"1\" class=\"dataframe\">\n",
       "  <thead>\n",
       "    <tr style=\"text-align: right;\">\n",
       "      <th></th>\n",
       "      <th>PRODUCT_ID</th>\n",
       "      <th>TITLE</th>\n",
       "      <th>BULLET_POINTS</th>\n",
       "      <th>DESCRIPTION</th>\n",
       "      <th>PRODUCT_TYPE_ID</th>\n",
       "      <th>PRODUCT_LENGTH</th>\n",
       "    </tr>\n",
       "  </thead>\n",
       "  <tbody>\n",
       "    <tr>\n",
       "      <th>0</th>\n",
       "      <td>1925202</td>\n",
       "      <td>ArtzFolio Tulip Flowers Blackout Curtain for D...</td>\n",
       "      <td>[LUXURIOUS &amp; APPEALING: Beautiful custom-made ...</td>\n",
       "      <td>NaN</td>\n",
       "      <td>1650</td>\n",
       "      <td>2125.980000</td>\n",
       "    </tr>\n",
       "    <tr>\n",
       "      <th>1</th>\n",
       "      <td>2673191</td>\n",
       "      <td>Marks &amp; Spencer Girls' Pyjama Sets T86_2561C_N...</td>\n",
       "      <td>[Harry Potter Hedwig Pyjamas (6-16 Yrs),100% c...</td>\n",
       "      <td>NaN</td>\n",
       "      <td>2755</td>\n",
       "      <td>393.700000</td>\n",
       "    </tr>\n",
       "    <tr>\n",
       "      <th>2</th>\n",
       "      <td>2765088</td>\n",
       "      <td>PRIKNIK Horn Red Electric Air Horn Compressor ...</td>\n",
       "      <td>[Loud Dual Tone Trumpet Horn, Compatible With ...</td>\n",
       "      <td>Specifications: Color: Red, Material: Aluminiu...</td>\n",
       "      <td>7537</td>\n",
       "      <td>748.031495</td>\n",
       "    </tr>\n",
       "    <tr>\n",
       "      <th>3</th>\n",
       "      <td>1594019</td>\n",
       "      <td>ALISHAH Women's Cotton Ankle Length Leggings C...</td>\n",
       "      <td>[Made By 95%cotton and 5% Lycra which gives yo...</td>\n",
       "      <td>AISHAH Women's Lycra Cotton Ankel Leggings. Br...</td>\n",
       "      <td>2996</td>\n",
       "      <td>787.401574</td>\n",
       "    </tr>\n",
       "    <tr>\n",
       "      <th>4</th>\n",
       "      <td>283658</td>\n",
       "      <td>The United Empire Loyalists: A Chronicle of th...</td>\n",
       "      <td>NaN</td>\n",
       "      <td>NaN</td>\n",
       "      <td>6112</td>\n",
       "      <td>598.424000</td>\n",
       "    </tr>\n",
       "  </tbody>\n",
       "</table>\n",
       "</div>"
      ],
      "text/plain": [
       "   PRODUCT_ID                                              TITLE                                      BULLET_POINTS                                        DESCRIPTION  PRODUCT_TYPE_ID  PRODUCT_LENGTH\n",
       "0     1925202  ArtzFolio Tulip Flowers Blackout Curtain for D...  [LUXURIOUS & APPEALING: Beautiful custom-made ...                                                NaN             1650     2125.980000\n",
       "1     2673191  Marks & Spencer Girls' Pyjama Sets T86_2561C_N...  [Harry Potter Hedwig Pyjamas (6-16 Yrs),100% c...                                                NaN             2755      393.700000\n",
       "2     2765088  PRIKNIK Horn Red Electric Air Horn Compressor ...  [Loud Dual Tone Trumpet Horn, Compatible With ...  Specifications: Color: Red, Material: Aluminiu...             7537      748.031495\n",
       "3     1594019  ALISHAH Women's Cotton Ankle Length Leggings C...  [Made By 95%cotton and 5% Lycra which gives yo...  AISHAH Women's Lycra Cotton Ankel Leggings. Br...             2996      787.401574\n",
       "4      283658  The United Empire Loyalists: A Chronicle of th...                                                NaN                                                NaN             6112      598.424000"
      ]
     },
     "metadata": {},
     "output_type": "display_data"
    },
    {
     "name": "stdout",
     "output_type": "stream",
     "text": [
      "test.shape: (734736, 5)\n"
     ]
    },
    {
     "data": {
      "text/html": [
       "<div>\n",
       "<style scoped>\n",
       "    .dataframe tbody tr th:only-of-type {\n",
       "        vertical-align: middle;\n",
       "    }\n",
       "\n",
       "    .dataframe tbody tr th {\n",
       "        vertical-align: top;\n",
       "    }\n",
       "\n",
       "    .dataframe thead th {\n",
       "        text-align: right;\n",
       "    }\n",
       "</style>\n",
       "<table border=\"1\" class=\"dataframe\">\n",
       "  <thead>\n",
       "    <tr style=\"text-align: right;\">\n",
       "      <th></th>\n",
       "      <th>PRODUCT_ID</th>\n",
       "      <th>TITLE</th>\n",
       "      <th>BULLET_POINTS</th>\n",
       "      <th>DESCRIPTION</th>\n",
       "      <th>PRODUCT_TYPE_ID</th>\n",
       "    </tr>\n",
       "  </thead>\n",
       "  <tbody>\n",
       "    <tr>\n",
       "      <th>0</th>\n",
       "      <td>604373</td>\n",
       "      <td>Manuel d'Héliogravure Et de Photogravure En Re...</td>\n",
       "      <td>NaN</td>\n",
       "      <td>NaN</td>\n",
       "      <td>6142</td>\n",
       "    </tr>\n",
       "    <tr>\n",
       "      <th>1</th>\n",
       "      <td>1729783</td>\n",
       "      <td>DCGARING Microfiber Throw Blanket Warm Fuzzy P...</td>\n",
       "      <td>[QUALITY GUARANTEED: Luxury cozy plush polyest...</td>\n",
       "      <td>&lt;b&gt;DCGARING Throw Blanket&lt;/b&gt;&lt;br&gt;&lt;br&gt; &lt;b&gt;Size ...</td>\n",
       "      <td>1622</td>\n",
       "    </tr>\n",
       "    <tr>\n",
       "      <th>2</th>\n",
       "      <td>1871949</td>\n",
       "      <td>I-Match Auto Parts Front License Plate Bracket...</td>\n",
       "      <td>[Front License Plate Bracket Made Of Plastic,D...</td>\n",
       "      <td>Replacement for The Following Vehicles:2020 LE...</td>\n",
       "      <td>7540</td>\n",
       "    </tr>\n",
       "    <tr>\n",
       "      <th>3</th>\n",
       "      <td>1107571</td>\n",
       "      <td>PinMart Gold Plated Excellence in Service 1 Ye...</td>\n",
       "      <td>[Available as a single item or bulk packed. Se...</td>\n",
       "      <td>Our Excellence in Service Lapel Pins feature a...</td>\n",
       "      <td>12442</td>\n",
       "    </tr>\n",
       "    <tr>\n",
       "      <th>4</th>\n",
       "      <td>624253</td>\n",
       "      <td>Visual Mathematics, Illustrated by the TI-92 a...</td>\n",
       "      <td>NaN</td>\n",
       "      <td>NaN</td>\n",
       "      <td>6318</td>\n",
       "    </tr>\n",
       "  </tbody>\n",
       "</table>\n",
       "</div>"
      ],
      "text/plain": [
       "   PRODUCT_ID                                              TITLE                                      BULLET_POINTS                                        DESCRIPTION  PRODUCT_TYPE_ID\n",
       "0      604373  Manuel d'Héliogravure Et de Photogravure En Re...                                                NaN                                                NaN             6142\n",
       "1     1729783  DCGARING Microfiber Throw Blanket Warm Fuzzy P...  [QUALITY GUARANTEED: Luxury cozy plush polyest...  <b>DCGARING Throw Blanket</b><br><br> <b>Size ...             1622\n",
       "2     1871949  I-Match Auto Parts Front License Plate Bracket...  [Front License Plate Bracket Made Of Plastic,D...  Replacement for The Following Vehicles:2020 LE...             7540\n",
       "3     1107571  PinMart Gold Plated Excellence in Service 1 Ye...  [Available as a single item or bulk packed. Se...  Our Excellence in Service Lapel Pins feature a...            12442\n",
       "4      624253  Visual Mathematics, Illustrated by the TI-92 a...                                                NaN                                                NaN             6318"
      ]
     },
     "metadata": {},
     "output_type": "display_data"
    },
    {
     "name": "stdout",
     "output_type": "stream",
     "text": [
      "submission.shape: (734736, 2)\n"
     ]
    },
    {
     "data": {
      "text/html": [
       "<div>\n",
       "<style scoped>\n",
       "    .dataframe tbody tr th:only-of-type {\n",
       "        vertical-align: middle;\n",
       "    }\n",
       "\n",
       "    .dataframe tbody tr th {\n",
       "        vertical-align: top;\n",
       "    }\n",
       "\n",
       "    .dataframe thead th {\n",
       "        text-align: right;\n",
       "    }\n",
       "</style>\n",
       "<table border=\"1\" class=\"dataframe\">\n",
       "  <thead>\n",
       "    <tr style=\"text-align: right;\">\n",
       "      <th></th>\n",
       "      <th>PRODUCT_ID</th>\n",
       "      <th>PRODUCT_LENGTH</th>\n",
       "    </tr>\n",
       "  </thead>\n",
       "  <tbody>\n",
       "    <tr>\n",
       "      <th>0</th>\n",
       "      <td>604373</td>\n",
       "      <td>701.093794</td>\n",
       "    </tr>\n",
       "    <tr>\n",
       "      <th>1</th>\n",
       "      <td>1729783</td>\n",
       "      <td>734.506163</td>\n",
       "    </tr>\n",
       "    <tr>\n",
       "      <th>2</th>\n",
       "      <td>1871949</td>\n",
       "      <td>741.360258</td>\n",
       "    </tr>\n",
       "    <tr>\n",
       "      <th>3</th>\n",
       "      <td>1107571</td>\n",
       "      <td>730.327767</td>\n",
       "    </tr>\n",
       "    <tr>\n",
       "      <th>4</th>\n",
       "      <td>624253</td>\n",
       "      <td>666.847946</td>\n",
       "    </tr>\n",
       "  </tbody>\n",
       "</table>\n",
       "</div>"
      ],
      "text/plain": [
       "   PRODUCT_ID  PRODUCT_LENGTH\n",
       "0      604373      701.093794\n",
       "1     1729783      734.506163\n",
       "2     1871949      741.360258\n",
       "3     1107571      730.327767\n",
       "4      624253      666.847946"
      ]
     },
     "metadata": {},
     "output_type": "display_data"
    }
   ],
   "source": [
    "# ====================================================\n",
    "# Data Loading\n",
    "# ====================================================\n",
    "train = pd.read_csv('datasetb2d9982/dataset/train.csv')\n",
    "test = pd.read_csv('datasetb2d9982/dataset/test.csv')\n",
    "submission = pd.read_csv('datasetb2d9982/dataset/sample_submission.csv')\n",
    "\n",
    "print(f\"train.shape: {train.shape}\")\n",
    "display(train.head())\n",
    "print(f\"test.shape: {test.shape}\")\n",
    "display(test.head())\n",
    "print(f\"submission.shape: {submission.shape}\")\n",
    "display(submission.head())"
   ]
  },
  {
   "cell_type": "code",
   "execution_count": 6,
   "id": "6cd7f02b",
   "metadata": {},
   "outputs": [],
   "source": [
    "import seaborn as sns"
   ]
  },
  {
   "cell_type": "code",
   "execution_count": 9,
   "id": "3b6b1ea2",
   "metadata": {},
   "outputs": [
    {
     "data": {
      "text/plain": [
       "<AxesSubplot: >"
      ]
     },
     "execution_count": 9,
     "metadata": {},
     "output_type": "execute_result"
    },
    {
     "data": {
      "image/png": "[encoded data removed]",
      "text/plain": [
       "<Figure size 640x480 with 1 Axes>"
      ]
     },
     "metadata": {},
     "output_type": "display_data"
    }
   ],
   "source": [
    "sns.boxplot(train['PRODUCT_LENGTH'])"
   ]
  },
  {
   "cell_type": "code",
   "execution_count": 7,
   "id": "3cfd6d2f",
   "metadata": {},
   "outputs": [],
   "source": [
    "# create a new column with log of PRODUCT_LENGTH\n",
    "train['PRODUCT_LENGTH_log'] = np.log10(train['PRODUCT_LENGTH'])"
   ]
  },
  {
   "cell_type": "code",
   "execution_count": 15,
   "id": "767d0034",
   "metadata": {},
   "outputs": [
    {
     "data": {
      "text/plain": [
       "(2.319, 4.638]                    0.924831\n",
       "(-0.010280000000000001, 2.319]    0.073894\n",
       "(4.638, 6.957]                    0.001230\n",
       "(6.957, 9.275]                    0.000045\n",
       "Name: PRODUCT_LENGTH_log, dtype: float64"
      ]
     },
     "execution_count": 15,
     "metadata": {},
     "output_type": "execute_result"
    }
   ],
   "source": [
    "# find the percentage of total values with log between 0 and 1, 1 and 2, 2 and 3, 3 and 4\n",
    "train['PRODUCT_LENGTH_log'].value_counts(bins=4, normalize=True)"
   ]
  },
  {
   "cell_type": "code",
   "execution_count": 8,
   "id": "f50ea859",
   "metadata": {},
   "outputs": [
    {
     "data": {
      "text/plain": [
       "(2130211, 7)"
      ]
     },
     "execution_count": 8,
     "metadata": {},
     "output_type": "execute_result"
    }
   ],
   "source": [
    "# remove the outliers\n",
    "train = train[train['PRODUCT_LENGTH_log'] < 3.5]\n",
    "train.shape"
   ]
  },
  {
   "cell_type": "code",
   "execution_count": 9,
   "id": "11c14060",
   "metadata": {},
   "outputs": [
    {
     "data": {
      "text/plain": [
       "(2119965, 7)"
      ]
     },
     "execution_count": 9,
     "metadata": {},
     "output_type": "execute_result"
    }
   ],
   "source": [
    "# remove the outliers which have very small PRODUCT_LENGTH_log\n",
    "train = train[train['PRODUCT_LENGTH_log'] > 1]\n",
    "train.shape"
   ]
  },
  {
   "cell_type": "code",
   "execution_count": 19,
   "id": "e517288a",
   "metadata": {},
   "outputs": [
    {
     "data": {
      "text/html": [
       "<div>\n",
       "<style scoped>\n",
       "    .dataframe tbody tr th:only-of-type {\n",
       "        vertical-align: middle;\n",
       "    }\n",
       "\n",
       "    .dataframe tbody tr th {\n",
       "        vertical-align: top;\n",
       "    }\n",
       "\n",
       "    .dataframe thead th {\n",
       "        text-align: right;\n",
       "    }\n",
       "</style>\n",
       "<table border=\"1\" class=\"dataframe\">\n",
       "  <thead>\n",
       "    <tr style=\"text-align: right;\">\n",
       "      <th></th>\n",
       "      <th>mean</th>\n",
       "      <th>max</th>\n",
       "      <th>min</th>\n",
       "    </tr>\n",
       "    <tr>\n",
       "      <th>PRODUCT_ID</th>\n",
       "      <th></th>\n",
       "      <th></th>\n",
       "      <th></th>\n",
       "    </tr>\n",
       "  </thead>\n",
       "  <tbody>\n",
       "    <tr>\n",
       "      <th>1</th>\n",
       "      <td>307.000000</td>\n",
       "      <td>307.000000</td>\n",
       "      <td>307.000000</td>\n",
       "    </tr>\n",
       "    <tr>\n",
       "      <th>5</th>\n",
       "      <td>39.370079</td>\n",
       "      <td>39.370079</td>\n",
       "      <td>39.370079</td>\n",
       "    </tr>\n",
       "    <tr>\n",
       "      <th>7</th>\n",
       "      <td>300.000000</td>\n",
       "      <td>300.000000</td>\n",
       "      <td>300.000000</td>\n",
       "    </tr>\n",
       "    <tr>\n",
       "      <th>8</th>\n",
       "      <td>842.518000</td>\n",
       "      <td>842.518000</td>\n",
       "      <td>842.518000</td>\n",
       "    </tr>\n",
       "    <tr>\n",
       "      <th>10</th>\n",
       "      <td>866.141731</td>\n",
       "      <td>866.141731</td>\n",
       "      <td>866.141731</td>\n",
       "    </tr>\n",
       "    <tr>\n",
       "      <th>...</th>\n",
       "      <td>...</td>\n",
       "      <td>...</td>\n",
       "      <td>...</td>\n",
       "    </tr>\n",
       "    <tr>\n",
       "      <th>2999993</th>\n",
       "      <td>1062.992125</td>\n",
       "      <td>1062.992125</td>\n",
       "      <td>1062.992125</td>\n",
       "    </tr>\n",
       "    <tr>\n",
       "      <th>2999994</th>\n",
       "      <td>245.000000</td>\n",
       "      <td>245.000000</td>\n",
       "      <td>245.000000</td>\n",
       "    </tr>\n",
       "    <tr>\n",
       "      <th>2999995</th>\n",
       "      <td>2360.000000</td>\n",
       "      <td>2360.000000</td>\n",
       "      <td>2360.000000</td>\n",
       "    </tr>\n",
       "    <tr>\n",
       "      <th>2999997</th>\n",
       "      <td>1000.000000</td>\n",
       "      <td>1000.000000</td>\n",
       "      <td>1000.000000</td>\n",
       "    </tr>\n",
       "    <tr>\n",
       "      <th>2999999</th>\n",
       "      <td>850.000000</td>\n",
       "      <td>850.000000</td>\n",
       "      <td>850.000000</td>\n",
       "    </tr>\n",
       "  </tbody>\n",
       "</table>\n",
       "<p>2119965 rows × 3 columns</p>\n",
       "</div>"
      ],
      "text/plain": [
       "                   mean          max          min\n",
       "PRODUCT_ID                                       \n",
       "1            307.000000   307.000000   307.000000\n",
       "5             39.370079    39.370079    39.370079\n",
       "7            300.000000   300.000000   300.000000\n",
       "8            842.518000   842.518000   842.518000\n",
       "10           866.141731   866.141731   866.141731\n",
       "...                 ...          ...          ...\n",
       "2999993     1062.992125  1062.992125  1062.992125\n",
       "2999994      245.000000   245.000000   245.000000\n",
       "2999995     2360.000000  2360.000000  2360.000000\n",
       "2999997     1000.000000  1000.000000  1000.000000\n",
       "2999999      850.000000   850.000000   850.000000\n",
       "\n",
       "[2119965 rows x 3 columns]"
      ]
     },
     "execution_count": 19,
     "metadata": {},
     "output_type": "execute_result"
    }
   ],
   "source": [
    "# groupby PRODUCT_ID and find mean, max and min of PRODUCT_LENGTH\n",
    "train.groupby('PRODUCT_ID')['PRODUCT_LENGTH'].agg(['mean', 'max', 'min'])"
   ]
  },
  {
   "cell_type": "code",
   "execution_count": 20,
   "id": "e40fd6a6",
   "metadata": {},
   "outputs": [
    {
     "data": {
      "text/plain": [
       "<AxesSubplot: xlabel='PRODUCT_LENGTH', ylabel='Density'>"
      ]
     },
     "execution_count": 20,
     "metadata": {},
     "output_type": "execute_result"
    },
    {
     "data": {
      "image/png": "[encoded data removed]",
      "text/plain": [
       "<Figure size 640x480 with 1 Axes>"
      ]
     },
     "metadata": {},
     "output_type": "display_data"
    }
   ],
   "source": [
    "# plot the distribution of PRODUCT_LENGTH\n",
    "sns.distplot(train['PRODUCT_LENGTH'])"
   ]
  },
  {
   "cell_type": "code",
   "execution_count": 3,
   "id": "711512b1",
   "metadata": {},
   "outputs": [
    {
     "data": {
      "text/plain": [
       "PRODUCT_ID              0\n",
       "TITLE                   5\n",
       "BULLET_POINTS      275922\n",
       "DESCRIPTION        380001\n",
       "PRODUCT_TYPE_ID         0\n",
       "dtype: int64"
      ]
     },
     "execution_count": 3,
     "metadata": {},
     "output_type": "execute_result"
    }
   ],
   "source": [
    "import pandas as pd\n",
    "test = pd.read_csv('datasetb2d9982/dataset/test.csv')\n",
    "test.isna().sum()"
   ]
  },
  {
   "cell_type": "code",
   "execution_count": 10,
   "id": "a8929c08",
   "metadata": {},
   "outputs": [
    {
     "data": {
      "text/plain": [
       "<AxesSubplot: xlabel='PRODUCT_LENGTH', ylabel='Count'>"
      ]
     },
     "execution_count": 10,
     "metadata": {},
     "output_type": "execute_result"
    },
    {
     "data": {
      "image/png": "[encoded data removed]",
      "text/plain": [
       "<Figure size 640x480 with 1 Axes>"
      ]
     },
     "metadata": {},
     "output_type": "display_data"
    }
   ],
   "source": [
    "sns.histplot(train[train['PRODUCT_LENGTH'] < 10]['PRODUCT_LENGTH'])"
   ]
  },
  {
   "cell_type": "code",
   "execution_count": 14,
   "id": "4abc8698",
   "metadata": {},
   "outputs": [
    {
     "name": "stdout",
     "output_type": "stream",
     "text": [
      "PRODUCT_ID: 2119965\n",
      "TITLE: 2083160\n",
      "BULLET_POINTS: 881892\n",
      "DESCRIPTION: 693087\n",
      "PRODUCT_TYPE_ID: 12668\n",
      "PRODUCT_LENGTH: 10972\n",
      "PRODUCT_LENGTH_log: 10933\n"
     ]
    }
   ],
   "source": [
    "# find out unique values of each column\n",
    "for col in train.columns:\n",
    "    print(f\"{col}: {train[col].nunique()}\")"
   ]
  },
  {
   "cell_type": "code",
   "execution_count": 15,
   "id": "bb3aa05d",
   "metadata": {},
   "outputs": [
    {
     "data": {
      "text/plain": [
       "PRODUCT_ID                  0\n",
       "TITLE                      12\n",
       "BULLET_POINTS          826370\n",
       "DESCRIPTION           1112082\n",
       "PRODUCT_TYPE_ID             0\n",
       "PRODUCT_LENGTH              0\n",
       "PRODUCT_LENGTH_log          0\n",
       "dtype: int64"
      ]
     },
     "execution_count": 15,
     "metadata": {},
     "output_type": "execute_result"
    }
   ],
   "source": [
    "# check if there are any null values\n",
    "train.isnull().sum()"
   ]
  },
  {
   "cell_type": "code",
   "execution_count": 18,
   "id": "5bec6dc2",
   "metadata": {},
   "outputs": [
    {
     "data": {
      "text/plain": [
       "<AxesSubplot: xlabel='PRODUCT_LENGTH_log', ylabel='Density'>"
      ]
     },
     "execution_count": 18,
     "metadata": {},
     "output_type": "execute_result"
    },
    {
     "data": {
      "image/png": "[encoded data removed]",
      "text/plain": [
       "<Figure size 640x480 with 1 Axes>"
      ]
     },
     "metadata": {},
     "output_type": "display_data"
    }
   ],
   "source": [
    "sns.distplot(train['PRODUCT_LENGTH_log'])"
   ]
  },
  {
   "cell_type": "code",
   "execution_count": 17,
   "id": "6056b313",
   "metadata": {},
   "outputs": [
    {
     "data": {
      "text/plain": [
       "<AxesSubplot: >"
      ]
     },
     "execution_count": 17,
     "metadata": {},
     "output_type": "execute_result"
    },
    {
     "data": {
      "image/png": "[encoded data removed]",
      "text/plain": [
       "<Figure size 640x480 with 1 Axes>"
      ]
     },
     "metadata": {},
     "output_type": "display_data"
    }
   ],
   "source": [
    "sns.boxplot(train['PRODUCT_LENGTH'])"
   ]
  },
  {
   "cell_type": "code",
   "execution_count": 28,
   "id": "3102536b",
   "metadata": {},
   "outputs": [
    {
     "data": {
      "text/html": [
       "<div>\n",
       "<style scoped>\n",
       "    .dataframe tbody tr th:only-of-type {\n",
       "        vertical-align: middle;\n",
       "    }\n",
       "\n",
       "    .dataframe tbody tr th {\n",
       "        vertical-align: top;\n",
       "    }\n",
       "\n",
       "    .dataframe thead th {\n",
       "        text-align: right;\n",
       "    }\n",
       "</style>\n",
       "<table border=\"1\" class=\"dataframe\">\n",
       "  <thead>\n",
       "    <tr style=\"text-align: right;\">\n",
       "      <th></th>\n",
       "      <th>mean</th>\n",
       "      <th>max</th>\n",
       "      <th>min</th>\n",
       "    </tr>\n",
       "    <tr>\n",
       "      <th>PRODUCT_TYPE_ID</th>\n",
       "      <th></th>\n",
       "      <th></th>\n",
       "      <th></th>\n",
       "    </tr>\n",
       "  </thead>\n",
       "  <tbody>\n",
       "    <tr>\n",
       "      <th>0</th>\n",
       "      <td>710.401786</td>\n",
       "      <td>3150.00000</td>\n",
       "      <td>10.23622</td>\n",
       "    </tr>\n",
       "    <tr>\n",
       "      <th>1</th>\n",
       "      <td>658.903399</td>\n",
       "      <td>3031.49606</td>\n",
       "      <td>10.82675</td>\n",
       "    </tr>\n",
       "    <tr>\n",
       "      <th>2</th>\n",
       "      <td>895.533344</td>\n",
       "      <td>2992.00000</td>\n",
       "      <td>14.99997</td>\n",
       "    </tr>\n",
       "    <tr>\n",
       "      <th>3</th>\n",
       "      <td>459.979209</td>\n",
       "      <td>1354.00000</td>\n",
       "      <td>15.74800</td>\n",
       "    </tr>\n",
       "    <tr>\n",
       "      <th>4</th>\n",
       "      <td>700.239977</td>\n",
       "      <td>3150.00000</td>\n",
       "      <td>11.00000</td>\n",
       "    </tr>\n",
       "    <tr>\n",
       "      <th>...</th>\n",
       "      <td>...</td>\n",
       "      <td>...</td>\n",
       "      <td>...</td>\n",
       "    </tr>\n",
       "    <tr>\n",
       "      <th>13416</th>\n",
       "      <td>1270.071541</td>\n",
       "      <td>2460.00000</td>\n",
       "      <td>100.00000</td>\n",
       "    </tr>\n",
       "    <tr>\n",
       "      <th>13417</th>\n",
       "      <td>1172.500000</td>\n",
       "      <td>1820.00000</td>\n",
       "      <td>525.00000</td>\n",
       "    </tr>\n",
       "    <tr>\n",
       "      <th>13418</th>\n",
       "      <td>1233.333333</td>\n",
       "      <td>1300.00000</td>\n",
       "      <td>1100.00000</td>\n",
       "    </tr>\n",
       "    <tr>\n",
       "      <th>13419</th>\n",
       "      <td>881.428571</td>\n",
       "      <td>3000.00000</td>\n",
       "      <td>100.00000</td>\n",
       "    </tr>\n",
       "    <tr>\n",
       "      <th>13420</th>\n",
       "      <td>875.793026</td>\n",
       "      <td>1550.00000</td>\n",
       "      <td>100.00000</td>\n",
       "    </tr>\n",
       "  </tbody>\n",
       "</table>\n",
       "<p>12668 rows × 3 columns</p>\n",
       "</div>"
      ],
      "text/plain": [
       "                        mean         max         min\n",
       "PRODUCT_TYPE_ID                                     \n",
       "0                 710.401786  3150.00000    10.23622\n",
       "1                 658.903399  3031.49606    10.82675\n",
       "2                 895.533344  2992.00000    14.99997\n",
       "3                 459.979209  1354.00000    15.74800\n",
       "4                 700.239977  3150.00000    11.00000\n",
       "...                      ...         ...         ...\n",
       "13416            1270.071541  2460.00000   100.00000\n",
       "13417            1172.500000  1820.00000   525.00000\n",
       "13418            1233.333333  1300.00000  1100.00000\n",
       "13419             881.428571  3000.00000   100.00000\n",
       "13420             875.793026  1550.00000   100.00000\n",
       "\n",
       "[12668 rows x 3 columns]"
      ]
     },
     "execution_count": 28,
     "metadata": {},
     "output_type": "execute_result"
    }
   ],
   "source": [
    "# check the relation between PRODUCT_ID and PRODUCT_LENGTH\n",
    "train.groupby('PRODUCT_TYPE_ID')['PRODUCT_LENGTH'].agg(['mean', 'max', 'min'])"
   ]
  },
  {
   "cell_type": "code",
   "execution_count": 22,
   "id": "2b77e685",
   "metadata": {},
   "outputs": [
    {
     "data": {
      "text/plain": [
       "(2119965, 7)"
      ]
     },
     "execution_count": 22,
     "metadata": {},
     "output_type": "execute_result"
    }
   ],
   "source": [
    "train.shape"
   ]
  },
  {
   "cell_type": "code",
   "execution_count": 23,
   "id": "23f02e3e",
   "metadata": {},
   "outputs": [],
   "source": [
    "df_train = train.copy()"
   ]
  },
  {
   "cell_type": "code",
   "execution_count": 27,
   "id": "d155a2ff",
   "metadata": {},
   "outputs": [
    {
     "data": {
      "text/plain": [
       "2119965"
      ]
     },
     "execution_count": 27,
     "metadata": {},
     "output_type": "execute_result"
    }
   ],
   "source": [
    "train['PRODUCT_TYPE_ID'].nunique()"
   ]
  },
  {
   "cell_type": "code",
   "execution_count": 30,
   "id": "4cc470b2",
   "metadata": {},
   "outputs": [
    {
     "data": {
      "application/vnd.jupyter.widget-view+json": {
       "model_id": "67fb368f13494b6fa34cefc868abd686",
       "version_major": 2,
       "version_minor": 0
      },
      "text/plain": [
       "  0%|          | 0/12668 [00:00<?, ?it/s]"
      ]
     },
     "metadata": {},
     "output_type": "display_data"
    }
   ],
   "source": [
    "# iterate through all PRODUCT_ID and remove all the rows which have PRODUCT_LENGTH greater than 99 percentile of PRODUCT_LENGTH of that PRODUCT_ID\n",
    "for product_id in tqdm(df_train['PRODUCT_TYPE_ID'].unique()):\n",
    "    product_length_99 = np.percentile(df_train[df_train['PRODUCT_TYPE_ID'] == product_id]['PRODUCT_LENGTH'], 99)\n",
    "    df_train = df_train[~((df_train['PRODUCT_TYPE_ID'] == product_id) & (df_train['PRODUCT_LENGTH'] > product_length_99))]"
   ]
  },
  {
   "cell_type": "code",
   "execution_count": 34,
   "id": "c0c131c6",
   "metadata": {},
   "outputs": [],
   "source": [
    "df_train.to_csv(\"outlier_removed.csv\", index=False)"
   ]
  },
  {
   "cell_type": "code",
   "execution_count": null,
   "id": "18dfa37c",
   "metadata": {},
   "outputs": [],
   "source": [
    "# get deberta embeddings for the TITLE column\n",
    "def get_deberta_embeddings(df, col_name):\n",
    "    tokenizer = AutoTokenizer.from_pretrained('microsoft/deberta-base')\n",
    "    model = AutoModel.from_pretrained('microsoft/deberta-base')\n",
    "    model.to(device)\n",
    "    model.eval()\n",
    "    df[col_name + '_deberta_embeddings'] = df[col_name].apply(lambda x: tokenizer.encode(x, add_special_tokens=True))\n",
    "    df[col_name + '_deberta_embeddings'] = df[col_name + '_deberta_embeddings'].apply(lambda x: torch.tensor(x).unsqueeze(0).to(device))\n",
    "    df[col_name + '_deberta_embeddings'] = df[col_name + '_deberta_embeddings'].apply(lambda x: model(x)[0][0][0].detach().cpu().numpy())\n",
    "    return df\n",
    "\n",
    "df_train = get_deberta_embeddings(df_train, 'TITLE')"
   ]
  },
  {
   "cell_type": "code",
   "execution_count": 10,
   "id": "41aaf4f1",
   "metadata": {},
   "outputs": [
    {
     "data": {
      "text/plain": [
       "PRODUCT_ID                  0\n",
       "TITLE                       0\n",
       "BULLET_POINTS          826360\n",
       "DESCRIPTION           1112070\n",
       "PRODUCT_TYPE_ID             0\n",
       "PRODUCT_LENGTH              0\n",
       "PRODUCT_LENGTH_log          0\n",
       "dtype: int64"
      ]
     },
     "execution_count": 10,
     "metadata": {},
     "output_type": "execute_result"
    }
   ],
   "source": [
    "train_clean = train.dropna(axis=0, subset='TITLE')\n",
    "train_clean.isna().sum()"
   ]
  },
  {
   "cell_type": "code",
   "execution_count": 12,
   "id": "41980795",
   "metadata": {},
   "outputs": [
    {
     "ename": "",
     "evalue": "",
     "output_type": "error",
     "traceback": [
      "\u001b[1;31mCanceled future for execute_request message before replies were done"
     ]
    },
    {
     "ename": "",
     "evalue": "",
     "output_type": "error",
     "traceback": [
      "\u001b[1;31mThe Kernel crashed while executing code in the the current cell or a previous cell. Please review the code in the cell(s) to identify a possible cause of the failure. Click <a href='https://aka.ms/vscodeJupyterKernelCrash'>here</a> for more info. View Jupyter <a href='command:jupyter.viewOutput'>log</a> for further details."
     ]
    }
   ],
   "source": [
    "# get the tfidf embeddings of the TITLE column and save as numpy file\n",
    "from sklearn.feature_extraction.text import TfidfVectorizer\n",
    "tfidf = TfidfVectorizer(max_features=1024)\n",
    "tfidf.fit(train_clean['TITLE'])\n",
    "tfidf_embeddings = tfidf.transform(train_clean['TITLE'])\n",
    "tfidf_embeddings = tfidf_embeddings.toarray()\n",
    "np.save('TITLE_tfidf_embeddings.npy', tfidf_embeddings)"
   ]
  },
  {
   "cell_type": "markdown",
   "id": "dae4a81b",
   "metadata": {
    "papermill": {
     "duration": 0.009487,
     "end_time": "2022-08-31T22:32:28.527661",
     "exception": false,
     "start_time": "2022-08-31T22:32:28.518174",
     "status": "completed"
    },
    "tags": []
   },
   "source": [
    "# CV split"
   ]
  },
  {
   "cell_type": "code",
   "execution_count": 7,
   "id": "32200ebe",
   "metadata": {
    "execution": {
     "iopub.execute_input": "2022-08-31T22:32:28.554307Z",
     "iopub.status.busy": "2022-08-31T22:32:28.553699Z",
     "iopub.status.idle": "2022-08-31T22:32:28.704323Z",
     "shell.execute_reply": "2022-08-31T22:32:28.703340Z"
    },
    "papermill": {
     "duration": 0.164445,
     "end_time": "2022-08-31T22:32:28.706697",
     "exception": false,
     "start_time": "2022-08-31T22:32:28.542252",
     "status": "completed"
    },
    "tags": []
   },
   "outputs": [
    {
     "data": {
      "text/plain": [
       "fold\n",
       "0    978\n",
       "1    977\n",
       "2    978\n",
       "3    978\n",
       "dtype: int64"
      ]
     },
     "metadata": {},
     "output_type": "display_data"
    }
   ],
   "source": [
    "# ====================================================\n",
    "# CV split\n",
    "# ====================================================\n",
    "Fold = MultilabelStratifiedKFold(n_splits=CFG.n_fold, shuffle=True, random_state=CFG.seed)\n",
    "for n, (train_index, val_index) in enumerate(Fold.split(train, train[CFG.target_cols])):\n",
    "    train.loc[val_index, 'fold'] = int(n)\n",
    "train['fold'] = train['fold'].astype(int)\n",
    "display(train.groupby('fold').size())"
   ]
  },
  {
   "cell_type": "code",
   "execution_count": 8,
   "id": "a025258f",
   "metadata": {
    "execution": {
     "iopub.execute_input": "2022-08-31T22:32:28.724353Z",
     "iopub.status.busy": "2022-08-31T22:32:28.724052Z",
     "iopub.status.idle": "2022-08-31T22:32:28.729744Z",
     "shell.execute_reply": "2022-08-31T22:32:28.728851Z"
    },
    "papermill": {
     "duration": 0.016964,
     "end_time": "2022-08-31T22:32:28.731888",
     "exception": false,
     "start_time": "2022-08-31T22:32:28.714924",
     "status": "completed"
    },
    "tags": []
   },
   "outputs": [],
   "source": [
    "if CFG.debug:\n",
    "    display(train.groupby('fold').size())\n",
    "    train = train.sample(n=1000, random_state=0).reset_index(drop=True)\n",
    "    display(train.groupby('fold').size())"
   ]
  },
  {
   "cell_type": "markdown",
   "id": "aa2d766a",
   "metadata": {
    "papermill": {
     "duration": 0.007793,
     "end_time": "2022-08-31T22:32:28.747828",
     "exception": false,
     "start_time": "2022-08-31T22:32:28.740035",
     "status": "completed"
    },
    "tags": []
   },
   "source": [
    "# tokenizer"
   ]
  },
  {
   "cell_type": "code",
   "execution_count": 9,
   "id": "d2fa845d",
   "metadata": {
    "execution": {
     "iopub.execute_input": "2022-08-31T22:32:28.765839Z",
     "iopub.status.busy": "2022-08-31T22:32:28.765473Z",
     "iopub.status.idle": "2022-08-31T22:32:35.437418Z",
     "shell.execute_reply": "2022-08-31T22:32:35.436468Z"
    },
    "papermill": {
     "duration": 6.683936,
     "end_time": "2022-08-31T22:32:35.439931",
     "exception": false,
     "start_time": "2022-08-31T22:32:28.755995",
     "status": "completed"
    },
    "tags": []
   },
   "outputs": [
    {
     "data": {
      "application/vnd.jupyter.widget-view+json": {
       "model_id": "5c46ff2756884796a66dad65b803a74e",
       "version_major": 2,
       "version_minor": 0
      },
      "text/plain": [
       "Downloading tokenizer_config.json:   0%|          | 0.00/52.0 [00:00<?, ?B/s]"
      ]
     },
     "metadata": {},
     "output_type": "display_data"
    },
    {
     "data": {
      "application/vnd.jupyter.widget-view+json": {
       "model_id": "6dc618e45e174c4a951ec262aac429e4",
       "version_major": 2,
       "version_minor": 0
      },
      "text/plain": [
       "Downloading config.json:   0%|          | 0.00/579 [00:00<?, ?B/s]"
      ]
     },
     "metadata": {},
     "output_type": "display_data"
    },
    {
     "data": {
      "application/vnd.jupyter.widget-view+json": {
       "model_id": "308edc5e8bcd42ebbba68df9b0e041d3",
       "version_major": 2,
       "version_minor": 0
      },
      "text/plain": [
       "Downloading spm.model:   0%|          | 0.00/2.35M [00:00<?, ?B/s]"
      ]
     },
     "metadata": {},
     "output_type": "display_data"
    },
    {
     "name": "stderr",
     "output_type": "stream",
     "text": [
      "Special tokens have been added in the vocabulary, make sure the associated word embeddings are fine-tuned or trained.\n",
      "Special tokens have been added in the vocabulary, make sure the associated word embeddings are fine-tuned or trained.\n"
     ]
    }
   ],
   "source": [
    "# ====================================================\n",
    "# tokenizer\n",
    "# ====================================================\n",
    "tokenizer = AutoTokenizer.from_pretrained(CFG.model)\n",
    "tokenizer.save_pretrained(OUTPUT_DIR+'tokenizer/')\n",
    "CFG.tokenizer = tokenizer"
   ]
  },
  {
   "cell_type": "markdown",
   "id": "df117510",
   "metadata": {
    "papermill": {
     "duration": 0.008087,
     "end_time": "2022-08-31T22:32:35.456694",
     "exception": false,
     "start_time": "2022-08-31T22:32:35.448607",
     "status": "completed"
    },
    "tags": []
   },
   "source": [
    "# Dataset"
   ]
  },
  {
   "cell_type": "code",
   "execution_count": 10,
   "id": "dac78bb9",
   "metadata": {
    "execution": {
     "iopub.execute_input": "2022-08-31T22:32:35.476349Z",
     "iopub.status.busy": "2022-08-31T22:32:35.475302Z",
     "iopub.status.idle": "2022-08-31T22:32:41.683449Z",
     "shell.execute_reply": "2022-08-31T22:32:41.681990Z"
    },
    "papermill": {
     "duration": 6.221034,
     "end_time": "2022-08-31T22:32:41.686006",
     "exception": false,
     "start_time": "2022-08-31T22:32:35.464972",
     "status": "completed"
    },
    "tags": []
   },
   "outputs": [
    {
     "data": {
      "application/vnd.jupyter.widget-view+json": {
       "model_id": "26eba2db820c45a6871af6a39791a99a",
       "version_major": 2,
       "version_minor": 0
      },
      "text/plain": [
       "  0%|          | 0/3911 [00:00<?, ?it/s]"
      ]
     },
     "metadata": {},
     "output_type": "display_data"
    },
    {
     "name": "stderr",
     "output_type": "stream",
     "text": [
      "max_len: 1429\n"
     ]
    }
   ],
   "source": [
    "# ====================================================\n",
    "# Define max_len\n",
    "# ====================================================\n",
    "lengths = []\n",
    "tk0 = tqdm(train['full_text'].fillna(\"\").values, total=len(train))\n",
    "for text in tk0:\n",
    "    length = len(tokenizer(text, add_special_tokens=False)['input_ids'])\n",
    "    lengths.append(length)\n",
    "CFG.max_len = max(lengths) + 3 # cls & sep & sep\n",
    "LOGGER.info(f\"max_len: {CFG.max_len}\")"
   ]
  },
  {
   "cell_type": "code",
   "execution_count": 11,
   "id": "14b26230",
   "metadata": {
    "execution": {
     "iopub.execute_input": "2022-08-31T22:32:41.706635Z",
     "iopub.status.busy": "2022-08-31T22:32:41.704899Z",
     "iopub.status.idle": "2022-08-31T22:32:41.715654Z",
     "shell.execute_reply": "2022-08-31T22:32:41.714775Z"
    },
    "papermill": {
     "duration": 0.022792,
     "end_time": "2022-08-31T22:32:41.717965",
     "exception": false,
     "start_time": "2022-08-31T22:32:41.695173",
     "status": "completed"
    },
    "tags": []
   },
   "outputs": [],
   "source": [
    "# ====================================================\n",
    "# Dataset\n",
    "# ====================================================\n",
    "def prepare_input(cfg, text):\n",
    "    inputs = cfg.tokenizer.encode_plus(\n",
    "        text, \n",
    "        return_tensors=None, \n",
    "        add_special_tokens=True, \n",
    "        max_length=CFG.max_len,\n",
    "        pad_to_max_length=True,\n",
    "        truncation=True\n",
    "    )\n",
    "    for k, v in inputs.items():\n",
    "        inputs[k] = torch.tensor(v, dtype=torch.long)\n",
    "    return inputs\n",
    "\n",
    "\n",
    "class TrainDataset(Dataset):\n",
    "    def __init__(self, cfg, df):\n",
    "        self.cfg = cfg\n",
    "        self.texts = df['full_text'].values\n",
    "        self.labels = df[cfg.target_cols].values\n",
    "\n",
    "    def __len__(self):\n",
    "        return len(self.texts)\n",
    "\n",
    "    def __getitem__(self, item):\n",
    "        inputs = prepare_input(self.cfg, self.texts[item])\n",
    "        label = torch.tensor(self.labels[item], dtype=torch.float)\n",
    "        return inputs, label\n",
    "    \n",
    "\n",
    "def collate(inputs):\n",
    "    mask_len = int(inputs[\"attention_mask\"].sum(axis=1).max())\n",
    "    for k, v in inputs.items():\n",
    "        inputs[k] = inputs[k][:,:mask_len]\n",
    "    return inputs"
   ]
  },
  {
   "cell_type": "markdown",
   "id": "2bda5663",
   "metadata": {
    "papermill": {
     "duration": 0.008337,
     "end_time": "2022-08-31T22:32:41.734920",
     "exception": false,
     "start_time": "2022-08-31T22:32:41.726583",
     "status": "completed"
    },
    "tags": []
   },
   "source": [
    "# Model"
   ]
  },
  {
   "cell_type": "code",
   "execution_count": 12,
   "id": "a5f24525",
   "metadata": {
    "execution": {
     "iopub.execute_input": "2022-08-31T22:32:41.754836Z",
     "iopub.status.busy": "2022-08-31T22:32:41.754449Z",
     "iopub.status.idle": "2022-08-31T22:32:41.773130Z",
     "shell.execute_reply": "2022-08-31T22:32:41.769556Z"
    },
    "papermill": {
     "duration": 0.031877,
     "end_time": "2022-08-31T22:32:41.776126",
     "exception": false,
     "start_time": "2022-08-31T22:32:41.744249",
     "status": "completed"
    },
    "tags": []
   },
   "outputs": [],
   "source": [
    "# ====================================================\n",
    "# Model\n",
    "# ====================================================\n",
    "class MeanPooling(nn.Module):\n",
    "    def __init__(self):\n",
    "        super(MeanPooling, self).__init__()\n",
    "        \n",
    "    def forward(self, last_hidden_state, attention_mask):\n",
    "        input_mask_expanded = attention_mask.unsqueeze(-1).expand(last_hidden_state.size()).float()\n",
    "        sum_embeddings = torch.sum(last_hidden_state * input_mask_expanded, 1)\n",
    "        sum_mask = input_mask_expanded.sum(1)\n",
    "        sum_mask = torch.clamp(sum_mask, min=1e-9)\n",
    "        mean_embeddings = sum_embeddings / sum_mask\n",
    "        return mean_embeddings\n",
    "    \n",
    "\n",
    "class CustomModel(nn.Module):\n",
    "    def __init__(self, cfg, config_path=None, pretrained=False):\n",
    "        super().__init__()\n",
    "        self.cfg = cfg\n",
    "        if config_path is None:\n",
    "            self.config = AutoConfig.from_pretrained(cfg.model, output_hidden_states=True)\n",
    "            self.config.hidden_dropout = 0.\n",
    "            self.config.hidden_dropout_prob = 0.\n",
    "            self.config.attention_dropout = 0.\n",
    "            self.config.attention_probs_dropout_prob = 0.\n",
    "            LOGGER.info(self.config)\n",
    "        else:\n",
    "            self.config = torch.load(config_path)\n",
    "        if pretrained:\n",
    "            self.model = AutoModel.from_pretrained(cfg.model, config=self.config)\n",
    "        else:\n",
    "            self.model = AutoModel(self.config)\n",
    "        if self.cfg.gradient_checkpointing:\n",
    "            self.model.gradient_checkpointing_enable()\n",
    "        self.pool = MeanPooling()\n",
    "        self.fc = nn.Linear(self.config.hidden_size, 6)\n",
    "        self._init_weights(self.fc)\n",
    "        \n",
    "    def _init_weights(self, module):\n",
    "        if isinstance(module, nn.Linear):\n",
    "            module.weight.data.normal_(mean=0.0, std=self.config.initializer_range)\n",
    "            if module.bias is not None:\n",
    "                module.bias.data.zero_()\n",
    "        elif isinstance(module, nn.Embedding):\n",
    "            module.weight.data.normal_(mean=0.0, std=self.config.initializer_range)\n",
    "            if module.padding_idx is not None:\n",
    "                module.weight.data[module.padding_idx].zero_()\n",
    "        elif isinstance(module, nn.LayerNorm):\n",
    "            module.bias.data.zero_()\n",
    "            module.weight.data.fill_(1.0)\n",
    "        \n",
    "    def feature(self, inputs):\n",
    "        outputs = self.model(**inputs)\n",
    "        last_hidden_states = outputs[0]\n",
    "        feature = self.pool(last_hidden_states, inputs['attention_mask'])\n",
    "        return feature\n",
    "\n",
    "    def forward(self, inputs):\n",
    "        feature = self.feature(inputs)\n",
    "        output = self.fc(feature)\n",
    "        return output"
   ]
  },
  {
   "cell_type": "markdown",
   "id": "3f90882e",
   "metadata": {
    "papermill": {
     "duration": 0.008836,
     "end_time": "2022-08-31T22:32:41.801081",
     "exception": false,
     "start_time": "2022-08-31T22:32:41.792245",
     "status": "completed"
    },
    "tags": []
   },
   "source": [
    "# Loss"
   ]
  },
  {
   "cell_type": "code",
   "execution_count": 13,
   "id": "4ffd8144",
   "metadata": {
    "execution": {
     "iopub.execute_input": "2022-08-31T22:32:41.819862Z",
     "iopub.status.busy": "2022-08-31T22:32:41.819486Z",
     "iopub.status.idle": "2022-08-31T22:32:41.829800Z",
     "shell.execute_reply": "2022-08-31T22:32:41.827775Z"
    },
    "papermill": {
     "duration": 0.023124,
     "end_time": "2022-08-31T22:32:41.832806",
     "exception": false,
     "start_time": "2022-08-31T22:32:41.809682",
     "status": "completed"
    },
    "tags": []
   },
   "outputs": [],
   "source": [
    "# ====================================================\n",
    "# Loss\n",
    "# ====================================================\n",
    "class RMSELoss(nn.Module):\n",
    "    def __init__(self, reduction='mean', eps=1e-9):\n",
    "        super().__init__()\n",
    "        self.mse = nn.MSELoss(reduction='none')\n",
    "        self.reduction = reduction\n",
    "        self.eps = eps\n",
    "\n",
    "    def forward(self, y_pred, y_true):\n",
    "        loss = torch.sqrt(self.mse(y_pred, y_true) + self.eps)\n",
    "        if self.reduction == 'none':\n",
    "            loss = loss\n",
    "        elif self.reduction == 'sum':\n",
    "            loss = loss.sum()\n",
    "        elif self.reduction == 'mean':\n",
    "            loss = loss.mean()\n",
    "        return loss"
   ]
  },
  {
   "cell_type": "markdown",
   "id": "1c15011e",
   "metadata": {
    "papermill": {
     "duration": 0.008528,
     "end_time": "2022-08-31T22:32:41.852306",
     "exception": false,
     "start_time": "2022-08-31T22:32:41.843778",
     "status": "completed"
    },
    "tags": []
   },
   "source": [
    "# Helpler functions"
   ]
  },
  {
   "cell_type": "code",
   "execution_count": 14,
   "id": "c11acdda",
   "metadata": {
    "execution": {
     "iopub.execute_input": "2022-08-31T22:32:41.872384Z",
     "iopub.status.busy": "2022-08-31T22:32:41.872032Z",
     "iopub.status.idle": "2022-08-31T22:32:41.892510Z",
     "shell.execute_reply": "2022-08-31T22:32:41.891247Z"
    },
    "papermill": {
     "duration": 0.034604,
     "end_time": "2022-08-31T22:32:41.895844",
     "exception": false,
     "start_time": "2022-08-31T22:32:41.861240",
     "status": "completed"
    },
    "tags": []
   },
   "outputs": [],
   "source": [
    "# ====================================================\n",
    "# Helper functions\n",
    "# ====================================================\n",
    "class AverageMeter(object):\n",
    "    \"\"\"Computes and stores the average and current value\"\"\"\n",
    "    def __init__(self):\n",
    "        self.reset()\n",
    "\n",
    "    def reset(self):\n",
    "        self.val = 0\n",
    "        self.avg = 0\n",
    "        self.sum = 0\n",
    "        self.count = 0\n",
    "\n",
    "    def update(self, val, n=1):\n",
    "        self.val = val\n",
    "        self.sum += val * n\n",
    "        self.count += n\n",
    "        self.avg = self.sum / self.count\n",
    "\n",
    "\n",
    "def asMinutes(s):\n",
    "    m = math.floor(s / 60)\n",
    "    s -= m * 60\n",
    "    return '%dm %ds' % (m, s)\n",
    "\n",
    "\n",
    "def timeSince(since, percent):\n",
    "    now = time.time()\n",
    "    s = now - since\n",
    "    es = s / (percent)\n",
    "    rs = es - s\n",
    "    return '%s (remain %s)' % (asMinutes(s), asMinutes(rs))\n",
    "\n",
    "\n",
    "def train_fn(fold, train_loader, model, criterion, optimizer, epoch, scheduler, device):\n",
    "    model.train()\n",
    "    scaler = torch.cuda.amp.GradScaler(enabled=CFG.apex)\n",
    "    losses = AverageMeter()\n",
    "    start = end = time.time()\n",
    "    global_step = 0\n",
    "    for step, (inputs, labels) in enumerate(train_loader):\n",
    "        inputs = collate(inputs)\n",
    "        for k, v in inputs.items():\n",
    "            inputs[k] = v.to(device)\n",
    "        labels = labels.to(device)\n",
    "        batch_size = labels.size(0)\n",
    "        with torch.cuda.amp.autocast(enabled=CFG.apex):\n",
    "            y_preds = model(inputs)\n",
    "            loss = criterion(y_preds, labels)\n",
    "        if CFG.gradient_accumulation_steps > 1:\n",
    "            loss = loss / CFG.gradient_accumulation_steps\n",
    "        losses.update(loss.item(), batch_size)\n",
    "        scaler.scale(loss).backward()\n",
    "        grad_norm = torch.nn.utils.clip_grad_norm_(model.parameters(), CFG.max_grad_norm)\n",
    "        if (step + 1) % CFG.gradient_accumulation_steps == 0:\n",
    "            scaler.step(optimizer)\n",
    "            scaler.update()\n",
    "            optimizer.zero_grad()\n",
    "            global_step += 1\n",
    "            if CFG.batch_scheduler:\n",
    "                scheduler.step()\n",
    "        end = time.time()\n",
    "        if step % CFG.print_freq == 0 or step == (len(train_loader)-1):\n",
    "            print('Epoch: [{0}][{1}/{2}] '\n",
    "                  'Elapsed {remain:s} '\n",
    "                  'Loss: {loss.val:.4f}({loss.avg:.4f}) '\n",
    "                  'Grad: {grad_norm:.4f}  '\n",
    "                  'LR: {lr:.8f}  '\n",
    "                  .format(epoch+1, step, len(train_loader), \n",
    "                          remain=timeSince(start, float(step+1)/len(train_loader)),\n",
    "                          loss=losses,\n",
    "                          grad_norm=grad_norm,\n",
    "                          lr=scheduler.get_lr()[0]))\n",
    "        if CFG.wandb:\n",
    "            wandb.log({f\"[fold{fold}] loss\": losses.val,\n",
    "                       f\"[fold{fold}] lr\": scheduler.get_lr()[0]})\n",
    "    return losses.avg\n",
    "\n",
    "\n",
    "def valid_fn(valid_loader, model, criterion, device):\n",
    "    losses = AverageMeter()\n",
    "    model.eval()\n",
    "    preds = []\n",
    "    start = end = time.time()\n",
    "    for step, (inputs, labels) in enumerate(valid_loader):\n",
    "        inputs = collate(inputs)\n",
    "        for k, v in inputs.items():\n",
    "            inputs[k] = v.to(device)\n",
    "        labels = labels.to(device)\n",
    "        batch_size = labels.size(0)\n",
    "        with torch.no_grad():\n",
    "            y_preds = model(inputs)\n",
    "            loss = criterion(y_preds, labels)\n",
    "        if CFG.gradient_accumulation_steps > 1:\n",
    "            loss = loss / CFG.gradient_accumulation_steps\n",
    "        losses.update(loss.item(), batch_size)\n",
    "        preds.append(y_preds.to('cpu').numpy())\n",
    "        end = time.time()\n",
    "        if step % CFG.print_freq == 0 or step == (len(valid_loader)-1):\n",
    "            print('EVAL: [{0}/{1}] '\n",
    "                  'Elapsed {remain:s} '\n",
    "                  'Loss: {loss.val:.4f}({loss.avg:.4f}) '\n",
    "                  .format(step, len(valid_loader),\n",
    "                          loss=losses,\n",
    "                          remain=timeSince(start, float(step+1)/len(valid_loader))))\n",
    "    predictions = np.concatenate(preds)\n",
    "    return losses.avg, predictions"
   ]
  },
  {
   "cell_type": "markdown",
   "id": "730d838d",
   "metadata": {
    "papermill": {
     "duration": 0.008782,
     "end_time": "2022-08-31T22:32:41.916203",
     "exception": false,
     "start_time": "2022-08-31T22:32:41.907421",
     "status": "completed"
    },
    "tags": []
   },
   "source": [
    "# train loop"
   ]
  },
  {
   "cell_type": "code",
   "execution_count": 15,
   "id": "635322a0",
   "metadata": {
    "execution": {
     "iopub.execute_input": "2022-08-31T22:32:41.935559Z",
     "iopub.status.busy": "2022-08-31T22:32:41.935211Z",
     "iopub.status.idle": "2022-08-31T22:32:41.959171Z",
     "shell.execute_reply": "2022-08-31T22:32:41.956784Z"
    },
    "papermill": {
     "duration": 0.037102,
     "end_time": "2022-08-31T22:32:41.962148",
     "exception": false,
     "start_time": "2022-08-31T22:32:41.925046",
     "status": "completed"
    },
    "tags": []
   },
   "outputs": [],
   "source": [
    "# ====================================================\n",
    "# train loop\n",
    "# ====================================================\n",
    "def train_loop(folds, fold):\n",
    "    \n",
    "    LOGGER.info(f\"========== fold: {fold} training ==========\")\n",
    "\n",
    "    # ====================================================\n",
    "    # loader\n",
    "    # ====================================================\n",
    "    train_folds = folds[folds['fold'] != fold].reset_index(drop=True)\n",
    "    valid_folds = folds[folds['fold'] == fold].reset_index(drop=True)\n",
    "    valid_labels = valid_folds[CFG.target_cols].values\n",
    "    \n",
    "    train_dataset = TrainDataset(CFG, train_folds)\n",
    "    valid_dataset = TrainDataset(CFG, valid_folds)\n",
    "\n",
    "    train_loader = DataLoader(train_dataset,\n",
    "                              batch_size=CFG.batch_size,\n",
    "                              shuffle=True,\n",
    "                              num_workers=CFG.num_workers, pin_memory=True, drop_last=True)\n",
    "    valid_loader = DataLoader(valid_dataset,\n",
    "                              batch_size=CFG.batch_size * 2,\n",
    "                              shuffle=False,\n",
    "                              num_workers=CFG.num_workers, pin_memory=True, drop_last=False)\n",
    "\n",
    "    # ====================================================\n",
    "    # model & optimizer\n",
    "    # ====================================================\n",
    "    model = CustomModel(CFG, config_path=None, pretrained=True)\n",
    "    torch.save(model.config, OUTPUT_DIR+'config.pth')\n",
    "    model.to(device)\n",
    "    \n",
    "    def get_optimizer_params(model, encoder_lr, decoder_lr, weight_decay=0.0):\n",
    "        param_optimizer = list(model.named_parameters())\n",
    "        no_decay = [\"bias\", \"LayerNorm.bias\", \"LayerNorm.weight\"]\n",
    "        optimizer_parameters = [\n",
    "            {'params': [p for n, p in model.model.named_parameters() if not any(nd in n for nd in no_decay)],\n",
    "             'lr': encoder_lr, 'weight_decay': weight_decay},\n",
    "            {'params': [p for n, p in model.model.named_parameters() if any(nd in n for nd in no_decay)],\n",
    "             'lr': encoder_lr, 'weight_decay': 0.0},\n",
    "            {'params': [p for n, p in model.named_parameters() if \"model\" not in n],\n",
    "             'lr': decoder_lr, 'weight_decay': 0.0}\n",
    "        ]\n",
    "        return optimizer_parameters\n",
    "\n",
    "    optimizer_parameters = get_optimizer_params(model,\n",
    "                                                encoder_lr=CFG.encoder_lr, \n",
    "                                                decoder_lr=CFG.decoder_lr,\n",
    "                                                weight_decay=CFG.weight_decay)\n",
    "    optimizer = AdamW(optimizer_parameters, lr=CFG.encoder_lr, eps=CFG.eps, betas=CFG.betas)\n",
    "    \n",
    "    # ====================================================\n",
    "    # scheduler\n",
    "    # ====================================================\n",
    "    def get_scheduler(cfg, optimizer, num_train_steps):\n",
    "        if cfg.scheduler == 'linear':\n",
    "            scheduler = get_linear_schedule_with_warmup(\n",
    "                optimizer, num_warmup_steps=cfg.num_warmup_steps, num_training_steps=num_train_steps\n",
    "            )\n",
    "        elif cfg.scheduler == 'cosine':\n",
    "            scheduler = get_cosine_schedule_with_warmup(\n",
    "                optimizer, num_warmup_steps=cfg.num_warmup_steps, num_training_steps=num_train_steps, num_cycles=cfg.num_cycles\n",
    "            )\n",
    "        return scheduler\n",
    "    \n",
    "    num_train_steps = int(len(train_folds) / CFG.batch_size * CFG.epochs)\n",
    "    scheduler = get_scheduler(CFG, optimizer, num_train_steps)\n",
    "\n",
    "    # ====================================================\n",
    "    # loop\n",
    "    # ====================================================\n",
    "    criterion = nn.SmoothL1Loss(reduction='mean') # RMSELoss(reduction=\"mean\")\n",
    "    \n",
    "    best_score = np.inf\n",
    "\n",
    "    for epoch in range(CFG.epochs):\n",
    "\n",
    "        start_time = time.time()\n",
    "\n",
    "        # train\n",
    "        avg_loss = train_fn(fold, train_loader, model, criterion, optimizer, epoch, scheduler, device)\n",
    "\n",
    "        # eval\n",
    "        avg_val_loss, predictions = valid_fn(valid_loader, model, criterion, device)\n",
    "        \n",
    "        # scoring\n",
    "        score, scores = get_score(valid_labels, predictions)\n",
    "\n",
    "        elapsed = time.time() - start_time\n",
    "\n",
    "        LOGGER.info(f'Epoch {epoch+1} - avg_train_loss: {avg_loss:.4f}  avg_val_loss: {avg_val_loss:.4f}  time: {elapsed:.0f}s')\n",
    "        LOGGER.info(f'Epoch {epoch+1} - Score: {score:.4f}  Scores: {scores}')\n",
    "        if CFG.wandb:\n",
    "            wandb.log({f\"[fold{fold}] epoch\": epoch+1, \n",
    "                       f\"[fold{fold}] avg_train_loss\": avg_loss, \n",
    "                       f\"[fold{fold}] avg_val_loss\": avg_val_loss,\n",
    "                       f\"[fold{fold}] score\": score})\n",
    "        \n",
    "        if best_score > score:\n",
    "            best_score = score\n",
    "            LOGGER.info(f'Epoch {epoch+1} - Save Best Score: {best_score:.4f} Model')\n",
    "            torch.save({'model': model.state_dict(),\n",
    "                        'predictions': predictions},\n",
    "                        OUTPUT_DIR+f\"{CFG.model.replace('/', '-')}_fold{fold}_best.pth\")\n",
    "\n",
    "    predictions = torch.load(OUTPUT_DIR+f\"{CFG.model.replace('/', '-')}_fold{fold}_best.pth\", \n",
    "                             map_location=torch.device('cpu'))['predictions']\n",
    "    valid_folds[[f\"pred_{c}\" for c in CFG.target_cols]] = predictions\n",
    "\n",
    "    torch.cuda.empty_cache()\n",
    "    gc.collect()\n",
    "    \n",
    "    return valid_folds"
   ]
  },
  {
   "cell_type": "code",
   "execution_count": 16,
   "id": "07daa080",
   "metadata": {
    "execution": {
     "iopub.execute_input": "2022-08-31T22:32:41.984286Z",
     "iopub.status.busy": "2022-08-31T22:32:41.983961Z",
     "iopub.status.idle": "2022-09-01T01:51:42.378681Z",
     "shell.execute_reply": "2022-09-01T01:51:42.377687Z"
    },
    "papermill": {
     "duration": 11940.406964,
     "end_time": "2022-09-01T01:51:42.380833",
     "exception": false,
     "start_time": "2022-08-31T22:32:41.973869",
     "status": "completed"
    },
    "tags": []
   },
   "outputs": [
    {
     "name": "stderr",
     "output_type": "stream",
     "text": [
      "========== fold: 0 training ==========\n",
      "DebertaV2Config {\n",
      "  \"_name_or_path\": \"microsoft/deberta-v3-base\",\n",
      "  \"attention_dropout\": 0.0,\n",
      "  \"attention_probs_dropout_prob\": 0.0,\n",
      "  \"hidden_act\": \"gelu\",\n",
      "  \"hidden_dropout\": 0.0,\n",
      "  \"hidden_dropout_prob\": 0.0,\n",
      "  \"hidden_size\": 768,\n",
      "  \"initializer_range\": 0.02,\n",
      "  \"intermediate_size\": 3072,\n",
      "  \"layer_norm_eps\": 1e-07,\n",
      "  \"max_position_embeddings\": 512,\n",
      "  \"max_relative_positions\": -1,\n",
      "  \"model_type\": \"deberta-v2\",\n",
      "  \"norm_rel_ebd\": \"layer_norm\",\n",
      "  \"num_attention_heads\": 12,\n",
      "  \"num_hidden_layers\": 12,\n",
      "  \"output_hidden_states\": true,\n",
      "  \"pad_token_id\": 0,\n",
      "  \"pooler_dropout\": 0,\n",
      "  \"pooler_hidden_act\": \"gelu\",\n",
      "  \"pooler_hidden_size\": 768,\n",
      "  \"pos_att_type\": [\n",
      "    \"p2c\",\n",
      "    \"c2p\"\n",
      "  ],\n",
      "  \"position_biased_input\": false,\n",
      "  \"position_buckets\": 256,\n",
      "  \"relative_attention\": true,\n",
      "  \"share_att_key\": true,\n",
      "  \"transformers_version\": \"4.21.2\",\n",
      "  \"type_vocab_size\": 0,\n",
      "  \"vocab_size\": 128100\n",
      "}\n",
      "\n"
     ]
    },
    {
     "data": {
      "application/vnd.jupyter.widget-view+json": {
       "model_id": "dbf187f23d684beab8ad302436e2edcf",
       "version_major": 2,
       "version_minor": 0
      },
      "text/plain": [
       "Downloading pytorch_model.bin:   0%|          | 0.00/354M [00:00<?, ?B/s]"
      ]
     },
     "metadata": {},
     "output_type": "display_data"
    },
    {
     "name": "stderr",
     "output_type": "stream",
     "text": [
      "Some weights of the model checkpoint at microsoft/deberta-v3-base were not used when initializing DebertaV2Model: ['mask_predictions.LayerNorm.bias', 'mask_predictions.dense.bias', 'lm_predictions.lm_head.bias', 'lm_predictions.lm_head.dense.weight', 'lm_predictions.lm_head.dense.bias', 'mask_predictions.classifier.bias', 'lm_predictions.lm_head.LayerNorm.bias', 'lm_predictions.lm_head.LayerNorm.weight', 'mask_predictions.classifier.weight', 'mask_predictions.LayerNorm.weight', 'mask_predictions.dense.weight']\n",
      "- This IS expected if you are initializing DebertaV2Model from the checkpoint of a model trained on another task or with another architecture (e.g. initializing a BertForSequenceClassification model from a BertForPreTraining model).\n",
      "- This IS NOT expected if you are initializing DebertaV2Model from the checkpoint of a model that you expect to be exactly identical (initializing a BertForSequenceClassification model from a BertForSequenceClassification model).\n"
     ]
    },
    {
     "name": "stdout",
     "output_type": "stream",
     "text": [
      "Epoch: [1][0/366] Elapsed 0m 2s (remain 17m 36s) Loss: 2.3540(2.3540) Grad: inf  LR: 0.00002000  \n",
      "Epoch: [1][20/366] Elapsed 0m 39s (remain 10m 47s) Loss: 0.3457(1.3300) Grad: 183214.3438  LR: 0.00001999  \n",
      "Epoch: [1][40/366] Elapsed 1m 15s (remain 10m 1s) Loss: 0.1143(0.7888) Grad: 59873.2031  LR: 0.00001996  \n",
      "Epoch: [1][60/366] Elapsed 1m 48s (remain 9m 3s) Loss: 0.1742(0.5885) Grad: 163035.2656  LR: 0.00001991  \n",
      "Epoch: [1][80/366] Elapsed 2m 26s (remain 8m 34s) Loss: 0.1442(0.4814) Grad: 85090.5391  LR: 0.00001985  \n",
      "Epoch: [1][100/366] Elapsed 3m 9s (remain 8m 16s) Loss: 0.0982(0.4215) Grad: 63492.4805  LR: 0.00001977  \n",
      "Epoch: [1][120/366] Elapsed 3m 45s (remain 7m 36s) Loss: 0.1821(0.3740) Grad: 93093.6797  LR: 0.00001967  \n",
      "Epoch: [1][140/366] Elapsed 4m 23s (remain 7m 0s) Loss: 0.1646(0.3376) Grad: 87037.5078  LR: 0.00001955  \n",
      "Epoch: [1][160/366] Elapsed 4m 59s (remain 6m 20s) Loss: 0.1169(0.3099) Grad: 74544.7969  LR: 0.00001941  \n",
      "Epoch: [1][180/366] Elapsed 5m 35s (remain 5m 43s) Loss: 0.1694(0.2896) Grad: 70177.2812  LR: 0.00001926  \n",
      "Epoch: [1][200/366] Elapsed 6m 15s (remain 5m 8s) Loss: 0.1440(0.2739) Grad: 72767.5078  LR: 0.00001909  \n",
      "Epoch: [1][220/366] Elapsed 6m 49s (remain 4m 28s) Loss: 0.1809(0.2617) Grad: 134248.7031  LR: 0.00001890  \n",
      "Epoch: [1][240/366] Elapsed 7m 27s (remain 3m 51s) Loss: 0.1143(0.2498) Grad: 42884.1484  LR: 0.00001870  \n",
      "Epoch: [1][260/366] Elapsed 8m 4s (remain 3m 14s) Loss: 0.0800(0.2390) Grad: 33292.9336  LR: 0.00001848  \n",
      "Epoch: [1][280/366] Elapsed 8m 36s (remain 2m 36s) Loss: 0.1268(0.2294) Grad: 66171.0938  LR: 0.00001824  \n",
      "Epoch: [1][300/366] Elapsed 9m 9s (remain 1m 58s) Loss: 0.1074(0.2218) Grad: 48390.7148  LR: 0.00001799  \n",
      "Epoch: [1][320/366] Elapsed 9m 47s (remain 1m 22s) Loss: 0.1025(0.2153) Grad: 79031.0234  LR: 0.00001773  \n",
      "Epoch: [1][340/366] Elapsed 10m 22s (remain 0m 45s) Loss: 0.1397(0.2095) Grad: 99241.9609  LR: 0.00001745  \n",
      "Epoch: [1][360/366] Elapsed 10m 54s (remain 0m 9s) Loss: 0.1253(0.2040) Grad: 44318.6875  LR: 0.00001715  \n",
      "Epoch: [1][365/366] Elapsed 11m 2s (remain 0m 0s) Loss: 0.1102(0.2027) Grad: 47085.1172  LR: 0.00001708  \n",
      "EVAL: [0/62] Elapsed 0m 1s (remain 1m 14s) Loss: 0.0762(0.0762) \n",
      "EVAL: [20/62] Elapsed 0m 26s (remain 0m 51s) Loss: 0.0801(0.1046) \n",
      "EVAL: [40/62] Elapsed 0m 54s (remain 0m 27s) Loss: 0.0905(0.1040) \n"
     ]
    },
    {
     "name": "stderr",
     "output_type": "stream",
     "text": [
      "Epoch 1 - avg_train_loss: 0.2027  avg_val_loss: 0.1059  time: 740s\n",
      "Epoch 1 - Score: 0.4606  Scores: [0.4996937629771907, 0.45632419741462044, 0.41798291067803384, 0.4622002538982251, 0.4752168053338235, 0.45205017601158254]\n",
      "Epoch 1 - Save Best Score: 0.4606 Model\n"
     ]
    },
    {
     "name": "stdout",
     "output_type": "stream",
     "text": [
      "EVAL: [60/62] Elapsed 1m 17s (remain 0m 1s) Loss: 0.0992(0.1058) \n",
      "EVAL: [61/62] Elapsed 1m 17s (remain 0m 0s) Loss: 0.1202(0.1059) \n",
      "Epoch: [2][0/366] Elapsed 0m 1s (remain 8m 2s) Loss: 0.1071(0.1071) Grad: 164300.7500  LR: 0.00001706  \n",
      "Epoch: [2][20/366] Elapsed 0m 30s (remain 8m 22s) Loss: 0.1587(0.1029) Grad: 208521.5469  LR: 0.00001675  \n",
      "Epoch: [2][40/366] Elapsed 1m 8s (remain 9m 6s) Loss: 0.0898(0.1054) Grad: 130959.6250  LR: 0.00001643  \n",
      "Epoch: [2][60/366] Elapsed 1m 52s (remain 9m 21s) Loss: 0.1196(0.1041) Grad: 95220.3516  LR: 0.00001610  \n",
      "Epoch: [2][80/366] Elapsed 2m 30s (remain 8m 49s) Loss: 0.0756(0.1024) Grad: 64189.5469  LR: 0.00001575  \n",
      "Epoch: [2][100/366] Elapsed 3m 5s (remain 8m 7s) Loss: 0.1594(0.1028) Grad: 204060.7812  LR: 0.00001540  \n",
      "Epoch: [2][120/366] Elapsed 3m 43s (remain 7m 32s) Loss: 0.1119(0.1032) Grad: 84227.4922  LR: 0.00001503  \n",
      "Epoch: [2][140/366] Elapsed 4m 18s (remain 6m 52s) Loss: 0.0818(0.1024) Grad: 35142.7266  LR: 0.00001466  \n",
      "Epoch: [2][160/366] Elapsed 4m 55s (remain 6m 16s) Loss: 0.1324(0.1030) Grad: 109260.1250  LR: 0.00001427  \n",
      "Epoch: [2][180/366] Elapsed 5m 30s (remain 5m 38s) Loss: 0.1024(0.1016) Grad: 66118.7344  LR: 0.00001388  \n",
      "Epoch: [2][200/366] Elapsed 6m 12s (remain 5m 5s) Loss: 0.1159(0.1015) Grad: 74042.8828  LR: 0.00001348  \n",
      "Epoch: [2][220/366] Elapsed 6m 50s (remain 4m 29s) Loss: 0.1032(0.1007) Grad: 92692.7578  LR: 0.00001308  \n",
      "Epoch: [2][240/366] Elapsed 7m 22s (remain 3m 49s) Loss: 0.1038(0.1009) Grad: 64331.6211  LR: 0.00001267  \n",
      "Epoch: [2][260/366] Elapsed 7m 53s (remain 3m 10s) Loss: 0.1261(0.1017) Grad: 82502.9062  LR: 0.00001225  \n",
      "Epoch: [2][280/366] Elapsed 8m 23s (remain 2m 32s) Loss: 0.1411(0.1012) Grad: 137168.3125  LR: 0.00001183  \n",
      "Epoch: [2][300/366] Elapsed 9m 0s (remain 1m 56s) Loss: 0.0933(0.1016) Grad: 113756.7578  LR: 0.00001141  \n",
      "Epoch: [2][320/366] Elapsed 9m 33s (remain 1m 20s) Loss: 0.1487(0.1013) Grad: 119252.0469  LR: 0.00001098  \n",
      "Epoch: [2][340/366] Elapsed 10m 13s (remain 0m 45s) Loss: 0.1457(0.1013) Grad: 187433.5000  LR: 0.00001056  \n",
      "Epoch: [2][360/366] Elapsed 10m 49s (remain 0m 8s) Loss: 0.1020(0.1014) Grad: 38013.4180  LR: 0.00001013  \n",
      "Epoch: [2][365/366] Elapsed 10m 56s (remain 0m 0s) Loss: 0.1369(0.1014) Grad: 61745.0703  LR: 0.00001002  \n",
      "EVAL: [0/62] Elapsed 0m 1s (remain 1m 17s) Loss: 0.0740(0.0740) \n",
      "EVAL: [20/62] Elapsed 0m 25s (remain 0m 50s) Loss: 0.0787(0.1015) \n",
      "EVAL: [40/62] Elapsed 0m 53s (remain 0m 27s) Loss: 0.0882(0.1029) \n"
     ]
    },
    {
     "name": "stderr",
     "output_type": "stream",
     "text": [
      "Epoch 2 - avg_train_loss: 0.1014  avg_val_loss: 0.1044  time: 733s\n",
      "Epoch 2 - Score: 0.4572  Scores: [0.5009202521149595, 0.44924937811567284, 0.41062599249253223, 0.4596381490058948, 0.46839863600657716, 0.45438341550524963]\n",
      "Epoch 2 - Save Best Score: 0.4572 Model\n"
     ]
    },
    {
     "name": "stdout",
     "output_type": "stream",
     "text": [
      "EVAL: [60/62] Elapsed 1m 16s (remain 0m 1s) Loss: 0.0942(0.1044) \n",
      "EVAL: [61/62] Elapsed 1m 16s (remain 0m 0s) Loss: 0.1208(0.1044) \n",
      "Epoch: [3][0/366] Elapsed 0m 1s (remain 9m 56s) Loss: 0.1090(0.1090) Grad: 276447.3438  LR: 0.00001000  \n",
      "Epoch: [3][20/366] Elapsed 0m 32s (remain 8m 54s) Loss: 0.0736(0.0944) Grad: 90174.6250  LR: 0.00000957  \n",
      "Epoch: [3][40/366] Elapsed 1m 8s (remain 9m 5s) Loss: 0.0704(0.0941) Grad: 57685.8008  LR: 0.00000914  \n",
      "Epoch: [3][60/366] Elapsed 1m 49s (remain 9m 7s) Loss: 0.0585(0.0926) Grad: 99230.8984  LR: 0.00000872  \n",
      "Epoch: [3][80/366] Elapsed 2m 23s (remain 8m 24s) Loss: 0.0792(0.0922) Grad: 73890.3828  LR: 0.00000829  \n",
      "Epoch: [3][100/366] Elapsed 3m 2s (remain 7m 58s) Loss: 0.0664(0.0929) Grad: 98066.6016  LR: 0.00000787  \n",
      "Epoch: [3][120/366] Elapsed 3m 40s (remain 7m 27s) Loss: 0.1012(0.0939) Grad: 66695.2578  LR: 0.00000746  \n",
      "Epoch: [3][140/366] Elapsed 4m 14s (remain 6m 46s) Loss: 0.0593(0.0945) Grad: 109744.5000  LR: 0.00000704  \n",
      "Epoch: [3][160/366] Elapsed 4m 49s (remain 6m 9s) Loss: 0.0928(0.0944) Grad: 124055.0703  LR: 0.00000664  \n",
      "Epoch: [3][180/366] Elapsed 5m 22s (remain 5m 30s) Loss: 0.1434(0.0945) Grad: 68813.9844  LR: 0.00000624  \n",
      "Epoch: [3][200/366] Elapsed 6m 11s (remain 5m 4s) Loss: 0.1112(0.0944) Grad: 106333.4453  LR: 0.00000584  \n",
      "Epoch: [3][220/366] Elapsed 6m 46s (remain 4m 26s) Loss: 0.0930(0.0943) Grad: 85056.7969  LR: 0.00000546  \n",
      "Epoch: [3][240/366] Elapsed 7m 25s (remain 3m 50s) Loss: 0.0996(0.0936) Grad: 119985.1484  LR: 0.00000508  \n",
      "Epoch: [3][260/366] Elapsed 8m 7s (remain 3m 16s) Loss: 0.0917(0.0935) Grad: 88950.3359  LR: 0.00000471  \n",
      "Epoch: [3][280/366] Elapsed 8m 40s (remain 2m 37s) Loss: 0.0883(0.0930) Grad: 65450.6055  LR: 0.00000435  \n",
      "Epoch: [3][300/366] Elapsed 9m 14s (remain 1m 59s) Loss: 0.0872(0.0933) Grad: 125641.3672  LR: 0.00000400  \n",
      "Epoch: [3][320/366] Elapsed 9m 44s (remain 1m 21s) Loss: 0.1368(0.0937) Grad: 138638.3125  LR: 0.00000367  \n",
      "Epoch: [3][340/366] Elapsed 10m 23s (remain 0m 45s) Loss: 0.1171(0.0941) Grad: 65527.5742  LR: 0.00000334  \n",
      "Epoch: [3][360/366] Elapsed 10m 51s (remain 0m 9s) Loss: 0.0572(0.0942) Grad: 48455.8281  LR: 0.00000303  \n",
      "Epoch: [3][365/366] Elapsed 10m 59s (remain 0m 0s) Loss: 0.0842(0.0943) Grad: 81983.1094  LR: 0.00000295  \n",
      "EVAL: [0/62] Elapsed 0m 1s (remain 1m 15s) Loss: 0.0597(0.0597) \n",
      "EVAL: [20/62] Elapsed 0m 25s (remain 0m 50s) Loss: 0.0778(0.1001) \n",
      "EVAL: [40/62] Elapsed 0m 53s (remain 0m 27s) Loss: 0.0879(0.1017) \n"
     ]
    },
    {
     "name": "stderr",
     "output_type": "stream",
     "text": [
      "Epoch 3 - avg_train_loss: 0.0943  avg_val_loss: 0.1028  time: 736s\n",
      "Epoch 3 - Score: 0.4537  Scores: [0.49301247466474357, 0.44503414597460406, 0.4122512428618351, 0.46006913786745646, 0.4680419432842684, 0.4440455478770819]\n",
      "Epoch 3 - Save Best Score: 0.4537 Model\n"
     ]
    },
    {
     "name": "stdout",
     "output_type": "stream",
     "text": [
      "EVAL: [60/62] Elapsed 1m 16s (remain 0m 1s) Loss: 0.0868(0.1028) \n",
      "EVAL: [61/62] Elapsed 1m 16s (remain 0m 0s) Loss: 0.1058(0.1028) \n",
      "Epoch: [4][0/366] Elapsed 0m 2s (remain 15m 32s) Loss: 0.1196(0.1196) Grad: 384991.8438  LR: 0.00000294  \n",
      "Epoch: [4][20/366] Elapsed 0m 37s (remain 10m 22s) Loss: 0.0621(0.0883) Grad: 161876.4688  LR: 0.00000264  \n",
      "Epoch: [4][40/366] Elapsed 1m 12s (remain 9m 31s) Loss: 0.0894(0.0899) Grad: 210579.4531  LR: 0.00000236  \n",
      "Epoch: [4][60/366] Elapsed 1m 46s (remain 8m 52s) Loss: 0.0821(0.0874) Grad: 190035.7188  LR: 0.00000209  \n",
      "Epoch: [4][80/366] Elapsed 2m 23s (remain 8m 23s) Loss: 0.1459(0.0889) Grad: 195586.3906  LR: 0.00000183  \n",
      "Epoch: [4][100/366] Elapsed 3m 1s (remain 7m 55s) Loss: 0.1187(0.0910) Grad: 152261.7812  LR: 0.00000159  \n",
      "Epoch: [4][120/366] Elapsed 3m 37s (remain 7m 20s) Loss: 0.1034(0.0911) Grad: 245069.0781  LR: 0.00000137  \n",
      "Epoch: [4][140/366] Elapsed 4m 9s (remain 6m 37s) Loss: 0.0802(0.0898) Grad: 119867.1562  LR: 0.00000116  \n",
      "Epoch: [4][160/366] Elapsed 4m 47s (remain 6m 5s) Loss: 0.1394(0.0905) Grad: 204654.3906  LR: 0.00000097  \n",
      "Epoch: [4][180/366] Elapsed 5m 23s (remain 5m 30s) Loss: 0.1007(0.0892) Grad: 57116.7539  LR: 0.00000079  \n",
      "Epoch: [4][200/366] Elapsed 6m 1s (remain 4m 56s) Loss: 0.0583(0.0893) Grad: 62775.3789  LR: 0.00000063  \n",
      "Epoch: [4][220/366] Elapsed 6m 29s (remain 4m 15s) Loss: 0.0565(0.0891) Grad: 94158.6172  LR: 0.00000049  \n",
      "Epoch: [4][240/366] Elapsed 7m 9s (remain 3m 43s) Loss: 0.0753(0.0889) Grad: 65159.3711  LR: 0.00000037  \n",
      "Epoch: [4][260/366] Elapsed 7m 46s (remain 3m 7s) Loss: 0.1019(0.0892) Grad: 131010.4531  LR: 0.00000026  \n",
      "Epoch: [4][280/366] Elapsed 8m 21s (remain 2m 31s) Loss: 0.0616(0.0888) Grad: 74603.2812  LR: 0.00000017  \n",
      "Epoch: [4][300/366] Elapsed 8m 58s (remain 1m 56s) Loss: 0.1237(0.0883) Grad: 175261.0312  LR: 0.00000010  \n",
      "Epoch: [4][320/366] Elapsed 9m 32s (remain 1m 20s) Loss: 0.0659(0.0880) Grad: 71202.0078  LR: 0.00000005  \n",
      "Epoch: [4][340/366] Elapsed 10m 8s (remain 0m 44s) Loss: 0.0945(0.0882) Grad: 116524.5547  LR: 0.00000002  \n",
      "Epoch: [4][360/366] Elapsed 10m 47s (remain 0m 8s) Loss: 0.0854(0.0883) Grad: 66251.8125  LR: 0.00000000  \n",
      "Epoch: [4][365/366] Elapsed 10m 56s (remain 0m 0s) Loss: 0.0869(0.0883) Grad: 42102.3047  LR: 0.00000000  \n",
      "EVAL: [0/62] Elapsed 0m 1s (remain 1m 14s) Loss: 0.0620(0.0620) \n",
      "EVAL: [20/62] Elapsed 0m 25s (remain 0m 50s) Loss: 0.0769(0.0991) \n",
      "EVAL: [40/62] Elapsed 0m 53s (remain 0m 27s) Loss: 0.0843(0.1008) \n"
     ]
    },
    {
     "name": "stderr",
     "output_type": "stream",
     "text": [
      "Epoch 4 - avg_train_loss: 0.0883  avg_val_loss: 0.1018  time: 733s\n",
      "Epoch 4 - Score: 0.4514  Scores: [0.48969456742073625, 0.44272521674521353, 0.4098073525259803, 0.45862207070131683, 0.4661503746510145, 0.44167336097820015]\n",
      "Epoch 4 - Save Best Score: 0.4514 Model\n"
     ]
    },
    {
     "name": "stdout",
     "output_type": "stream",
     "text": [
      "EVAL: [60/62] Elapsed 1m 16s (remain 0m 1s) Loss: 0.0887(0.1018) \n",
      "EVAL: [61/62] Elapsed 1m 16s (remain 0m 0s) Loss: 0.0977(0.1018) \n"
     ]
    },
    {
     "name": "stderr",
     "output_type": "stream",
     "text": [
      "========== fold: 0 result ==========\n",
      "Score: 0.4514  Scores: [0.48969456742073625, 0.44272521674521353, 0.4098073525259803, 0.45862207070131683, 0.4661503746510145, 0.44167336097820015]\n",
      "========== fold: 1 training ==========\n",
      "DebertaV2Config {\n",
      "  \"_name_or_path\": \"microsoft/deberta-v3-base\",\n",
      "  \"attention_dropout\": 0.0,\n",
      "  \"attention_probs_dropout_prob\": 0.0,\n",
      "  \"hidden_act\": \"gelu\",\n",
      "  \"hidden_dropout\": 0.0,\n",
      "  \"hidden_dropout_prob\": 0.0,\n",
      "  \"hidden_size\": 768,\n",
      "  \"initializer_range\": 0.02,\n",
      "  \"intermediate_size\": 3072,\n",
      "  \"layer_norm_eps\": 1e-07,\n",
      "  \"max_position_embeddings\": 512,\n",
      "  \"max_relative_positions\": -1,\n",
      "  \"model_type\": \"deberta-v2\",\n",
      "  \"norm_rel_ebd\": \"layer_norm\",\n",
      "  \"num_attention_heads\": 12,\n",
      "  \"num_hidden_layers\": 12,\n",
      "  \"output_hidden_states\": true,\n",
      "  \"pad_token_id\": 0,\n",
      "  \"pooler_dropout\": 0,\n",
      "  \"pooler_hidden_act\": \"gelu\",\n",
      "  \"pooler_hidden_size\": 768,\n",
      "  \"pos_att_type\": [\n",
      "    \"p2c\",\n",
      "    \"c2p\"\n",
      "  ],\n",
      "  \"position_biased_input\": false,\n",
      "  \"position_buckets\": 256,\n",
      "  \"relative_attention\": true,\n",
      "  \"share_att_key\": true,\n",
      "  \"transformers_version\": \"4.21.2\",\n",
      "  \"type_vocab_size\": 0,\n",
      "  \"vocab_size\": 128100\n",
      "}\n",
      "\n",
      "Some weights of the model checkpoint at microsoft/deberta-v3-base were not used when initializing DebertaV2Model: ['mask_predictions.LayerNorm.bias', 'mask_predictions.dense.bias', 'lm_predictions.lm_head.bias', 'lm_predictions.lm_head.dense.weight', 'lm_predictions.lm_head.dense.bias', 'mask_predictions.classifier.bias', 'lm_predictions.lm_head.LayerNorm.bias', 'lm_predictions.lm_head.LayerNorm.weight', 'mask_predictions.classifier.weight', 'mask_predictions.LayerNorm.weight', 'mask_predictions.dense.weight']\n",
      "- This IS expected if you are initializing DebertaV2Model from the checkpoint of a model trained on another task or with another architecture (e.g. initializing a BertForSequenceClassification model from a BertForPreTraining model).\n",
      "- This IS NOT expected if you are initializing DebertaV2Model from the checkpoint of a model that you expect to be exactly identical (initializing a BertForSequenceClassification model from a BertForSequenceClassification model).\n"
     ]
    },
    {
     "name": "stdout",
     "output_type": "stream",
     "text": [
      "Epoch: [1][0/366] Elapsed 0m 1s (remain 9m 19s) Loss: 2.4673(2.4673) Grad: inf  LR: 0.00002000  \n",
      "Epoch: [1][20/366] Elapsed 0m 40s (remain 11m 10s) Loss: 0.5606(1.5055) Grad: 161415.4688  LR: 0.00001999  \n",
      "Epoch: [1][40/366] Elapsed 1m 19s (remain 10m 29s) Loss: 0.2576(0.8751) Grad: 79344.1484  LR: 0.00001996  \n",
      "Epoch: [1][60/366] Elapsed 1m 59s (remain 9m 55s) Loss: 0.1089(0.6395) Grad: 60342.9297  LR: 0.00001991  \n",
      "Epoch: [1][80/366] Elapsed 2m 37s (remain 9m 15s) Loss: 0.1747(0.5147) Grad: 118954.3516  LR: 0.00001985  \n",
      "Epoch: [1][100/366] Elapsed 3m 16s (remain 8m 36s) Loss: 0.1968(0.4436) Grad: 55434.2578  LR: 0.00001977  \n",
      "Epoch: [1][120/366] Elapsed 3m 52s (remain 7m 50s) Loss: 0.0812(0.3912) Grad: 36140.1328  LR: 0.00001967  \n",
      "Epoch: [1][140/366] Elapsed 4m 26s (remain 7m 5s) Loss: 0.2160(0.3552) Grad: 87041.8828  LR: 0.00001955  \n",
      "Epoch: [1][160/366] Elapsed 5m 2s (remain 6m 24s) Loss: 0.0832(0.3243) Grad: 55893.4180  LR: 0.00001941  \n",
      "Epoch: [1][180/366] Elapsed 5m 35s (remain 5m 43s) Loss: 0.0821(0.3025) Grad: 32965.3125  LR: 0.00001926  \n",
      "Epoch: [1][200/366] Elapsed 6m 8s (remain 5m 2s) Loss: 0.1415(0.2835) Grad: 53250.2656  LR: 0.00001909  \n",
      "Epoch: [1][220/366] Elapsed 6m 41s (remain 4m 23s) Loss: 0.0873(0.2685) Grad: 44429.2930  LR: 0.00001890  \n",
      "Epoch: [1][240/366] Elapsed 7m 18s (remain 3m 47s) Loss: 0.1379(0.2556) Grad: 35915.6875  LR: 0.00001870  \n",
      "Epoch: [1][260/366] Elapsed 7m 56s (remain 3m 11s) Loss: 0.1078(0.2446) Grad: 58200.9492  LR: 0.00001848  \n",
      "Epoch: [1][280/366] Elapsed 8m 29s (remain 2m 34s) Loss: 0.1373(0.2359) Grad: 82695.5938  LR: 0.00001824  \n",
      "Epoch: [1][300/366] Elapsed 9m 5s (remain 1m 57s) Loss: 0.1547(0.2280) Grad: 46508.2695  LR: 0.00001799  \n",
      "Epoch: [1][320/366] Elapsed 9m 40s (remain 1m 21s) Loss: 0.1061(0.2208) Grad: 87387.1797  LR: 0.00001773  \n",
      "Epoch: [1][340/366] Elapsed 10m 16s (remain 0m 45s) Loss: 0.0973(0.2147) Grad: 47176.8672  LR: 0.00001745  \n",
      "Epoch: [1][360/366] Elapsed 10m 49s (remain 0m 8s) Loss: 0.1412(0.2094) Grad: 55244.6875  LR: 0.00001716  \n",
      "Epoch: [1][365/366] Elapsed 10m 55s (remain 0m 0s) Loss: 0.0949(0.2080) Grad: 26409.7715  LR: 0.00001708  \n",
      "EVAL: [0/62] Elapsed 0m 1s (remain 1m 8s) Loss: 0.1083(0.1083) \n",
      "EVAL: [20/62] Elapsed 0m 26s (remain 0m 51s) Loss: 0.1120(0.1247) \n",
      "EVAL: [40/62] Elapsed 0m 50s (remain 0m 25s) Loss: 0.1168(0.1249) \n"
     ]
    },
    {
     "name": "stderr",
     "output_type": "stream",
     "text": [
      "Epoch 1 - avg_train_loss: 0.2080  avg_val_loss: 0.1255  time: 733s\n",
      "Epoch 1 - Score: 0.5023  Scores: [0.540120086236007, 0.4970565917960422, 0.42964699038037457, 0.5142343707057332, 0.5336747381461182, 0.4990323091070021]\n",
      "Epoch 1 - Save Best Score: 0.5023 Model\n"
     ]
    },
    {
     "name": "stdout",
     "output_type": "stream",
     "text": [
      "EVAL: [60/62] Elapsed 1m 17s (remain 0m 1s) Loss: 0.1194(0.1255) \n",
      "EVAL: [61/62] Elapsed 1m 17s (remain 0m 0s) Loss: 0.0970(0.1255) \n",
      "Epoch: [2][0/366] Elapsed 0m 1s (remain 7m 23s) Loss: 0.1016(0.1016) Grad: 223396.7344  LR: 0.00001707  \n",
      "Epoch: [2][20/366] Elapsed 0m 34s (remain 9m 31s) Loss: 0.1037(0.1090) Grad: 131411.2969  LR: 0.00001676  \n",
      "Epoch: [2][40/366] Elapsed 1m 9s (remain 9m 11s) Loss: 0.0672(0.1080) Grad: 59586.1133  LR: 0.00001644  \n",
      "Epoch: [2][60/366] Elapsed 1m 42s (remain 8m 31s) Loss: 0.0910(0.1054) Grad: 58440.3047  LR: 0.00001610  \n",
      "Epoch: [2][80/366] Elapsed 2m 12s (remain 7m 45s) Loss: 0.0814(0.1036) Grad: 53772.9844  LR: 0.00001576  \n",
      "Epoch: [2][100/366] Elapsed 2m 48s (remain 7m 22s) Loss: 0.1699(0.1055) Grad: 170575.1562  LR: 0.00001540  \n",
      "Epoch: [2][120/366] Elapsed 3m 26s (remain 6m 58s) Loss: 0.1155(0.1051) Grad: 175482.2656  LR: 0.00001504  \n",
      "Epoch: [2][140/366] Elapsed 4m 4s (remain 6m 29s) Loss: 0.0938(0.1047) Grad: 72783.9766  LR: 0.00001466  \n",
      "Epoch: [2][160/366] Elapsed 4m 43s (remain 6m 0s) Loss: 0.1000(0.1052) Grad: 86356.8984  LR: 0.00001428  \n",
      "Epoch: [2][180/366] Elapsed 5m 17s (remain 5m 24s) Loss: 0.1115(0.1046) Grad: 64435.5547  LR: 0.00001389  \n",
      "Epoch: [2][200/366] Elapsed 5m 48s (remain 4m 46s) Loss: 0.0657(0.1034) Grad: 95422.9844  LR: 0.00001349  \n",
      "Epoch: [2][220/366] Elapsed 6m 29s (remain 4m 15s) Loss: 0.0876(0.1021) Grad: 93505.2891  LR: 0.00001309  \n",
      "Epoch: [2][240/366] Elapsed 7m 6s (remain 3m 41s) Loss: 0.0997(0.1014) Grad: 84576.5938  LR: 0.00001268  \n",
      "Epoch: [2][260/366] Elapsed 7m 42s (remain 3m 5s) Loss: 0.0938(0.1011) Grad: 78336.9375  LR: 0.00001226  \n",
      "Epoch: [2][280/366] Elapsed 8m 16s (remain 2m 30s) Loss: 0.0683(0.1011) Grad: 79404.9219  LR: 0.00001184  \n",
      "Epoch: [2][300/366] Elapsed 8m 55s (remain 1m 55s) Loss: 0.0659(0.1010) Grad: 61407.6250  LR: 0.00001142  \n",
      "Epoch: [2][320/366] Elapsed 9m 32s (remain 1m 20s) Loss: 0.1381(0.1006) Grad: 133937.1875  LR: 0.00001099  \n",
      "Epoch: [2][340/366] Elapsed 10m 11s (remain 0m 44s) Loss: 0.1396(0.1010) Grad: 168133.4688  LR: 0.00001057  \n",
      "Epoch: [2][360/366] Elapsed 10m 45s (remain 0m 8s) Loss: 0.0857(0.1013) Grad: 91459.8516  LR: 0.00001014  \n",
      "Epoch: [2][365/366] Elapsed 10m 53s (remain 0m 0s) Loss: 0.1397(0.1013) Grad: 66145.5000  LR: 0.00001003  \n",
      "EVAL: [0/62] Elapsed 0m 1s (remain 1m 14s) Loss: 0.0960(0.0960) \n",
      "EVAL: [20/62] Elapsed 0m 25s (remain 0m 49s) Loss: 0.1012(0.1097) \n",
      "EVAL: [40/62] Elapsed 0m 49s (remain 0m 25s) Loss: 0.1005(0.1064) \n"
     ]
    },
    {
     "name": "stderr",
     "output_type": "stream",
     "text": [
      "Epoch 2 - avg_train_loss: 0.1013  avg_val_loss: 0.1057  time: 731s\n",
      "Epoch 2 - Score: 0.4604  Scores: [0.4957142945296846, 0.45346075030122873, 0.418452441515017, 0.4604199796400296, 0.4721424547773211, 0.46245706178304186]\n",
      "Epoch 2 - Save Best Score: 0.4604 Model\n"
     ]
    },
    {
     "name": "stdout",
     "output_type": "stream",
     "text": [
      "EVAL: [60/62] Elapsed 1m 16s (remain 0m 1s) Loss: 0.0903(0.1057) \n",
      "EVAL: [61/62] Elapsed 1m 16s (remain 0m 0s) Loss: 0.0644(0.1057) \n",
      "Epoch: [3][0/366] Elapsed 0m 2s (remain 14m 18s) Loss: 0.0824(0.0824) Grad: 297365.3750  LR: 0.00001001  \n",
      "Epoch: [3][20/366] Elapsed 0m 34s (remain 9m 28s) Loss: 0.0844(0.0881) Grad: 173415.7031  LR: 0.00000958  \n",
      "Epoch: [3][40/366] Elapsed 1m 14s (remain 9m 48s) Loss: 0.0639(0.0896) Grad: 117295.7734  LR: 0.00000916  \n",
      "Epoch: [3][60/366] Elapsed 1m 44s (remain 8m 41s) Loss: 0.0718(0.0900) Grad: 76109.7109  LR: 0.00000873  \n",
      "Epoch: [3][80/366] Elapsed 2m 27s (remain 8m 37s) Loss: 0.1001(0.0906) Grad: 132168.9531  LR: 0.00000831  \n",
      "Epoch: [3][100/366] Elapsed 3m 0s (remain 7m 53s) Loss: 0.0795(0.0899) Grad: 75255.9609  LR: 0.00000789  \n",
      "Epoch: [3][120/366] Elapsed 3m 38s (remain 7m 22s) Loss: 0.0672(0.0906) Grad: 61403.6641  LR: 0.00000747  \n",
      "Epoch: [3][140/366] Elapsed 4m 14s (remain 6m 46s) Loss: 0.0688(0.0911) Grad: 75964.2422  LR: 0.00000706  \n",
      "Epoch: [3][160/366] Elapsed 4m 48s (remain 6m 7s) Loss: 0.0726(0.0916) Grad: 80148.4453  LR: 0.00000665  \n",
      "Epoch: [3][180/366] Elapsed 5m 26s (remain 5m 33s) Loss: 0.0675(0.0915) Grad: 51900.3672  LR: 0.00000625  \n",
      "Epoch: [3][200/366] Elapsed 5m 57s (remain 4m 53s) Loss: 0.0806(0.0915) Grad: 161308.9375  LR: 0.00000586  \n",
      "Epoch: [3][220/366] Elapsed 6m 29s (remain 4m 15s) Loss: 0.0927(0.0910) Grad: 107225.4688  LR: 0.00000547  \n",
      "Epoch: [3][240/366] Elapsed 7m 9s (remain 3m 42s) Loss: 0.0989(0.0910) Grad: 125329.6016  LR: 0.00000509  \n",
      "Epoch: [3][260/366] Elapsed 7m 44s (remain 3m 6s) Loss: 0.0576(0.0913) Grad: 61591.2500  LR: 0.00000472  \n",
      "Epoch: [3][280/366] Elapsed 8m 24s (remain 2m 32s) Loss: 0.0739(0.0905) Grad: 69782.5781  LR: 0.00000437  \n",
      "Epoch: [3][300/366] Elapsed 9m 3s (remain 1m 57s) Loss: 0.0807(0.0908) Grad: 44942.9141  LR: 0.00000402  \n",
      "Epoch: [3][320/366] Elapsed 9m 35s (remain 1m 20s) Loss: 0.1228(0.0904) Grad: 93624.9062  LR: 0.00000368  \n",
      "Epoch: [3][340/366] Elapsed 10m 11s (remain 0m 44s) Loss: 0.0890(0.0912) Grad: 80399.6250  LR: 0.00000335  \n",
      "Epoch: [3][360/366] Elapsed 10m 44s (remain 0m 8s) Loss: 0.0809(0.0916) Grad: 69010.8984  LR: 0.00000304  \n",
      "Epoch: [3][365/366] Elapsed 10m 55s (remain 0m 0s) Loss: 0.0938(0.0918) Grad: 72050.3281  LR: 0.00000296  \n",
      "EVAL: [0/62] Elapsed 0m 1s (remain 1m 9s) Loss: 0.1016(0.1016) \n",
      "EVAL: [20/62] Elapsed 0m 25s (remain 0m 49s) Loss: 0.0985(0.1081) \n",
      "EVAL: [40/62] Elapsed 0m 49s (remain 0m 25s) Loss: 0.1002(0.1063) \n"
     ]
    },
    {
     "name": "stderr",
     "output_type": "stream",
     "text": [
      "Epoch 3 - avg_train_loss: 0.0918  avg_val_loss: 0.1071  time: 732s\n",
      "Epoch 3 - Score: 0.4634  Scores: [0.5019278482239844, 0.4527585082137657, 0.4203735926943386, 0.4653757490565599, 0.483671603271934, 0.4562213284384801]\n"
     ]
    },
    {
     "name": "stdout",
     "output_type": "stream",
     "text": [
      "EVAL: [60/62] Elapsed 1m 16s (remain 0m 1s) Loss: 0.0944(0.1072) \n",
      "EVAL: [61/62] Elapsed 1m 16s (remain 0m 0s) Loss: 0.0663(0.1071) \n",
      "Epoch: [4][0/366] Elapsed 0m 4s (remain 25m 48s) Loss: 0.0855(0.0855) Grad: 240159.3594  LR: 0.00000295  \n",
      "Epoch: [4][20/366] Elapsed 0m 37s (remain 10m 19s) Loss: 0.0890(0.0860) Grad: 208527.0938  LR: 0.00000265  \n",
      "Epoch: [4][40/366] Elapsed 1m 12s (remain 9m 33s) Loss: 0.1092(0.0913) Grad: 174581.0156  LR: 0.00000237  \n",
      "Epoch: [4][60/366] Elapsed 1m 45s (remain 8m 49s) Loss: 0.0925(0.0888) Grad: 147017.9688  LR: 0.00000210  \n",
      "Epoch: [4][80/366] Elapsed 2m 17s (remain 8m 3s) Loss: 0.0869(0.0892) Grad: 232443.4062  LR: 0.00000184  \n",
      "Epoch: [4][100/366] Elapsed 2m 50s (remain 7m 26s) Loss: 0.0629(0.0870) Grad: 85157.7344  LR: 0.00000160  \n",
      "Epoch: [4][120/366] Elapsed 3m 22s (remain 6m 50s) Loss: 0.1227(0.0876) Grad: 165809.5625  LR: 0.00000138  \n",
      "Epoch: [4][140/366] Elapsed 3m 55s (remain 6m 15s) Loss: 0.0649(0.0871) Grad: 157878.2344  LR: 0.00000117  \n",
      "Epoch: [4][160/366] Elapsed 4m 32s (remain 5m 47s) Loss: 0.1029(0.0872) Grad: 133195.9375  LR: 0.00000098  \n",
      "Epoch: [4][180/366] Elapsed 5m 7s (remain 5m 14s) Loss: 0.1014(0.0873) Grad: inf  LR: 0.00000080  \n",
      "Epoch: [4][200/366] Elapsed 5m 43s (remain 4m 42s) Loss: 0.0783(0.0881) Grad: 102878.0625  LR: 0.00000064  \n",
      "Epoch: [4][220/366] Elapsed 6m 20s (remain 4m 9s) Loss: 0.0752(0.0879) Grad: 106320.0391  LR: 0.00000050  \n",
      "Epoch: [4][240/366] Elapsed 6m 54s (remain 3m 34s) Loss: 0.0738(0.0877) Grad: 79328.2891  LR: 0.00000037  \n",
      "Epoch: [4][260/366] Elapsed 7m 34s (remain 3m 2s) Loss: 0.0743(0.0872) Grad: 76086.7578  LR: 0.00000027  \n",
      "Epoch: [4][280/366] Elapsed 8m 15s (remain 2m 29s) Loss: 0.0899(0.0872) Grad: 84791.7188  LR: 0.00000018  \n",
      "Epoch: [4][300/366] Elapsed 8m 47s (remain 1m 53s) Loss: 0.0604(0.0872) Grad: 41625.1172  LR: 0.00000011  \n",
      "Epoch: [4][320/366] Elapsed 9m 24s (remain 1m 19s) Loss: 0.1001(0.0865) Grad: 70237.7891  LR: 0.00000005  \n",
      "Epoch: [4][340/366] Elapsed 10m 5s (remain 0m 44s) Loss: 0.0727(0.0866) Grad: 79984.4219  LR: 0.00000002  \n",
      "Epoch: [4][360/366] Elapsed 10m 44s (remain 0m 8s) Loss: 0.0643(0.0863) Grad: 44498.6602  LR: 0.00000000  \n",
      "Epoch: [4][365/366] Elapsed 10m 54s (remain 0m 0s) Loss: 0.0532(0.0862) Grad: 60798.2773  LR: 0.00000000  \n",
      "EVAL: [0/62] Elapsed 0m 1s (remain 1m 7s) Loss: 0.0986(0.0986) \n",
      "EVAL: [20/62] Elapsed 0m 25s (remain 0m 49s) Loss: 0.1016(0.1070) \n",
      "EVAL: [40/62] Elapsed 0m 49s (remain 0m 25s) Loss: 0.0962(0.1039) \n"
     ]
    },
    {
     "name": "stderr",
     "output_type": "stream",
     "text": [
      "Epoch 4 - avg_train_loss: 0.0862  avg_val_loss: 0.1039  time: 731s\n",
      "Epoch 4 - Score: 0.4564  Scores: [0.4911934975663924, 0.44727532541645115, 0.4174370870643768, 0.4546879877574396, 0.47251429785865906, 0.45553447173923584]\n",
      "Epoch 4 - Save Best Score: 0.4564 Model\n"
     ]
    },
    {
     "name": "stdout",
     "output_type": "stream",
     "text": [
      "EVAL: [60/62] Elapsed 1m 16s (remain 0m 1s) Loss: 0.0899(0.1040) \n",
      "EVAL: [61/62] Elapsed 1m 16s (remain 0m 0s) Loss: 0.0556(0.1039) \n"
     ]
    },
    {
     "name": "stderr",
     "output_type": "stream",
     "text": [
      "========== fold: 1 result ==========\n",
      "Score: 0.4564  Scores: [0.4911934975663924, 0.44727532541645115, 0.4174370870643768, 0.4546879877574396, 0.47251429785865906, 0.45553447173923584]\n",
      "========== fold: 2 training ==========\n",
      "DebertaV2Config {\n",
      "  \"_name_or_path\": \"microsoft/deberta-v3-base\",\n",
      "  \"attention_dropout\": 0.0,\n",
      "  \"attention_probs_dropout_prob\": 0.0,\n",
      "  \"hidden_act\": \"gelu\",\n",
      "  \"hidden_dropout\": 0.0,\n",
      "  \"hidden_dropout_prob\": 0.0,\n",
      "  \"hidden_size\": 768,\n",
      "  \"initializer_range\": 0.02,\n",
      "  \"intermediate_size\": 3072,\n",
      "  \"layer_norm_eps\": 1e-07,\n",
      "  \"max_position_embeddings\": 512,\n",
      "  \"max_relative_positions\": -1,\n",
      "  \"model_type\": \"deberta-v2\",\n",
      "  \"norm_rel_ebd\": \"layer_norm\",\n",
      "  \"num_attention_heads\": 12,\n",
      "  \"num_hidden_layers\": 12,\n",
      "  \"output_hidden_states\": true,\n",
      "  \"pad_token_id\": 0,\n",
      "  \"pooler_dropout\": 0,\n",
      "  \"pooler_hidden_act\": \"gelu\",\n",
      "  \"pooler_hidden_size\": 768,\n",
      "  \"pos_att_type\": [\n",
      "    \"p2c\",\n",
      "    \"c2p\"\n",
      "  ],\n",
      "  \"position_biased_input\": false,\n",
      "  \"position_buckets\": 256,\n",
      "  \"relative_attention\": true,\n",
      "  \"share_att_key\": true,\n",
      "  \"transformers_version\": \"4.21.2\",\n",
      "  \"type_vocab_size\": 0,\n",
      "  \"vocab_size\": 128100\n",
      "}\n",
      "\n",
      "Some weights of the model checkpoint at microsoft/deberta-v3-base were not used when initializing DebertaV2Model: ['mask_predictions.LayerNorm.bias', 'mask_predictions.dense.bias', 'lm_predictions.lm_head.bias', 'lm_predictions.lm_head.dense.weight', 'lm_predictions.lm_head.dense.bias', 'mask_predictions.classifier.bias', 'lm_predictions.lm_head.LayerNorm.bias', 'lm_predictions.lm_head.LayerNorm.weight', 'mask_predictions.classifier.weight', 'mask_predictions.LayerNorm.weight', 'mask_predictions.dense.weight']\n",
      "- This IS expected if you are initializing DebertaV2Model from the checkpoint of a model trained on another task or with another architecture (e.g. initializing a BertForSequenceClassification model from a BertForPreTraining model).\n",
      "- This IS NOT expected if you are initializing DebertaV2Model from the checkpoint of a model that you expect to be exactly identical (initializing a BertForSequenceClassification model from a BertForSequenceClassification model).\n"
     ]
    },
    {
     "name": "stdout",
     "output_type": "stream",
     "text": [
      "Epoch: [1][0/366] Elapsed 0m 1s (remain 9m 40s) Loss: 2.5660(2.5660) Grad: inf  LR: 0.00002000  \n",
      "Epoch: [1][20/366] Elapsed 0m 35s (remain 9m 50s) Loss: 0.5007(1.5120) Grad: 159043.9375  LR: 0.00001999  \n",
      "Epoch: [1][40/366] Elapsed 1m 12s (remain 9m 37s) Loss: 0.2571(0.8962) Grad: 84977.8438  LR: 0.00001996  \n",
      "Epoch: [1][60/366] Elapsed 1m 52s (remain 9m 20s) Loss: 0.2288(0.6646) Grad: 145993.5312  LR: 0.00001991  \n",
      "Epoch: [1][80/366] Elapsed 2m 35s (remain 9m 5s) Loss: 0.1103(0.5518) Grad: 55001.2695  LR: 0.00001985  \n",
      "Epoch: [1][100/366] Elapsed 3m 12s (remain 8m 25s) Loss: 0.1196(0.4665) Grad: 38925.1641  LR: 0.00001977  \n",
      "Epoch: [1][120/366] Elapsed 3m 47s (remain 7m 41s) Loss: 0.1070(0.4099) Grad: 74962.3594  LR: 0.00001967  \n",
      "Epoch: [1][140/366] Elapsed 4m 22s (remain 6m 59s) Loss: 0.1001(0.3706) Grad: 55792.4766  LR: 0.00001955  \n",
      "Epoch: [1][160/366] Elapsed 5m 1s (remain 6m 23s) Loss: 0.1735(0.3407) Grad: 49793.8984  LR: 0.00001941  \n",
      "Epoch: [1][180/366] Elapsed 5m 38s (remain 5m 45s) Loss: 0.1281(0.3174) Grad: 118535.6484  LR: 0.00001926  \n",
      "Epoch: [1][200/366] Elapsed 6m 17s (remain 5m 10s) Loss: 0.0672(0.2969) Grad: 54919.4609  LR: 0.00001909  \n",
      "Epoch: [1][220/366] Elapsed 6m 49s (remain 4m 28s) Loss: 0.1118(0.2820) Grad: 75320.8516  LR: 0.00001890  \n",
      "Epoch: [1][240/366] Elapsed 7m 27s (remain 3m 51s) Loss: 0.1261(0.2687) Grad: 95245.9688  LR: 0.00001870  \n",
      "Epoch: [1][260/366] Elapsed 8m 7s (remain 3m 15s) Loss: 0.1542(0.2570) Grad: 67895.9688  LR: 0.00001848  \n",
      "Epoch: [1][280/366] Elapsed 8m 44s (remain 2m 38s) Loss: 0.1002(0.2480) Grad: 34814.1133  LR: 0.00001824  \n",
      "Epoch: [1][300/366] Elapsed 9m 21s (remain 2m 1s) Loss: 0.1331(0.2397) Grad: 94128.8594  LR: 0.00001799  \n",
      "Epoch: [1][320/366] Elapsed 9m 59s (remain 1m 23s) Loss: 0.1013(0.2317) Grad: 36476.2461  LR: 0.00001773  \n",
      "Epoch: [1][340/366] Elapsed 10m 31s (remain 0m 46s) Loss: 0.0860(0.2254) Grad: 44365.8633  LR: 0.00001745  \n",
      "Epoch: [1][360/366] Elapsed 11m 10s (remain 0m 9s) Loss: 0.1033(0.2196) Grad: 30063.9238  LR: 0.00001715  \n",
      "Epoch: [1][365/366] Elapsed 11m 18s (remain 0m 0s) Loss: 0.1115(0.2180) Grad: 44984.8828  LR: 0.00001708  \n",
      "EVAL: [0/62] Elapsed 0m 2s (remain 2m 26s) Loss: 0.1575(0.1575) \n",
      "EVAL: [20/62] Elapsed 0m 25s (remain 0m 49s) Loss: 0.0747(0.1259) \n",
      "EVAL: [40/62] Elapsed 0m 46s (remain 0m 23s) Loss: 0.1133(0.1249) \n",
      "EVAL: [60/62] Elapsed 1m 9s (remain 0m 1s) Loss: 0.1007(0.1252) \n",
      "EVAL: [61/62] Elapsed 1m 9s (remain 0m 0s) Loss: 0.0819(0.1251) \n"
     ]
    },
    {
     "name": "stderr",
     "output_type": "stream",
     "text": [
      "Epoch 1 - avg_train_loss: 0.2180  avg_val_loss: 0.1251  time: 748s\n",
      "Epoch 1 - Score: 0.5024  Scores: [0.5071461715669959, 0.5461451634563941, 0.49282976984490207, 0.5019462344546156, 0.48862019180600536, 0.47793965254232373]\n",
      "Epoch 1 - Save Best Score: 0.5024 Model\n"
     ]
    },
    {
     "name": "stdout",
     "output_type": "stream",
     "text": [
      "Epoch: [2][0/366] Elapsed 0m 2s (remain 12m 27s) Loss: 0.1223(0.1223) Grad: inf  LR: 0.00001706  \n",
      "Epoch: [2][20/366] Elapsed 0m 34s (remain 9m 25s) Loss: 0.1031(0.1139) Grad: 42267.5703  LR: 0.00001675  \n",
      "Epoch: [2][40/366] Elapsed 1m 12s (remain 9m 35s) Loss: 0.1157(0.1138) Grad: 45306.0195  LR: 0.00001643  \n",
      "Epoch: [2][60/366] Elapsed 1m 52s (remain 9m 22s) Loss: 0.0641(0.1091) Grad: 15065.7812  LR: 0.00001610  \n",
      "Epoch: [2][80/366] Elapsed 2m 27s (remain 8m 39s) Loss: 0.0903(0.1056) Grad: 49984.1602  LR: 0.00001575  \n",
      "Epoch: [2][100/366] Elapsed 3m 2s (remain 7m 58s) Loss: 0.1031(0.1057) Grad: 61332.7500  LR: 0.00001540  \n",
      "Epoch: [2][120/366] Elapsed 3m 37s (remain 7m 20s) Loss: 0.1362(0.1086) Grad: 82450.8984  LR: 0.00001503  \n",
      "Epoch: [2][140/366] Elapsed 4m 14s (remain 6m 46s) Loss: 0.1322(0.1098) Grad: 44576.6992  LR: 0.00001466  \n",
      "Epoch: [2][160/366] Elapsed 4m 57s (remain 6m 19s) Loss: 0.0987(0.1094) Grad: 41135.4180  LR: 0.00001427  \n",
      "Epoch: [2][180/366] Elapsed 5m 42s (remain 5m 49s) Loss: 0.1555(0.1100) Grad: 73960.7422  LR: 0.00001388  \n",
      "Epoch: [2][200/366] Elapsed 6m 16s (remain 5m 8s) Loss: 0.1650(0.1087) Grad: 97336.9609  LR: 0.00001348  \n",
      "Epoch: [2][220/366] Elapsed 6m 50s (remain 4m 29s) Loss: 0.1209(0.1091) Grad: 55508.1680  LR: 0.00001308  \n",
      "Epoch: [2][240/366] Elapsed 7m 28s (remain 3m 52s) Loss: 0.1149(0.1092) Grad: 75004.9844  LR: 0.00001267  \n",
      "Epoch: [2][260/366] Elapsed 8m 4s (remain 3m 14s) Loss: 0.1431(0.1090) Grad: 84696.1328  LR: 0.00001225  \n",
      "Epoch: [2][280/366] Elapsed 8m 43s (remain 2m 38s) Loss: 0.0983(0.1085) Grad: 68242.2734  LR: 0.00001183  \n",
      "Epoch: [2][300/366] Elapsed 9m 18s (remain 2m 0s) Loss: 0.1030(0.1082) Grad: 30415.9648  LR: 0.00001141  \n",
      "Epoch: [2][320/366] Elapsed 9m 52s (remain 1m 23s) Loss: 0.0929(0.1081) Grad: 53697.2773  LR: 0.00001098  \n",
      "Epoch: [2][340/366] Elapsed 10m 33s (remain 0m 46s) Loss: 0.0862(0.1077) Grad: 49176.7773  LR: 0.00001056  \n",
      "Epoch: [2][360/366] Elapsed 11m 10s (remain 0m 9s) Loss: 0.1173(0.1081) Grad: 61453.1797  LR: 0.00001013  \n",
      "Epoch: [2][365/366] Elapsed 11m 20s (remain 0m 0s) Loss: 0.0741(0.1081) Grad: 50441.8281  LR: 0.00001002  \n",
      "EVAL: [0/62] Elapsed 0m 2s (remain 2m 19s) Loss: 0.1396(0.1396) \n",
      "EVAL: [20/62] Elapsed 0m 24s (remain 0m 48s) Loss: 0.0910(0.1104) \n",
      "EVAL: [40/62] Elapsed 0m 45s (remain 0m 23s) Loss: 0.1025(0.1077) \n",
      "EVAL: [60/62] Elapsed 1m 8s (remain 0m 1s) Loss: 0.0806(0.1092) \n",
      "EVAL: [61/62] Elapsed 1m 8s (remain 0m 0s) Loss: 0.0934(0.1092) \n"
     ]
    },
    {
     "name": "stderr",
     "output_type": "stream",
     "text": [
      "Epoch 2 - avg_train_loss: 0.1081  avg_val_loss: 0.1092  time: 749s\n",
      "Epoch 2 - Score: 0.4682  Scores: [0.5013555041335245, 0.4542870782277395, 0.42866295357055495, 0.47359635569483477, 0.4765041517090634, 0.4750013412310254]\n",
      "Epoch 2 - Save Best Score: 0.4682 Model\n"
     ]
    },
    {
     "name": "stdout",
     "output_type": "stream",
     "text": [
      "Epoch: [3][0/366] Elapsed 0m 2s (remain 12m 33s) Loss: 0.0767(0.0767) Grad: 196063.0938  LR: 0.00001000  \n",
      "Epoch: [3][20/366] Elapsed 0m 43s (remain 11m 49s) Loss: 0.1276(0.0939) Grad: 180782.0781  LR: 0.00000957  \n",
      "Epoch: [3][40/366] Elapsed 1m 17s (remain 10m 11s) Loss: 0.0796(0.0923) Grad: 72907.4922  LR: 0.00000914  \n",
      "Epoch: [3][60/366] Elapsed 1m 50s (remain 9m 13s) Loss: 0.0898(0.0907) Grad: 78337.3281  LR: 0.00000872  \n",
      "Epoch: [3][80/366] Elapsed 2m 23s (remain 8m 25s) Loss: 0.0810(0.0896) Grad: 86584.7422  LR: 0.00000829  \n",
      "Epoch: [3][100/366] Elapsed 3m 5s (remain 8m 6s) Loss: 0.1151(0.0893) Grad: 138162.3438  LR: 0.00000787  \n",
      "Epoch: [3][120/366] Elapsed 3m 42s (remain 7m 29s) Loss: 0.0534(0.0893) Grad: 49554.1328  LR: 0.00000746  \n",
      "Epoch: [3][140/366] Elapsed 4m 20s (remain 6m 56s) Loss: 0.0821(0.0891) Grad: 68111.3516  LR: 0.00000704  \n",
      "Epoch: [3][160/366] Elapsed 4m 54s (remain 6m 14s) Loss: 0.0787(0.0889) Grad: 55907.0195  LR: 0.00000664  \n",
      "Epoch: [3][180/366] Elapsed 5m 38s (remain 5m 45s) Loss: 0.0728(0.0891) Grad: 70988.9141  LR: 0.00000624  \n",
      "Epoch: [3][200/366] Elapsed 6m 11s (remain 5m 5s) Loss: 0.0947(0.0904) Grad: 78335.4219  LR: 0.00000584  \n",
      "Epoch: [3][220/366] Elapsed 6m 46s (remain 4m 26s) Loss: 0.0805(0.0906) Grad: 67107.3594  LR: 0.00000546  \n",
      "Epoch: [3][240/366] Elapsed 7m 25s (remain 3m 50s) Loss: 0.0970(0.0907) Grad: 67033.7031  LR: 0.00000508  \n",
      "Epoch: [3][260/366] Elapsed 8m 4s (remain 3m 15s) Loss: 0.0838(0.0911) Grad: 55864.6602  LR: 0.00000471  \n",
      "Epoch: [3][280/366] Elapsed 8m 40s (remain 2m 37s) Loss: 0.1194(0.0911) Grad: 84682.9531  LR: 0.00000435  \n",
      "Epoch: [3][300/366] Elapsed 9m 15s (remain 1m 59s) Loss: 0.0819(0.0914) Grad: 140866.6250  LR: 0.00000400  \n",
      "Epoch: [3][320/366] Elapsed 9m 57s (remain 1m 23s) Loss: 0.0688(0.0917) Grad: 73495.6094  LR: 0.00000367  \n",
      "Epoch: [3][340/366] Elapsed 10m 34s (remain 0m 46s) Loss: 0.0797(0.0921) Grad: 72019.7344  LR: 0.00000334  \n",
      "Epoch: [3][360/366] Elapsed 11m 14s (remain 0m 9s) Loss: 0.0694(0.0920) Grad: 113707.2422  LR: 0.00000303  \n",
      "Epoch: [3][365/366] Elapsed 11m 24s (remain 0m 0s) Loss: 0.1033(0.0920) Grad: 161222.0469  LR: 0.00000295  \n",
      "EVAL: [0/62] Elapsed 0m 2s (remain 2m 21s) Loss: 0.1391(0.1391) \n",
      "EVAL: [20/62] Elapsed 0m 24s (remain 0m 48s) Loss: 0.0868(0.1073) \n",
      "EVAL: [40/62] Elapsed 0m 45s (remain 0m 23s) Loss: 0.0937(0.1053) \n",
      "EVAL: [60/62] Elapsed 1m 8s (remain 0m 1s) Loss: 0.0855(0.1063) \n",
      "EVAL: [61/62] Elapsed 1m 8s (remain 0m 0s) Loss: 0.0911(0.1063) \n"
     ]
    },
    {
     "name": "stderr",
     "output_type": "stream",
     "text": [
      "Epoch 3 - avg_train_loss: 0.0920  avg_val_loss: 0.1063  time: 753s\n",
      "Epoch 3 - Score: 0.4620  Scores: [0.49304960912779056, 0.45220220613374806, 0.4211757797880111, 0.46715036674019855, 0.48047446190331544, 0.4581747724042549]\n",
      "Epoch 3 - Save Best Score: 0.4620 Model\n"
     ]
    },
    {
     "name": "stdout",
     "output_type": "stream",
     "text": [
      "Epoch: [4][0/366] Elapsed 0m 2s (remain 12m 58s) Loss: 0.1177(0.1177) Grad: inf  LR: 0.00000294  \n",
      "Epoch: [4][20/366] Elapsed 0m 38s (remain 10m 26s) Loss: 0.1086(0.0893) Grad: 68913.3281  LR: 0.00000264  \n",
      "Epoch: [4][40/366] Elapsed 1m 13s (remain 9m 39s) Loss: 0.0538(0.0873) Grad: 82100.0859  LR: 0.00000236  \n",
      "Epoch: [4][60/366] Elapsed 1m 49s (remain 9m 8s) Loss: 0.0714(0.0888) Grad: 91259.4766  LR: 0.00000209  \n",
      "Epoch: [4][80/366] Elapsed 2m 35s (remain 9m 7s) Loss: 0.0899(0.0892) Grad: 81750.9688  LR: 0.00000183  \n",
      "Epoch: [4][100/366] Elapsed 3m 8s (remain 8m 14s) Loss: 0.0871(0.0883) Grad: 108787.1484  LR: 0.00000159  \n",
      "Epoch: [4][120/366] Elapsed 3m 44s (remain 7m 34s) Loss: 0.0916(0.0867) Grad: 79817.0938  LR: 0.00000137  \n",
      "Epoch: [4][140/366] Elapsed 4m 21s (remain 6m 56s) Loss: 0.0728(0.0864) Grad: 89620.1562  LR: 0.00000116  \n",
      "Epoch: [4][160/366] Elapsed 4m 55s (remain 6m 16s) Loss: 0.1123(0.0863) Grad: 76263.8281  LR: 0.00000097  \n",
      "Epoch: [4][180/366] Elapsed 5m 33s (remain 5m 40s) Loss: 0.0676(0.0862) Grad: 74459.5312  LR: 0.00000079  \n",
      "Epoch: [4][200/366] Elapsed 6m 8s (remain 5m 2s) Loss: 0.1217(0.0864) Grad: 140602.6719  LR: 0.00000063  \n",
      "Epoch: [4][220/366] Elapsed 6m 43s (remain 4m 25s) Loss: 0.0860(0.0869) Grad: 71463.0312  LR: 0.00000049  \n",
      "Epoch: [4][240/366] Elapsed 7m 19s (remain 3m 48s) Loss: 0.0921(0.0866) Grad: 48538.6055  LR: 0.00000037  \n",
      "Epoch: [4][260/366] Elapsed 7m 55s (remain 3m 11s) Loss: 0.0828(0.0867) Grad: 67379.9688  LR: 0.00000026  \n",
      "Epoch: [4][280/366] Elapsed 8m 36s (remain 2m 36s) Loss: 0.0786(0.0870) Grad: 86444.1406  LR: 0.00000017  \n",
      "Epoch: [4][300/366] Elapsed 9m 16s (remain 2m 0s) Loss: 0.1248(0.0868) Grad: 118258.7891  LR: 0.00000010  \n",
      "Epoch: [4][320/366] Elapsed 9m 54s (remain 1m 23s) Loss: 0.0754(0.0864) Grad: 114447.3438  LR: 0.00000005  \n",
      "Epoch: [4][340/366] Elapsed 10m 31s (remain 0m 46s) Loss: 0.0853(0.0864) Grad: 91291.0234  LR: 0.00000002  \n",
      "Epoch: [4][360/366] Elapsed 11m 15s (remain 0m 9s) Loss: 0.0793(0.0863) Grad: 99427.7422  LR: 0.00000000  \n",
      "Epoch: [4][365/366] Elapsed 11m 21s (remain 0m 0s) Loss: 0.1132(0.0863) Grad: 96077.6953  LR: 0.00000000  \n",
      "EVAL: [0/62] Elapsed 0m 2s (remain 2m 19s) Loss: 0.1375(0.1375) \n",
      "EVAL: [20/62] Elapsed 0m 24s (remain 0m 48s) Loss: 0.0839(0.1059) \n",
      "EVAL: [40/62] Elapsed 0m 45s (remain 0m 23s) Loss: 0.0904(0.1044) \n",
      "EVAL: [60/62] Elapsed 1m 8s (remain 0m 1s) Loss: 0.0884(0.1057) \n",
      "EVAL: [61/62] Elapsed 1m 8s (remain 0m 0s) Loss: 0.0827(0.1056) \n"
     ]
    },
    {
     "name": "stderr",
     "output_type": "stream",
     "text": [
      "Epoch 4 - avg_train_loss: 0.0863  avg_val_loss: 0.1056  time: 750s\n",
      "Epoch 4 - Score: 0.4608  Scores: [0.48585482830710436, 0.45330386644103093, 0.42044222979813356, 0.4666230495239998, 0.48108083281268393, 0.45753109948918136]\n",
      "Epoch 4 - Save Best Score: 0.4608 Model\n",
      "========== fold: 2 result ==========\n",
      "Score: 0.4608  Scores: [0.48585482830710436, 0.45330386644103093, 0.42044222979813356, 0.4666230495239998, 0.48108083281268393, 0.45753109948918136]\n",
      "========== fold: 3 training ==========\n",
      "DebertaV2Config {\n",
      "  \"_name_or_path\": \"microsoft/deberta-v3-base\",\n",
      "  \"attention_dropout\": 0.0,\n",
      "  \"attention_probs_dropout_prob\": 0.0,\n",
      "  \"hidden_act\": \"gelu\",\n",
      "  \"hidden_dropout\": 0.0,\n",
      "  \"hidden_dropout_prob\": 0.0,\n",
      "  \"hidden_size\": 768,\n",
      "  \"initializer_range\": 0.02,\n",
      "  \"intermediate_size\": 3072,\n",
      "  \"layer_norm_eps\": 1e-07,\n",
      "  \"max_position_embeddings\": 512,\n",
      "  \"max_relative_positions\": -1,\n",
      "  \"model_type\": \"deberta-v2\",\n",
      "  \"norm_rel_ebd\": \"layer_norm\",\n",
      "  \"num_attention_heads\": 12,\n",
      "  \"num_hidden_layers\": 12,\n",
      "  \"output_hidden_states\": true,\n",
      "  \"pad_token_id\": 0,\n",
      "  \"pooler_dropout\": 0,\n",
      "  \"pooler_hidden_act\": \"gelu\",\n",
      "  \"pooler_hidden_size\": 768,\n",
      "  \"pos_att_type\": [\n",
      "    \"p2c\",\n",
      "    \"c2p\"\n",
      "  ],\n",
      "  \"position_biased_input\": false,\n",
      "  \"position_buckets\": 256,\n",
      "  \"relative_attention\": true,\n",
      "  \"share_att_key\": true,\n",
      "  \"transformers_version\": \"4.21.2\",\n",
      "  \"type_vocab_size\": 0,\n",
      "  \"vocab_size\": 128100\n",
      "}\n",
      "\n",
      "Some weights of the model checkpoint at microsoft/deberta-v3-base were not used when initializing DebertaV2Model: ['mask_predictions.LayerNorm.bias', 'mask_predictions.dense.bias', 'lm_predictions.lm_head.bias', 'lm_predictions.lm_head.dense.weight', 'lm_predictions.lm_head.dense.bias', 'mask_predictions.classifier.bias', 'lm_predictions.lm_head.LayerNorm.bias', 'lm_predictions.lm_head.LayerNorm.weight', 'mask_predictions.classifier.weight', 'mask_predictions.LayerNorm.weight', 'mask_predictions.dense.weight']\n",
      "- This IS expected if you are initializing DebertaV2Model from the checkpoint of a model trained on another task or with another architecture (e.g. initializing a BertForSequenceClassification model from a BertForPreTraining model).\n",
      "- This IS NOT expected if you are initializing DebertaV2Model from the checkpoint of a model that you expect to be exactly identical (initializing a BertForSequenceClassification model from a BertForSequenceClassification model).\n"
     ]
    },
    {
     "name": "stdout",
     "output_type": "stream",
     "text": [
      "Epoch: [1][0/366] Elapsed 0m 1s (remain 11m 53s) Loss: 2.5190(2.5190) Grad: inf  LR: 0.00002000  \n",
      "Epoch: [1][20/366] Elapsed 0m 32s (remain 9m 0s) Loss: 0.5678(1.4109) Grad: 231678.4219  LR: 0.00001999  \n",
      "Epoch: [1][40/366] Elapsed 1m 7s (remain 8m 58s) Loss: 0.1533(0.8209) Grad: 60452.8164  LR: 0.00001996  \n",
      "Epoch: [1][60/366] Elapsed 1m 41s (remain 8m 25s) Loss: 0.1222(0.6028) Grad: 107507.1328  LR: 0.00001991  \n",
      "Epoch: [1][80/366] Elapsed 2m 23s (remain 8m 24s) Loss: 0.2035(0.4908) Grad: 160626.4531  LR: 0.00001985  \n",
      "Epoch: [1][100/366] Elapsed 3m 3s (remain 8m 0s) Loss: 0.1794(0.4200) Grad: 68443.0703  LR: 0.00001977  \n",
      "Epoch: [1][120/366] Elapsed 3m 42s (remain 7m 29s) Loss: 0.1026(0.3741) Grad: 73885.3516  LR: 0.00001967  \n",
      "Epoch: [1][140/366] Elapsed 4m 22s (remain 6m 58s) Loss: 0.0839(0.3395) Grad: 52348.5977  LR: 0.00001955  \n",
      "Epoch: [1][160/366] Elapsed 5m 5s (remain 6m 28s) Loss: 0.2284(0.3146) Grad: 95103.5547  LR: 0.00001941  \n",
      "Epoch: [1][180/366] Elapsed 5m 40s (remain 5m 48s) Loss: 0.0982(0.2931) Grad: 28030.1758  LR: 0.00001926  \n",
      "Epoch: [1][200/366] Elapsed 6m 15s (remain 5m 7s) Loss: 0.0690(0.2757) Grad: 30992.3926  LR: 0.00001909  \n",
      "Epoch: [1][220/366] Elapsed 6m 48s (remain 4m 28s) Loss: 0.1433(0.2624) Grad: 23501.4688  LR: 0.00001890  \n",
      "Epoch: [1][240/366] Elapsed 7m 27s (remain 3m 52s) Loss: 0.0832(0.2505) Grad: 49423.3086  LR: 0.00001870  \n",
      "Epoch: [1][260/366] Elapsed 8m 4s (remain 3m 15s) Loss: 0.1624(0.2420) Grad: 69793.1719  LR: 0.00001848  \n",
      "Epoch: [1][280/366] Elapsed 8m 43s (remain 2m 38s) Loss: 0.1216(0.2345) Grad: 61606.2852  LR: 0.00001824  \n",
      "Epoch: [1][300/366] Elapsed 9m 22s (remain 2m 1s) Loss: 0.1236(0.2270) Grad: 93818.6094  LR: 0.00001799  \n",
      "Epoch: [1][320/366] Elapsed 10m 0s (remain 1m 24s) Loss: 0.1062(0.2210) Grad: 65813.2109  LR: 0.00001773  \n",
      "Epoch: [1][340/366] Elapsed 10m 36s (remain 0m 46s) Loss: 0.0744(0.2141) Grad: 40220.9688  LR: 0.00001745  \n",
      "Epoch: [1][360/366] Elapsed 11m 13s (remain 0m 9s) Loss: 0.1049(0.2084) Grad: 81014.1250  LR: 0.00001715  \n",
      "Epoch: [1][365/366] Elapsed 11m 22s (remain 0m 0s) Loss: 0.1874(0.2072) Grad: 53813.7578  LR: 0.00001708  \n",
      "EVAL: [0/62] Elapsed 0m 2s (remain 2m 32s) Loss: 0.1228(0.1228) \n",
      "EVAL: [20/62] Elapsed 0m 24s (remain 0m 47s) Loss: 0.0789(0.1078) \n",
      "EVAL: [40/62] Elapsed 0m 47s (remain 0m 24s) Loss: 0.1096(0.1110) \n",
      "EVAL: [60/62] Elapsed 1m 10s (remain 0m 1s) Loss: 0.0908(0.1102) \n",
      "EVAL: [61/62] Elapsed 1m 10s (remain 0m 0s) Loss: 0.0556(0.1101) \n"
     ]
    },
    {
     "name": "stderr",
     "output_type": "stream",
     "text": [
      "Epoch 1 - avg_train_loss: 0.2072  avg_val_loss: 0.1101  time: 753s\n",
      "Epoch 1 - Score: 0.4708  Scores: [0.5049784299392275, 0.45252065875401604, 0.4698734366382277, 0.4526880519222952, 0.48404151393269756, 0.4608756375209536]\n",
      "Epoch 1 - Save Best Score: 0.4708 Model\n"
     ]
    },
    {
     "name": "stdout",
     "output_type": "stream",
     "text": [
      "Epoch: [2][0/366] Elapsed 0m 2s (remain 14m 7s) Loss: 0.1348(0.1348) Grad: 194733.0781  LR: 0.00001706  \n",
      "Epoch: [2][20/366] Elapsed 0m 39s (remain 10m 56s) Loss: 0.0705(0.1225) Grad: 85063.8750  LR: 0.00001675  \n",
      "Epoch: [2][40/366] Elapsed 1m 11s (remain 9m 28s) Loss: 0.1033(0.1141) Grad: 65313.6797  LR: 0.00001643  \n",
      "Epoch: [2][60/366] Elapsed 1m 52s (remain 9m 20s) Loss: 0.1012(0.1120) Grad: 52480.8555  LR: 0.00001610  \n",
      "Epoch: [2][80/366] Elapsed 2m 27s (remain 8m 40s) Loss: 0.1477(0.1080) Grad: 213726.5938  LR: 0.00001575  \n",
      "Epoch: [2][100/366] Elapsed 3m 4s (remain 8m 3s) Loss: 0.0919(0.1064) Grad: 81417.4844  LR: 0.00001540  \n",
      "Epoch: [2][120/366] Elapsed 3m 43s (remain 7m 32s) Loss: 0.1022(0.1061) Grad: 86385.4844  LR: 0.00001503  \n",
      "Epoch: [2][140/366] Elapsed 4m 22s (remain 6m 58s) Loss: 0.1149(0.1067) Grad: 84790.8281  LR: 0.00001466  \n",
      "Epoch: [2][160/366] Elapsed 5m 0s (remain 6m 23s) Loss: 0.1316(0.1067) Grad: 138013.5625  LR: 0.00001427  \n",
      "Epoch: [2][180/366] Elapsed 5m 40s (remain 5m 48s) Loss: 0.0991(0.1060) Grad: 68833.1562  LR: 0.00001388  \n",
      "Epoch: [2][200/366] Elapsed 6m 14s (remain 5m 7s) Loss: 0.0755(0.1063) Grad: 66832.4062  LR: 0.00001348  \n",
      "Epoch: [2][220/366] Elapsed 6m 46s (remain 4m 26s) Loss: 0.1242(0.1061) Grad: 181107.3125  LR: 0.00001308  \n",
      "Epoch: [2][240/366] Elapsed 7m 22s (remain 3m 49s) Loss: 0.0517(0.1056) Grad: 80770.8438  LR: 0.00001267  \n",
      "Epoch: [2][260/366] Elapsed 7m 55s (remain 3m 11s) Loss: 0.1173(0.1054) Grad: 231162.0625  LR: 0.00001225  \n",
      "Epoch: [2][280/366] Elapsed 8m 32s (remain 2m 34s) Loss: 0.0915(0.1058) Grad: 115067.3281  LR: 0.00001183  \n",
      "Epoch: [2][300/366] Elapsed 9m 9s (remain 1m 58s) Loss: 0.0792(0.1054) Grad: 107434.8828  LR: 0.00001141  \n",
      "Epoch: [2][320/366] Elapsed 9m 52s (remain 1m 23s) Loss: 0.0991(0.1050) Grad: 113420.0859  LR: 0.00001098  \n",
      "Epoch: [2][340/366] Elapsed 10m 32s (remain 0m 46s) Loss: 0.0894(0.1051) Grad: 101278.9688  LR: 0.00001056  \n",
      "Epoch: [2][360/366] Elapsed 11m 8s (remain 0m 9s) Loss: 0.1177(0.1049) Grad: 78269.9297  LR: 0.00001013  \n",
      "Epoch: [2][365/366] Elapsed 11m 17s (remain 0m 0s) Loss: 0.1373(0.1049) Grad: 153695.4531  LR: 0.00001002  \n",
      "EVAL: [0/62] Elapsed 0m 2s (remain 2m 16s) Loss: 0.1189(0.1189) \n",
      "EVAL: [20/62] Elapsed 0m 24s (remain 0m 47s) Loss: 0.0688(0.1017) \n",
      "EVAL: [40/62] Elapsed 0m 47s (remain 0m 24s) Loss: 0.1034(0.1038) \n",
      "EVAL: [60/62] Elapsed 1m 9s (remain 0m 1s) Loss: 0.0828(0.1032) \n",
      "EVAL: [61/62] Elapsed 1m 9s (remain 0m 0s) Loss: 0.0501(0.1031) \n"
     ]
    },
    {
     "name": "stderr",
     "output_type": "stream",
     "text": [
      "Epoch 2 - avg_train_loss: 0.1049  avg_val_loss: 0.1031  time: 748s\n",
      "Epoch 2 - Score: 0.4549  Scores: [0.4952434249171478, 0.4486055180699162, 0.4184275795354979, 0.4471628512817643, 0.4731952165489251, 0.44702583983981153]\n",
      "Epoch 2 - Save Best Score: 0.4549 Model\n"
     ]
    },
    {
     "name": "stdout",
     "output_type": "stream",
     "text": [
      "Epoch: [3][0/366] Elapsed 0m 2s (remain 12m 15s) Loss: 0.1104(0.1104) Grad: 390491.9688  LR: 0.00001000  \n",
      "Epoch: [3][20/366] Elapsed 0m 43s (remain 11m 53s) Loss: 0.0725(0.1034) Grad: 201667.5781  LR: 0.00000957  \n",
      "Epoch: [3][40/366] Elapsed 1m 27s (remain 11m 36s) Loss: 0.0795(0.0994) Grad: 169913.8125  LR: 0.00000914  \n",
      "Epoch: [3][60/366] Elapsed 1m 59s (remain 9m 57s) Loss: 0.1225(0.0969) Grad: 116350.4453  LR: 0.00000872  \n",
      "Epoch: [3][80/366] Elapsed 2m 35s (remain 9m 6s) Loss: 0.1096(0.0973) Grad: 169308.4062  LR: 0.00000829  \n",
      "Epoch: [3][100/366] Elapsed 3m 15s (remain 8m 33s) Loss: 0.1397(0.0975) Grad: 151609.2188  LR: 0.00000787  \n",
      "Epoch: [3][120/366] Elapsed 3m 51s (remain 7m 48s) Loss: 0.0903(0.0957) Grad: 213752.2188  LR: 0.00000746  \n",
      "Epoch: [3][140/366] Elapsed 4m 41s (remain 7m 28s) Loss: 0.0597(0.0949) Grad: 170780.6875  LR: 0.00000704  \n",
      "Epoch: [3][160/366] Elapsed 5m 20s (remain 6m 47s) Loss: 0.1022(0.0952) Grad: 120807.4453  LR: 0.00000664  \n",
      "Epoch: [3][180/366] Elapsed 5m 57s (remain 6m 5s) Loss: 0.0707(0.0947) Grad: 95223.2656  LR: 0.00000624  \n",
      "Epoch: [3][200/366] Elapsed 6m 34s (remain 5m 23s) Loss: 0.0927(0.0950) Grad: 120536.7891  LR: 0.00000584  \n",
      "Epoch: [3][220/366] Elapsed 7m 15s (remain 4m 45s) Loss: 0.0964(0.0953) Grad: 103659.9453  LR: 0.00000546  \n",
      "Epoch: [3][240/366] Elapsed 7m 44s (remain 4m 1s) Loss: 0.0750(0.0946) Grad: 80666.3359  LR: 0.00000508  \n",
      "Epoch: [3][260/366] Elapsed 8m 19s (remain 3m 21s) Loss: 0.0570(0.0952) Grad: 117408.8828  LR: 0.00000471  \n",
      "Epoch: [3][280/366] Elapsed 8m 48s (remain 2m 39s) Loss: 0.0710(0.0954) Grad: 80669.2031  LR: 0.00000435  \n",
      "Epoch: [3][300/366] Elapsed 9m 22s (remain 2m 1s) Loss: 0.0834(0.0961) Grad: 129518.6094  LR: 0.00000400  \n",
      "Epoch: [3][320/366] Elapsed 9m 59s (remain 1m 24s) Loss: 0.1210(0.0957) Grad: 76400.5312  LR: 0.00000367  \n",
      "Epoch: [3][340/366] Elapsed 10m 34s (remain 0m 46s) Loss: 0.1206(0.0958) Grad: 122384.3359  LR: 0.00000334  \n",
      "Epoch: [3][360/366] Elapsed 11m 9s (remain 0m 9s) Loss: 0.0928(0.0959) Grad: 131954.7500  LR: 0.00000303  \n",
      "Epoch: [3][365/366] Elapsed 11m 22s (remain 0m 0s) Loss: 0.0863(0.0959) Grad: 59174.7266  LR: 0.00000295  \n",
      "EVAL: [0/62] Elapsed 0m 2s (remain 2m 16s) Loss: 0.0964(0.0964) \n",
      "EVAL: [20/62] Elapsed 0m 24s (remain 0m 47s) Loss: 0.0758(0.0990) \n",
      "EVAL: [40/62] Elapsed 0m 47s (remain 0m 24s) Loss: 0.1010(0.1006) \n",
      "EVAL: [60/62] Elapsed 1m 9s (remain 0m 1s) Loss: 0.0804(0.1008) \n",
      "EVAL: [61/62] Elapsed 1m 9s (remain 0m 0s) Loss: 0.0607(0.1008) \n"
     ]
    },
    {
     "name": "stderr",
     "output_type": "stream",
     "text": [
      "Epoch 3 - avg_train_loss: 0.0959  avg_val_loss: 0.1008  time: 753s\n",
      "Epoch 3 - Score: 0.4496  Scores: [0.4870956720355574, 0.4423282267293263, 0.4117765197089579, 0.44227192521904474, 0.4740952907832377, 0.44008821220488]\n",
      "Epoch 3 - Save Best Score: 0.4496 Model\n"
     ]
    },
    {
     "name": "stdout",
     "output_type": "stream",
     "text": [
      "Epoch: [4][0/366] Elapsed 0m 2s (remain 12m 10s) Loss: 0.0918(0.0918) Grad: 196149.1562  LR: 0.00000294  \n",
      "Epoch: [4][20/366] Elapsed 0m 40s (remain 11m 6s) Loss: 0.1460(0.0956) Grad: 155401.7031  LR: 0.00000264  \n",
      "Epoch: [4][40/366] Elapsed 1m 15s (remain 9m 56s) Loss: 0.0611(0.0914) Grad: 108452.5156  LR: 0.00000236  \n",
      "Epoch: [4][60/366] Elapsed 1m 52s (remain 9m 24s) Loss: 0.0670(0.0905) Grad: 130182.2109  LR: 0.00000209  \n",
      "Epoch: [4][80/366] Elapsed 2m 30s (remain 8m 47s) Loss: 0.0885(0.0908) Grad: 111034.9141  LR: 0.00000183  \n",
      "Epoch: [4][100/366] Elapsed 3m 3s (remain 8m 0s) Loss: 0.0789(0.0905) Grad: 236980.9219  LR: 0.00000159  \n",
      "Epoch: [4][120/366] Elapsed 3m 38s (remain 7m 21s) Loss: 0.0971(0.0909) Grad: 183838.5938  LR: 0.00000137  \n",
      "Epoch: [4][140/366] Elapsed 4m 11s (remain 6m 40s) Loss: 0.0925(0.0914) Grad: 129601.1172  LR: 0.00000116  \n",
      "Epoch: [4][160/366] Elapsed 4m 51s (remain 6m 11s) Loss: 0.1296(0.0920) Grad: 203192.5781  LR: 0.00000097  \n",
      "Epoch: [4][180/366] Elapsed 5m 33s (remain 5m 40s) Loss: 0.1134(0.0916) Grad: 196870.0781  LR: 0.00000079  \n",
      "Epoch: [4][200/366] Elapsed 6m 6s (remain 5m 0s) Loss: 0.0522(0.0913) Grad: 119389.7578  LR: 0.00000063  \n",
      "Epoch: [4][220/366] Elapsed 6m 43s (remain 4m 24s) Loss: 0.0737(0.0907) Grad: 140519.4375  LR: 0.00000049  \n",
      "Epoch: [4][240/366] Elapsed 7m 20s (remain 3m 48s) Loss: 0.0845(0.0905) Grad: 220532.4375  LR: 0.00000037  \n",
      "Epoch: [4][260/366] Elapsed 7m 53s (remain 3m 10s) Loss: 0.0753(0.0907) Grad: 154810.1250  LR: 0.00000026  \n",
      "Epoch: [4][280/366] Elapsed 8m 38s (remain 2m 36s) Loss: 0.1006(0.0905) Grad: 299690.0938  LR: 0.00000017  \n",
      "Epoch: [4][300/366] Elapsed 9m 16s (remain 2m 0s) Loss: 0.0718(0.0904) Grad: 123351.9922  LR: 0.00000010  \n",
      "Epoch: [4][320/366] Elapsed 9m 46s (remain 1m 22s) Loss: 0.0851(0.0903) Grad: 218456.5000  LR: 0.00000005  \n",
      "Epoch: [4][340/366] Elapsed 10m 24s (remain 0m 45s) Loss: 0.0765(0.0900) Grad: 135702.0000  LR: 0.00000002  \n",
      "Epoch: [4][360/366] Elapsed 11m 1s (remain 0m 9s) Loss: 0.1026(0.0903) Grad: 156211.1250  LR: 0.00000000  \n",
      "Epoch: [4][365/366] Elapsed 11m 13s (remain 0m 0s) Loss: 0.1021(0.0905) Grad: 160765.3906  LR: 0.00000000  \n",
      "EVAL: [0/62] Elapsed 0m 2s (remain 2m 17s) Loss: 0.0990(0.0990) \n",
      "EVAL: [20/62] Elapsed 0m 24s (remain 0m 46s) Loss: 0.0728(0.0981) \n",
      "EVAL: [40/62] Elapsed 0m 47s (remain 0m 24s) Loss: 0.1007(0.0996) \n",
      "EVAL: [60/62] Elapsed 1m 9s (remain 0m 1s) Loss: 0.0795(0.0998) \n",
      "EVAL: [61/62] Elapsed 1m 9s (remain 0m 0s) Loss: 0.0577(0.0997) \n"
     ]
    },
    {
     "name": "stderr",
     "output_type": "stream",
     "text": [
      "Epoch 4 - avg_train_loss: 0.0905  avg_val_loss: 0.0997  time: 744s\n",
      "Epoch 4 - Score: 0.4472  Scores: [0.48616620601670424, 0.4418035997700447, 0.4108792158575878, 0.4391031581044174, 0.4663346731212992, 0.43910666884880173]\n",
      "Epoch 4 - Save Best Score: 0.4472 Model\n",
      "========== fold: 3 result ==========\n",
      "Score: 0.4472  Scores: [0.48616620601670424, 0.4418035997700447, 0.4108792158575878, 0.4391031581044174, 0.4663346731212992, 0.43910666884880173]\n",
      "========== CV ==========\n",
      "Score: 0.4540  Scores: [0.4882318479751616, 0.4462999997862506, 0.4146645715369566, 0.4548692648279549, 0.4715590648123644, 0.448533698515911]\n"
     ]
    },
    {
     "data": {
      "text/html": [
       "Waiting for W&B process to finish... <strong style=\"color:green\">(success).</strong>"
      ],
      "text/plain": [
       "<IPython.core.display.HTML object>"
      ]
     },
     "metadata": {},
     "output_type": "display_data"
    },
    {
     "data": {
      "application/vnd.jupyter.widget-view+json": {
       "model_id": "39cd815ba3174978b06798059ce42cda",
       "version_major": 2,
       "version_minor": 0
      },
      "text/plain": [
       "VBox(children=(Label(value='0.000 MB of 0.000 MB uploaded (0.000 MB deduped)\\r'), FloatProgress(value=1.0, max…"
      ]
     },
     "metadata": {},
     "output_type": "display_data"
    },
    {
     "data": {
      "text/html": [
       "<style>\n",
       "    table.wandb td:nth-child(1) { padding: 0 10px; text-align: left ; width: auto;} td:nth-child(2) {text-align: left ; width: 100%}\n",
       "    .wandb-row { display: flex; flex-direction: row; flex-wrap: wrap; justify-content: flex-start; width: 100% }\n",
       "    .wandb-col { display: flex; flex-direction: column; flex-basis: 100%; flex: 1; padding: 10px; }\n",
       "    </style>\n",
       "<div class=\"wandb-row\"><div class=\"wandb-col\"><h3>Run history:</h3><br/><table class=\"wandb\"><tr><td>[fold0] avg_train_loss</td><td>█▂▁▁</td></tr><tr><td>[fold0] avg_val_loss</td><td>█▆▃▁</td></tr><tr><td>[fold0] epoch</td><td>▁▃▆█</td></tr><tr><td>[fold0] loss</td><td>█▂▂▂▂▁▁▂▂▁▁▁▂▁▁▁▁▁▂▁▂▁▁▁▂▁▁▁▁▁▂▁▁▁▁▁▁▁▁▂</td></tr><tr><td>[fold0] lr</td><td>███████▇▇▇▇▇▇▆▆▆▆▅▅▅▄▄▄▄▃▃▃▃▂▂▂▂▂▁▁▁▁▁▁▁</td></tr><tr><td>[fold0] score</td><td>█▅▃▁</td></tr><tr><td>[fold1] avg_train_loss</td><td>█▂▁▁</td></tr><tr><td>[fold1] avg_val_loss</td><td>█▂▂▁</td></tr><tr><td>[fold1] epoch</td><td>▁▃▆█</td></tr><tr><td>[fold1] loss</td><td>█▂▂▂▁▂▁▂▂▁▁▁▁▁▂▁▁▁▁▁▁▁▁▁▁▁▁▁▁▁▁▂▁▁▁▂▁▁▁▁</td></tr><tr><td>[fold1] lr</td><td>███████▇▇▇▇▇▇▆▆▆▆▅▅▅▄▄▄▄▃▃▃▃▂▂▂▂▂▁▁▁▁▁▁▁</td></tr><tr><td>[fold1] score</td><td>█▂▂▁</td></tr><tr><td>[fold2] avg_train_loss</td><td>█▂▁▁</td></tr><tr><td>[fold2] avg_val_loss</td><td>█▂▁▁</td></tr><tr><td>[fold2] epoch</td><td>▁▃▆█</td></tr><tr><td>[fold2] loss</td><td>█▂▁▁▁▁▁▁▁▁▂▁▁▁▁▁▂▁▁▁▁▁▁▁▁▁▁▁▁▁▁▁▁▁▁▁▁▁▁▁</td></tr><tr><td>[fold2] lr</td><td>███████▇▇▇▇▇▇▆▆▆▆▅▅▅▄▄▄▄▃▃▃▃▂▂▂▂▂▁▁▁▁▁▁▁</td></tr><tr><td>[fold2] score</td><td>█▂▁▁</td></tr><tr><td>[fold3] avg_train_loss</td><td>█▂▁▁</td></tr><tr><td>[fold3] avg_val_loss</td><td>█▃▂▁</td></tr><tr><td>[fold3] epoch</td><td>▁▃▆█</td></tr><tr><td>[fold3] loss</td><td>█▂▂▂▂▁▂▁▂▁▂▁▂▁▁▂▁▂▂▂▁▂▂▁▁▁▁▁▁▁▁▁▂▁▂▁▁▁▁▂</td></tr><tr><td>[fold3] lr</td><td>███████▇▇▇▇▇▇▆▆▆▆▅▅▅▄▄▄▄▃▃▃▃▂▂▂▂▂▁▁▁▁▁▁▁</td></tr><tr><td>[fold3] score</td><td>█▃▂▁</td></tr></table><br/></div><div class=\"wandb-col\"><h3>Run summary:</h3><br/><table class=\"wandb\"><tr><td>[fold0] avg_train_loss</td><td>0.08831</td></tr><tr><td>[fold0] avg_val_loss</td><td>0.10179</td></tr><tr><td>[fold0] epoch</td><td>4</td></tr><tr><td>[fold0] loss</td><td>0.08694</td></tr><tr><td>[fold0] lr</td><td>0.0</td></tr><tr><td>[fold0] score</td><td>0.45145</td></tr><tr><td>[fold1] avg_train_loss</td><td>0.08622</td></tr><tr><td>[fold1] avg_val_loss</td><td>0.10394</td></tr><tr><td>[fold1] epoch</td><td>4</td></tr><tr><td>[fold1] loss</td><td>0.05318</td></tr><tr><td>[fold1] lr</td><td>0.0</td></tr><tr><td>[fold1] score</td><td>0.45644</td></tr><tr><td>[fold2] avg_train_loss</td><td>0.08631</td></tr><tr><td>[fold2] avg_val_loss</td><td>0.10565</td></tr><tr><td>[fold2] epoch</td><td>4</td></tr><tr><td>[fold2] loss</td><td>0.11321</td></tr><tr><td>[fold2] lr</td><td>0.0</td></tr><tr><td>[fold2] score</td><td>0.46081</td></tr><tr><td>[fold3] avg_train_loss</td><td>0.09046</td></tr><tr><td>[fold3] avg_val_loss</td><td>0.09971</td></tr><tr><td>[fold3] epoch</td><td>4</td></tr><tr><td>[fold3] loss</td><td>0.10214</td></tr><tr><td>[fold3] lr</td><td>0.0</td></tr><tr><td>[fold3] score</td><td>0.44723</td></tr></table><br/></div></div>"
      ],
      "text/plain": [
       "<IPython.core.display.HTML object>"
      ]
     },
     "metadata": {},
     "output_type": "display_data"
    },
    {
     "data": {
      "text/html": [
       "Synced <strong style=\"color:#cdcd00\">microsoft/deberta-v3-base</strong>: <a href=\"https://wandb.ai/yasufumi-nakama/FB3-Public/runs/y6iusqlu\" target=\"_blank\">https://wandb.ai/yasufumi-nakama/FB3-Public/runs/y6iusqlu</a><br/>Synced 6 W&B file(s), 0 media file(s), 0 artifact file(s) and 0 other file(s)"
      ],
      "text/plain": [
       "<IPython.core.display.HTML object>"
      ]
     },
     "metadata": {},
     "output_type": "display_data"
    },
    {
     "data": {
      "text/html": [
       "Find logs at: <code>./wandb/run-20220831_223122-y6iusqlu/logs</code>"
      ],
      "text/plain": [
       "<IPython.core.display.HTML object>"
      ]
     },
     "metadata": {},
     "output_type": "display_data"
    }
   ],
   "source": [
    "if __name__ == '__main__':\n",
    "    \n",
    "    def get_result(oof_df):\n",
    "        labels = oof_df[CFG.target_cols].values\n",
    "        preds = oof_df[[f\"pred_{c}\" for c in CFG.target_cols]].values\n",
    "        score, scores = get_score(labels, preds)\n",
    "        LOGGER.info(f'Score: {score:<.4f}  Scores: {scores}')\n",
    "    \n",
    "    if CFG.train:\n",
    "        oof_df = pd.DataFrame()\n",
    "        for fold in range(CFG.n_fold):\n",
    "            if fold in CFG.trn_fold:\n",
    "                _oof_df = train_loop(train, fold)\n",
    "                oof_df = pd.concat([oof_df, _oof_df])\n",
    "                LOGGER.info(f\"========== fold: {fold} result ==========\")\n",
    "                get_result(_oof_df)\n",
    "        oof_df = oof_df.reset_index(drop=True)\n",
    "        LOGGER.info(f\"========== CV ==========\")\n",
    "        get_result(oof_df)\n",
    "        oof_df.to_pickle(OUTPUT_DIR+'oof_df.pkl')\n",
    "        \n",
    "    if CFG.wandb:\n",
    "        wandb.finish()"
   ]
  }
 ],
 "metadata": {
  "kernelspec": {
   "display_name": "Python 3",
   "language": "python",
   "name": "python3"
  },
  "language_info": {
   "codemirror_mode": {
    "name": "ipython",
    "version": 3
   },
   "file_extension": ".py",
   "mimetype": "text/x-python",
   "name": "python",
   "nbconvert_exporter": "python",
   "pygments_lexer": "ipython3",
   "version": "3.9.0"
  },
  "papermill": {
   "default_parameters": {},
   "duration": 12032.949787,
   "end_time": "2022-09-01T01:51:45.270554",
   "environment_variables": {},
   "exception": null,
   "input_path": "__notebook__.ipynb",
   "output_path": "__notebook__.ipynb",
   "parameters": {},
   "start_time": "2022-08-31T22:31:12.320767",
   "version": "2.3.4"
  },
  "widgets": {
   "application/vnd.jupyter.widget-state+json": {
    "state": {
     "00830740327b4ef1b02b535758d64785": {
      "model_module": "@jupyter-widgets/controls",
      "model_module_version": "1.5.0",
      "model_name": "ProgressStyleModel",
      "state": {
       "_model_module": "@jupyter-widgets/controls",
       "_model_module_version": "1.5.0",
       "_model_name": "ProgressStyleModel",
       "_view_count": null,
       "_view_module": "@jupyter-widgets/base",
       "_view_module_version": "1.2.0",
       "_view_name": "StyleView",
       "bar_color": null,
       "description_width": ""
      }
     },
     "017812a5a05e4df69a63b8c6286a00c9": {
      "model_module": "@jupyter-widgets/base",
      "model_module_version": "1.2.0",
      "model_name": "LayoutModel",
      "state": {
       "_model_module": "@jupyter-widgets/base",
       "_model_module_version": "1.2.0",
       "_model_name": "LayoutModel",
       "_view_count": null,
       "_view_module": "@jupyter-widgets/base",
       "_view_module_version": "1.2.0",
       "_view_name": "LayoutView",
       "align_content": null,
       "align_items": null,
       "align_self": null,
       "border": null,
       "bottom": null,
       "display": null,
       "flex": null,
       "flex_flow": null,
       "grid_area": null,
       "grid_auto_columns": null,
       "grid_auto_flow": null,
       "grid_auto_rows": null,
       "grid_column": null,
       "grid_gap": null,
       "grid_row": null,
       "grid_template_areas": null,
       "grid_template_columns": null,
       "grid_template_rows": null,
       "height": null,
       "justify_content": null,
       "justify_items": null,
       "left": null,
       "margin": null,
       "max_height": null,
       "max_width": null,
       "min_height": null,
       "min_width": null,
       "object_fit": null,
       "object_position": null,
       "order": null,
       "overflow": null,
       "overflow_x": null,
       "overflow_y": null,
       "padding": null,
       "right": null,
       "top": null,
       "visibility": null,
       "width": null
      }
     },
     "0257892b9df540d28576ee164df92794": {
      "model_module": "@jupyter-widgets/base",
      "model_module_version": "1.2.0",
      "model_name": "LayoutModel",
      "state": {
       "_model_module": "@jupyter-widgets/base",
       "_model_module_version": "1.2.0",
       "_model_name": "LayoutModel",
       "_view_count": null,
       "_view_module": "@jupyter-widgets/base",
       "_view_module_version": "1.2.0",
       "_view_name": "LayoutView",
       "align_content": null,
       "align_items": null,
       "align_self": null,
       "border": null,
       "bottom": null,
       "display": null,
       "flex": null,
       "flex_flow": null,
       "grid_area": null,
       "grid_auto_columns": null,
       "grid_auto_flow": null,
       "grid_auto_rows": null,
       "grid_column": null,
       "grid_gap": null,
       "grid_row": null,
       "grid_template_areas": null,
       "grid_template_columns": null,
       "grid_template_rows": null,
       "height": null,
       "justify_content": null,
       "justify_items": null,
       "left": null,
       "margin": null,
       "max_height": null,
       "max_width": null,
       "min_height": null,
       "min_width": null,
       "object_fit": null,
       "object_position": null,
       "order": null,
       "overflow": null,
       "overflow_x": null,
       "overflow_y": null,
       "padding": null,
       "right": null,
       "top": null,
       "visibility": null,
       "width": null
      }
     },
     "08c2099f257f4ccd95a492070daae326": {
      "model_module": "@jupyter-widgets/base",
      "model_module_version": "1.2.0",
      "model_name": "LayoutModel",
      "state": {
       "_model_module": "@jupyter-widgets/base",
       "_model_module_version": "1.2.0",
       "_model_name": "LayoutModel",
       "_view_count": null,
       "_view_module": "@jupyter-widgets/base",
       "_view_module_version": "1.2.0",
       "_view_name": "LayoutView",
       "align_content": null,
       "align_items": null,
       "align_self": null,
       "border": null,
       "bottom": null,
       "display": null,
       "flex": null,
       "flex_flow": null,
       "grid_area": null,
       "grid_auto_columns": null,
       "grid_auto_flow": null,
       "grid_auto_rows": null,
       "grid_column": null,
       "grid_gap": null,
       "grid_row": null,
       "grid_template_areas": null,
       "grid_template_columns": null,
       "grid_template_rows": null,
       "height": null,
       "justify_content": null,
       "justify_items": null,
       "left": null,
       "margin": null,
       "max_height": null,
       "max_width": null,
       "min_height": null,
       "min_width": null,
       "object_fit": null,
       "object_position": null,
       "order": null,
       "overflow": null,
       "overflow_x": null,
       "overflow_y": null,
       "padding": null,
       "right": null,
       "top": null,
       "visibility": null,
       "width": null
      }
     },
     "0aa3266908ab44fd995a54d5d81b60bb": {
      "model_module": "@jupyter-widgets/controls",
      "model_module_version": "1.5.0",
      "model_name": "HTMLModel",
      "state": {
       "_dom_classes": [],
       "_model_module": "@jupyter-widgets/controls",
       "_model_module_version": "1.5.0",
       "_model_name": "HTMLModel",
       "_view_count": null,
       "_view_module": "@jupyter-widgets/controls",
       "_view_module_version": "1.5.0",
       "_view_name": "HTMLView",
       "description": "",
       "description_tooltip": null,
       "layout": "IPY_MODEL_6e6b24ae9a934b1ba102be3fb8e1fae7",
       "placeholder": "​",
       "style": "IPY_MODEL_20eb5afa3a29437592fcf60a73e071bd",
       "value": " 354M/354M [00:15&lt;00:00, 25.2MB/s]"
      }
     },
     "111da5e5254b4796824fa2c0d9a8a629": {
      "model_module": "@jupyter-widgets/base",
      "model_module_version": "1.2.0",
      "model_name": "LayoutModel",
      "state": {
       "_model_module": "@jupyter-widgets/base",
       "_model_module_version": "1.2.0",
       "_model_name": "LayoutModel",
       "_view_count": null,
       "_view_module": "@jupyter-widgets/base",
       "_view_module_version": "1.2.0",
       "_view_name": "LayoutView",
       "align_content": null,
       "align_items": null,
       "align_self": null,
       "border": null,
       "bottom": null,
       "display": null,
       "flex": null,
       "flex_flow": null,
       "grid_area": null,
       "grid_auto_columns": null,
       "grid_auto_flow": null,
       "grid_auto_rows": null,
       "grid_column": null,
       "grid_gap": null,
       "grid_row": null,
       "grid_template_areas": null,
       "grid_template_columns": null,
       "grid_template_rows": null,
       "height": null,
       "justify_content": null,
       "justify_items": null,
       "left": null,
       "margin": null,
       "max_height": null,
       "max_width": null,
       "min_height": null,
       "min_width": null,
       "object_fit": null,
       "object_position": null,
       "order": null,
       "overflow": null,
       "overflow_x": null,
       "overflow_y": null,
       "padding": null,
       "right": null,
       "top": null,
       "visibility": null,
       "width": null
      }
     },
     "17f47908249646319e6a6ade4f3c24e1": {
      "model_module": "@jupyter-widgets/controls",
      "model_module_version": "1.5.0",
      "model_name": "DescriptionStyleModel",
      "state": {
       "_model_module": "@jupyter-widgets/controls",
       "_model_module_version": "1.5.0",
       "_model_name": "DescriptionStyleModel",
       "_view_count": null,
       "_view_module": "@jupyter-widgets/base",
       "_view_module_version": "1.2.0",
       "_view_name": "StyleView",
       "description_width": ""
      }
     },
     "18e52e36162e4b37ba0eb019a11195df": {
      "model_module": "@jupyter-widgets/base",
      "model_module_version": "1.2.0",
      "model_name": "LayoutModel",
      "state": {
       "_model_module": "@jupyter-widgets/base",
       "_model_module_version": "1.2.0",
       "_model_name": "LayoutModel",
       "_view_count": null,
       "_view_module": "@jupyter-widgets/base",
       "_view_module_version": "1.2.0",
       "_view_name": "LayoutView",
       "align_content": null,
       "align_items": null,
       "align_self": null,
       "border": null,
       "bottom": null,
       "display": null,
       "flex": null,
       "flex_flow": null,
       "grid_area": null,
       "grid_auto_columns": null,
       "grid_auto_flow": null,
       "grid_auto_rows": null,
       "grid_column": null,
       "grid_gap": null,
       "grid_row": null,
       "grid_template_areas": null,
       "grid_template_columns": null,
       "grid_template_rows": null,
       "height": null,
       "justify_content": null,
       "justify_items": null,
       "left": null,
       "margin": null,
       "max_height": null,
       "max_width": null,
       "min_height": null,
       "min_width": null,
       "object_fit": null,
       "object_position": null,
       "order": null,
       "overflow": null,
       "overflow_x": null,
       "overflow_y": null,
       "padding": null,
       "right": null,
       "top": null,
       "visibility": null,
       "width": null
      }
     },
     "1b1895cfeb5e46838902577164d26ca2": {
      "model_module": "@jupyter-widgets/base",
      "model_module_version": "1.2.0",
      "model_name": "LayoutModel",
      "state": {
       "_model_module": "@jupyter-widgets/base",
       "_model_module_version": "1.2.0",
       "_model_name": "LayoutModel",
       "_view_count": null,
       "_view_module": "@jupyter-widgets/base",
       "_view_module_version": "1.2.0",
       "_view_name": "LayoutView",
       "align_content": null,
       "align_items": null,
       "align_self": null,
       "border": null,
       "bottom": null,
       "display": null,
       "flex": null,
       "flex_flow": null,
       "grid_area": null,
       "grid_auto_columns": null,
       "grid_auto_flow": null,
       "grid_auto_rows": null,
       "grid_column": null,
       "grid_gap": null,
       "grid_row": null,
       "grid_template_areas": null,
       "grid_template_columns": null,
       "grid_template_rows": null,
       "height": null,
       "justify_content": null,
       "justify_items": null,
       "left": null,
       "margin": null,
       "max_height": null,
       "max_width": null,
       "min_height": null,
       "min_width": null,
       "object_fit": null,
       "object_position": null,
       "order": null,
       "overflow": null,
       "overflow_x": null,
       "overflow_y": null,
       "padding": null,
       "right": null,
       "top": null,
       "visibility": null,
       "width": null
      }
     },
     "1e64e2681594484190ec6c2e9ff2b376": {
      "model_module": "@jupyter-widgets/controls",
      "model_module_version": "1.5.0",
      "model_name": "HTMLModel",
      "state": {
       "_dom_classes": [],
       "_model_module": "@jupyter-widgets/controls",
       "_model_module_version": "1.5.0",
       "_model_name": "HTMLModel",
       "_view_count": null,
       "_view_module": "@jupyter-widgets/controls",
       "_view_module_version": "1.5.0",
       "_view_name": "HTMLView",
       "description": "",
       "description_tooltip": null,
       "layout": "IPY_MODEL_2d70f1a7622a4a85801bf0185d4a4550",
       "placeholder": "​",
       "style": "IPY_MODEL_71d18e6a8d12489aa20092987abff713",
       "value": "Downloading pytorch_model.bin: 100%"
      }
     },
     "20eb5afa3a29437592fcf60a73e071bd": {
      "model_module": "@jupyter-widgets/controls",
      "model_module_version": "1.5.0",
      "model_name": "DescriptionStyleModel",
      "state": {
       "_model_module": "@jupyter-widgets/controls",
       "_model_module_version": "1.5.0",
       "_model_name": "DescriptionStyleModel",
       "_view_count": null,
       "_view_module": "@jupyter-widgets/base",
       "_view_module_version": "1.2.0",
       "_view_name": "StyleView",
       "description_width": ""
      }
     },
     "22920e68d4184e538cc04b45351fcb72": {
      "model_module": "@jupyter-widgets/controls",
      "model_module_version": "1.5.0",
      "model_name": "DescriptionStyleModel",
      "state": {
       "_model_module": "@jupyter-widgets/controls",
       "_model_module_version": "1.5.0",
       "_model_name": "DescriptionStyleModel",
       "_view_count": null,
       "_view_module": "@jupyter-widgets/base",
       "_view_module_version": "1.2.0",
       "_view_name": "StyleView",
       "description_width": ""
      }
     },
     "23707a9bf9174685b8e5f39118542ea5": {
      "model_module": "@jupyter-widgets/controls",
      "model_module_version": "1.5.0",
      "model_name": "VBoxModel",
      "state": {
       "_dom_classes": [],
       "_model_module": "@jupyter-widgets/controls",
       "_model_module_version": "1.5.0",
       "_model_name": "VBoxModel",
       "_view_count": null,
       "_view_module": "@jupyter-widgets/controls",
       "_view_module_version": "1.5.0",
       "_view_name": "VBoxView",
       "box_style": "",
       "children": [
        "IPY_MODEL_d2e910f298b64d5d82c2b1ccfd130e39",
        "IPY_MODEL_d711d792e4964bb7bc9602d0e9131d75"
       ],
       "layout": "IPY_MODEL_1b1895cfeb5e46838902577164d26ca2"
      }
     },
     "2424a615c6524436b95cc1e1d9c16143": {
      "model_module": "@jupyter-widgets/controls",
      "model_module_version": "1.5.0",
      "model_name": "ProgressStyleModel",
      "state": {
       "_model_module": "@jupyter-widgets/controls",
       "_model_module_version": "1.5.0",
       "_model_name": "ProgressStyleModel",
       "_view_count": null,
       "_view_module": "@jupyter-widgets/base",
       "_view_module_version": "1.2.0",
       "_view_name": "StyleView",
       "bar_color": null,
       "description_width": ""
      }
     },
     "26eba2db820c45a6871af6a39791a99a": {
      "model_module": "@jupyter-widgets/controls",
      "model_module_version": "1.5.0",
      "model_name": "HBoxModel",
      "state": {
       "_dom_classes": [],
       "_model_module": "@jupyter-widgets/controls",
       "_model_module_version": "1.5.0",
       "_model_name": "HBoxModel",
       "_view_count": null,
       "_view_module": "@jupyter-widgets/controls",
       "_view_module_version": "1.5.0",
       "_view_name": "HBoxView",
       "box_style": "",
       "children": [
        "IPY_MODEL_c26b1f56a58b4d26b9309abb3c0544ec",
        "IPY_MODEL_651b292915e94d3789cac3aa167fe00f",
        "IPY_MODEL_d82fbf25f6fb4196b0c3f53e7bfa2cd1"
       ],
       "layout": "IPY_MODEL_3b824e9ad7fe4288bf1379a9027b4c36"
      }
     },
     "28f2b6c8b36c450180300ee0b26ea8c8": {
      "model_module": "@jupyter-widgets/controls",
      "model_module_version": "1.5.0",
      "model_name": "ProgressStyleModel",
      "state": {
       "_model_module": "@jupyter-widgets/controls",
       "_model_module_version": "1.5.0",
       "_model_name": "ProgressStyleModel",
       "_view_count": null,
       "_view_module": "@jupyter-widgets/base",
       "_view_module_version": "1.2.0",
       "_view_name": "StyleView",
       "bar_color": null,
       "description_width": ""
      }
     },
     "2ab89251cbb2404ba21747f2407a2b51": {
      "model_module": "@jupyter-widgets/base",
      "model_module_version": "1.2.0",
      "model_name": "LayoutModel",
      "state": {
       "_model_module": "@jupyter-widgets/base",
       "_model_module_version": "1.2.0",
       "_model_name": "LayoutModel",
       "_view_count": null,
       "_view_module": "@jupyter-widgets/base",
       "_view_module_version": "1.2.0",
       "_view_name": "LayoutView",
       "align_content": null,
       "align_items": null,
       "align_self": null,
       "border": null,
       "bottom": null,
       "display": null,
       "flex": null,
       "flex_flow": null,
       "grid_area": null,
       "grid_auto_columns": null,
       "grid_auto_flow": null,
       "grid_auto_rows": null,
       "grid_column": null,
       "grid_gap": null,
       "grid_row": null,
       "grid_template_areas": null,
       "grid_template_columns": null,
       "grid_template_rows": null,
       "height": null,
       "justify_content": null,
       "justify_items": null,
       "left": null,
       "margin": null,
       "max_height": null,
       "max_width": null,
       "min_height": null,
       "min_width": null,
       "object_fit": null,
       "object_position": null,
       "order": null,
       "overflow": null,
       "overflow_x": null,
       "overflow_y": null,
       "padding": null,
       "right": null,
       "top": null,
       "visibility": null,
       "width": null
      }
     },
     "2d70f1a7622a4a85801bf0185d4a4550": {
      "model_module": "@jupyter-widgets/base",
      "model_module_version": "1.2.0",
      "model_name": "LayoutModel",
      "state": {
       "_model_module": "@jupyter-widgets/base",
       "_model_module_version": "1.2.0",
       "_model_name": "LayoutModel",
       "_view_count": null,
       "_view_module": "@jupyter-widgets/base",
       "_view_module_version": "1.2.0",
       "_view_name": "LayoutView",
       "align_content": null,
       "align_items": null,
       "align_self": null,
       "border": null,
       "bottom": null,
       "display": null,
       "flex": null,
       "flex_flow": null,
       "grid_area": null,
       "grid_auto_columns": null,
       "grid_auto_flow": null,
       "grid_auto_rows": null,
       "grid_column": null,
       "grid_gap": null,
       "grid_row": null,
       "grid_template_areas": null,
       "grid_template_columns": null,
       "grid_template_rows": null,
       "height": null,
       "justify_content": null,
       "justify_items": null,
       "left": null,
       "margin": null,
       "max_height": null,
       "max_width": null,
       "min_height": null,
       "min_width": null,
       "object_fit": null,
       "object_position": null,
       "order": null,
       "overflow": null,
       "overflow_x": null,
       "overflow_y": null,
       "padding": null,
       "right": null,
       "top": null,
       "visibility": null,
       "width": null
      }
     },
     "308edc5e8bcd42ebbba68df9b0e041d3": {
      "model_module": "@jupyter-widgets/controls",
      "model_module_version": "1.5.0",
      "model_name": "HBoxModel",
      "state": {
       "_dom_classes": [],
       "_model_module": "@jupyter-widgets/controls",
       "_model_module_version": "1.5.0",
       "_model_name": "HBoxModel",
       "_view_count": null,
       "_view_module": "@jupyter-widgets/controls",
       "_view_module_version": "1.5.0",
       "_view_name": "HBoxView",
       "box_style": "",
       "children": [
        "IPY_MODEL_880b0b977b114036983596c15c8d2f4c",
        "IPY_MODEL_fbfc77d9da7e4de8aa441e66068e5428",
        "IPY_MODEL_4bbee7104d1e4541ae615eb1a41ff5c2"
       ],
       "layout": "IPY_MODEL_08c2099f257f4ccd95a492070daae326"
      }
     },
     "37d14fc87c5f4f68a369cc0a33c769e6": {
      "model_module": "@jupyter-widgets/controls",
      "model_module_version": "1.5.0",
      "model_name": "HTMLModel",
      "state": {
       "_dom_classes": [],
       "_model_module": "@jupyter-widgets/controls",
       "_model_module_version": "1.5.0",
       "_model_name": "HTMLModel",
       "_view_count": null,
       "_view_module": "@jupyter-widgets/controls",
       "_view_module_version": "1.5.0",
       "_view_name": "HTMLView",
       "description": "",
       "description_tooltip": null,
       "layout": "IPY_MODEL_90ab7667ce1f4aba8ece6b09d2545d1e",
       "placeholder": "​",
       "style": "IPY_MODEL_701b0a684c124ee1aa308df0f647f531",
       "value": " 52.0/52.0 [00:00&lt;00:00, 1.41kB/s]"
      }
     },
     "396130f5015e46f89ac91e5334bc676d": {
      "model_module": "@jupyter-widgets/controls",
      "model_module_version": "1.5.0",
      "model_name": "ProgressStyleModel",
      "state": {
       "_model_module": "@jupyter-widgets/controls",
       "_model_module_version": "1.5.0",
       "_model_name": "ProgressStyleModel",
       "_view_count": null,
       "_view_module": "@jupyter-widgets/base",
       "_view_module_version": "1.2.0",
       "_view_name": "StyleView",
       "bar_color": null,
       "description_width": ""
      }
     },
     "39cd815ba3174978b06798059ce42cda": {
      "model_module": "@jupyter-widgets/controls",
      "model_module_version": "1.5.0",
      "model_name": "VBoxModel",
      "state": {
       "_dom_classes": [],
       "_model_module": "@jupyter-widgets/controls",
       "_model_module_version": "1.5.0",
       "_model_name": "VBoxModel",
       "_view_count": null,
       "_view_module": "@jupyter-widgets/controls",
       "_view_module_version": "1.5.0",
       "_view_name": "VBoxView",
       "box_style": "",
       "children": [
        "IPY_MODEL_85f9696396ab4058a2827f7a1b7614cd",
        "IPY_MODEL_e1a235360edb4ac78704a6164c327c0d"
       ],
       "layout": "IPY_MODEL_ea94561126bb4ec6b9a9d19dee7f9fd3"
      }
     },
     "3b824e9ad7fe4288bf1379a9027b4c36": {
      "model_module": "@jupyter-widgets/base",
      "model_module_version": "1.2.0",
      "model_name": "LayoutModel",
      "state": {
       "_model_module": "@jupyter-widgets/base",
       "_model_module_version": "1.2.0",
       "_model_name": "LayoutModel",
       "_view_count": null,
       "_view_module": "@jupyter-widgets/base",
       "_view_module_version": "1.2.0",
       "_view_name": "LayoutView",
       "align_content": null,
       "align_items": null,
       "align_self": null,
       "border": null,
       "bottom": null,
       "display": null,
       "flex": null,
       "flex_flow": null,
       "grid_area": null,
       "grid_auto_columns": null,
       "grid_auto_flow": null,
       "grid_auto_rows": null,
       "grid_column": null,
       "grid_gap": null,
       "grid_row": null,
       "grid_template_areas": null,
       "grid_template_columns": null,
       "grid_template_rows": null,
       "height": null,
       "justify_content": null,
       "justify_items": null,
       "left": null,
       "margin": null,
       "max_height": null,
       "max_width": null,
       "min_height": null,
       "min_width": null,
       "object_fit": null,
       "object_position": null,
       "order": null,
       "overflow": null,
       "overflow_x": null,
       "overflow_y": null,
       "padding": null,
       "right": null,
       "top": null,
       "visibility": null,
       "width": null
      }
     },
     "3c46851d5d5c4b559c6a86fee5cfa720": {
      "model_module": "@jupyter-widgets/controls",
      "model_module_version": "1.5.0",
      "model_name": "HTMLModel",
      "state": {
       "_dom_classes": [],
       "_model_module": "@jupyter-widgets/controls",
       "_model_module_version": "1.5.0",
       "_model_name": "HTMLModel",
       "_view_count": null,
       "_view_module": "@jupyter-widgets/controls",
       "_view_module_version": "1.5.0",
       "_view_name": "HTMLView",
       "description": "",
       "description_tooltip": null,
       "layout": "IPY_MODEL_62cc2f12cfc3477ea39eb1470648ebfd",
       "placeholder": "​",
       "style": "IPY_MODEL_22920e68d4184e538cc04b45351fcb72",
       "value": "Downloading tokenizer_config.json: 100%"
      }
     },
     "41bd610e566f475ca304e282df5f1a99": {
      "model_module": "@jupyter-widgets/base",
      "model_module_version": "1.2.0",
      "model_name": "LayoutModel",
      "state": {
       "_model_module": "@jupyter-widgets/base",
       "_model_module_version": "1.2.0",
       "_model_name": "LayoutModel",
       "_view_count": null,
       "_view_module": "@jupyter-widgets/base",
       "_view_module_version": "1.2.0",
       "_view_name": "LayoutView",
       "align_content": null,
       "align_items": null,
       "align_self": null,
       "border": null,
       "bottom": null,
       "display": null,
       "flex": null,
       "flex_flow": null,
       "grid_area": null,
       "grid_auto_columns": null,
       "grid_auto_flow": null,
       "grid_auto_rows": null,
       "grid_column": null,
       "grid_gap": null,
       "grid_row": null,
       "grid_template_areas": null,
       "grid_template_columns": null,
       "grid_template_rows": null,
       "height": null,
       "justify_content": null,
       "justify_items": null,
       "left": null,
       "margin": null,
       "max_height": null,
       "max_width": null,
       "min_height": null,
       "min_width": null,
       "object_fit": null,
       "object_position": null,
       "order": null,
       "overflow": null,
       "overflow_x": null,
       "overflow_y": null,
       "padding": null,
       "right": null,
       "top": null,
       "visibility": null,
       "width": null
      }
     },
     "44201a4bc8d947dfb5e6bdf4590a7e01": {
      "model_module": "@jupyter-widgets/controls",
      "model_module_version": "1.5.0",
      "model_name": "HTMLModel",
      "state": {
       "_dom_classes": [],
       "_model_module": "@jupyter-widgets/controls",
       "_model_module_version": "1.5.0",
       "_model_name": "HTMLModel",
       "_view_count": null,
       "_view_module": "@jupyter-widgets/controls",
       "_view_module_version": "1.5.0",
       "_view_name": "HTMLView",
       "description": "",
       "description_tooltip": null,
       "layout": "IPY_MODEL_18e52e36162e4b37ba0eb019a11195df",
       "placeholder": "​",
       "style": "IPY_MODEL_4bedfee6ae5b42cab35c55634d8ace7d",
       "value": " 579/579 [00:00&lt;00:00, 21.7kB/s]"
      }
     },
     "465f2fe1f37447748039ef4462b46c3d": {
      "model_module": "@jupyter-widgets/base",
      "model_module_version": "1.2.0",
      "model_name": "LayoutModel",
      "state": {
       "_model_module": "@jupyter-widgets/base",
       "_model_module_version": "1.2.0",
       "_model_name": "LayoutModel",
       "_view_count": null,
       "_view_module": "@jupyter-widgets/base",
       "_view_module_version": "1.2.0",
       "_view_name": "LayoutView",
       "align_content": null,
       "align_items": null,
       "align_self": null,
       "border": null,
       "bottom": null,
       "display": null,
       "flex": null,
       "flex_flow": null,
       "grid_area": null,
       "grid_auto_columns": null,
       "grid_auto_flow": null,
       "grid_auto_rows": null,
       "grid_column": null,
       "grid_gap": null,
       "grid_row": null,
       "grid_template_areas": null,
       "grid_template_columns": null,
       "grid_template_rows": null,
       "height": null,
       "justify_content": null,
       "justify_items": null,
       "left": null,
       "margin": null,
       "max_height": null,
       "max_width": null,
       "min_height": null,
       "min_width": null,
       "object_fit": null,
       "object_position": null,
       "order": null,
       "overflow": null,
       "overflow_x": null,
       "overflow_y": null,
       "padding": null,
       "right": null,
       "top": null,
       "visibility": null,
       "width": null
      }
     },
     "4bbee7104d1e4541ae615eb1a41ff5c2": {
      "model_module": "@jupyter-widgets/controls",
      "model_module_version": "1.5.0",
      "model_name": "HTMLModel",
      "state": {
       "_dom_classes": [],
       "_model_module": "@jupyter-widgets/controls",
       "_model_module_version": "1.5.0",
       "_model_name": "HTMLModel",
       "_view_count": null,
       "_view_module": "@jupyter-widgets/controls",
       "_view_module_version": "1.5.0",
       "_view_name": "HTMLView",
       "description": "",
       "description_tooltip": null,
       "layout": "IPY_MODEL_f0934fdb82fa4af79788f9c1ec0c0267",
       "placeholder": "​",
       "style": "IPY_MODEL_6502bafd125d480bafad7f56cf7edb5f",
       "value": " 2.35M/2.35M [00:00&lt;00:00, 5.29MB/s]"
      }
     },
     "4bedfee6ae5b42cab35c55634d8ace7d": {
      "model_module": "@jupyter-widgets/controls",
      "model_module_version": "1.5.0",
      "model_name": "DescriptionStyleModel",
      "state": {
       "_model_module": "@jupyter-widgets/controls",
       "_model_module_version": "1.5.0",
       "_model_name": "DescriptionStyleModel",
       "_view_count": null,
       "_view_module": "@jupyter-widgets/base",
       "_view_module_version": "1.2.0",
       "_view_name": "StyleView",
       "description_width": ""
      }
     },
     "4d9431e6693a4f66a2bd1dbb29da27a4": {
      "model_module": "@jupyter-widgets/base",
      "model_module_version": "1.2.0",
      "model_name": "LayoutModel",
      "state": {
       "_model_module": "@jupyter-widgets/base",
       "_model_module_version": "1.2.0",
       "_model_name": "LayoutModel",
       "_view_count": null,
       "_view_module": "@jupyter-widgets/base",
       "_view_module_version": "1.2.0",
       "_view_name": "LayoutView",
       "align_content": null,
       "align_items": null,
       "align_self": null,
       "border": null,
       "bottom": null,
       "display": null,
       "flex": null,
       "flex_flow": null,
       "grid_area": null,
       "grid_auto_columns": null,
       "grid_auto_flow": null,
       "grid_auto_rows": null,
       "grid_column": null,
       "grid_gap": null,
       "grid_row": null,
       "grid_template_areas": null,
       "grid_template_columns": null,
       "grid_template_rows": null,
       "height": null,
       "justify_content": null,
       "justify_items": null,
       "left": null,
       "margin": null,
       "max_height": null,
       "max_width": null,
       "min_height": null,
       "min_width": null,
       "object_fit": null,
       "object_position": null,
       "order": null,
       "overflow": null,
       "overflow_x": null,
       "overflow_y": null,
       "padding": null,
       "right": null,
       "top": null,
       "visibility": null,
       "width": null
      }
     },
     "4e390341b22c40ecb30e774966e22362": {
      "model_module": "@jupyter-widgets/base",
      "model_module_version": "1.2.0",
      "model_name": "LayoutModel",
      "state": {
       "_model_module": "@jupyter-widgets/base",
       "_model_module_version": "1.2.0",
       "_model_name": "LayoutModel",
       "_view_count": null,
       "_view_module": "@jupyter-widgets/base",
       "_view_module_version": "1.2.0",
       "_view_name": "LayoutView",
       "align_content": null,
       "align_items": null,
       "align_self": null,
       "border": null,
       "bottom": null,
       "display": null,
       "flex": null,
       "flex_flow": null,
       "grid_area": null,
       "grid_auto_columns": null,
       "grid_auto_flow": null,
       "grid_auto_rows": null,
       "grid_column": null,
       "grid_gap": null,
       "grid_row": null,
       "grid_template_areas": null,
       "grid_template_columns": null,
       "grid_template_rows": null,
       "height": null,
       "justify_content": null,
       "justify_items": null,
       "left": null,
       "margin": null,
       "max_height": null,
       "max_width": null,
       "min_height": null,
       "min_width": null,
       "object_fit": null,
       "object_position": null,
       "order": null,
       "overflow": null,
       "overflow_x": null,
       "overflow_y": null,
       "padding": null,
       "right": null,
       "top": null,
       "visibility": null,
       "width": null
      }
     },
     "5c46ff2756884796a66dad65b803a74e": {
      "model_module": "@jupyter-widgets/controls",
      "model_module_version": "1.5.0",
      "model_name": "HBoxModel",
      "state": {
       "_dom_classes": [],
       "_model_module": "@jupyter-widgets/controls",
       "_model_module_version": "1.5.0",
       "_model_name": "HBoxModel",
       "_view_count": null,
       "_view_module": "@jupyter-widgets/controls",
       "_view_module_version": "1.5.0",
       "_view_name": "HBoxView",
       "box_style": "",
       "children": [
        "IPY_MODEL_3c46851d5d5c4b559c6a86fee5cfa720",
        "IPY_MODEL_cf0363a3817142d59c4a5c810c5c3570",
        "IPY_MODEL_37d14fc87c5f4f68a369cc0a33c769e6"
       ],
       "layout": "IPY_MODEL_4e390341b22c40ecb30e774966e22362"
      }
     },
     "62cc2f12cfc3477ea39eb1470648ebfd": {
      "model_module": "@jupyter-widgets/base",
      "model_module_version": "1.2.0",
      "model_name": "LayoutModel",
      "state": {
       "_model_module": "@jupyter-widgets/base",
       "_model_module_version": "1.2.0",
       "_model_name": "LayoutModel",
       "_view_count": null,
       "_view_module": "@jupyter-widgets/base",
       "_view_module_version": "1.2.0",
       "_view_name": "LayoutView",
       "align_content": null,
       "align_items": null,
       "align_self": null,
       "border": null,
       "bottom": null,
       "display": null,
       "flex": null,
       "flex_flow": null,
       "grid_area": null,
       "grid_auto_columns": null,
       "grid_auto_flow": null,
       "grid_auto_rows": null,
       "grid_column": null,
       "grid_gap": null,
       "grid_row": null,
       "grid_template_areas": null,
       "grid_template_columns": null,
       "grid_template_rows": null,
       "height": null,
       "justify_content": null,
       "justify_items": null,
       "left": null,
       "margin": null,
       "max_height": null,
       "max_width": null,
       "min_height": null,
       "min_width": null,
       "object_fit": null,
       "object_position": null,
       "order": null,
       "overflow": null,
       "overflow_x": null,
       "overflow_y": null,
       "padding": null,
       "right": null,
       "top": null,
       "visibility": null,
       "width": null
      }
     },
     "6502bafd125d480bafad7f56cf7edb5f": {
      "model_module": "@jupyter-widgets/controls",
      "model_module_version": "1.5.0",
      "model_name": "DescriptionStyleModel",
      "state": {
       "_model_module": "@jupyter-widgets/controls",
       "_model_module_version": "1.5.0",
       "_model_name": "DescriptionStyleModel",
       "_view_count": null,
       "_view_module": "@jupyter-widgets/base",
       "_view_module_version": "1.2.0",
       "_view_name": "StyleView",
       "description_width": ""
      }
     },
     "651b292915e94d3789cac3aa167fe00f": {
      "model_module": "@jupyter-widgets/controls",
      "model_module_version": "1.5.0",
      "model_name": "FloatProgressModel",
      "state": {
       "_dom_classes": [],
       "_model_module": "@jupyter-widgets/controls",
       "_model_module_version": "1.5.0",
       "_model_name": "FloatProgressModel",
       "_view_count": null,
       "_view_module": "@jupyter-widgets/controls",
       "_view_module_version": "1.5.0",
       "_view_name": "ProgressView",
       "bar_style": "success",
       "description": "",
       "description_tooltip": null,
       "layout": "IPY_MODEL_465f2fe1f37447748039ef4462b46c3d",
       "max": 3911,
       "min": 0,
       "orientation": "horizontal",
       "style": "IPY_MODEL_28f2b6c8b36c450180300ee0b26ea8c8",
       "value": 3911
      }
     },
     "663987d3c386477691dd65b469ed342b": {
      "model_module": "@jupyter-widgets/controls",
      "model_module_version": "1.5.0",
      "model_name": "HTMLModel",
      "state": {
       "_dom_classes": [],
       "_model_module": "@jupyter-widgets/controls",
       "_model_module_version": "1.5.0",
       "_model_name": "HTMLModel",
       "_view_count": null,
       "_view_module": "@jupyter-widgets/controls",
       "_view_module_version": "1.5.0",
       "_view_name": "HTMLView",
       "description": "",
       "description_tooltip": null,
       "layout": "IPY_MODEL_2ab89251cbb2404ba21747f2407a2b51",
       "placeholder": "​",
       "style": "IPY_MODEL_8e15edcec15449ce9a2a73c02744a9aa",
       "value": "Downloading config.json: 100%"
      }
     },
     "6804d2ca2c91418e9632a6380d0d386a": {
      "model_module": "@jupyter-widgets/base",
      "model_module_version": "1.2.0",
      "model_name": "LayoutModel",
      "state": {
       "_model_module": "@jupyter-widgets/base",
       "_model_module_version": "1.2.0",
       "_model_name": "LayoutModel",
       "_view_count": null,
       "_view_module": "@jupyter-widgets/base",
       "_view_module_version": "1.2.0",
       "_view_name": "LayoutView",
       "align_content": null,
       "align_items": null,
       "align_self": null,
       "border": null,
       "bottom": null,
       "display": null,
       "flex": null,
       "flex_flow": null,
       "grid_area": null,
       "grid_auto_columns": null,
       "grid_auto_flow": null,
       "grid_auto_rows": null,
       "grid_column": null,
       "grid_gap": null,
       "grid_row": null,
       "grid_template_areas": null,
       "grid_template_columns": null,
       "grid_template_rows": null,
       "height": null,
       "justify_content": null,
       "justify_items": null,
       "left": null,
       "margin": null,
       "max_height": null,
       "max_width": null,
       "min_height": null,
       "min_width": null,
       "object_fit": null,
       "object_position": null,
       "order": null,
       "overflow": null,
       "overflow_x": null,
       "overflow_y": null,
       "padding": null,
       "right": null,
       "top": null,
       "visibility": null,
       "width": null
      }
     },
     "6a41f96e06044337add5bc9859a5a1b4": {
      "model_module": "@jupyter-widgets/base",
      "model_module_version": "1.2.0",
      "model_name": "LayoutModel",
      "state": {
       "_model_module": "@jupyter-widgets/base",
       "_model_module_version": "1.2.0",
       "_model_name": "LayoutModel",
       "_view_count": null,
       "_view_module": "@jupyter-widgets/base",
       "_view_module_version": "1.2.0",
       "_view_name": "LayoutView",
       "align_content": null,
       "align_items": null,
       "align_self": null,
       "border": null,
       "bottom": null,
       "display": null,
       "flex": null,
       "flex_flow": null,
       "grid_area": null,
       "grid_auto_columns": null,
       "grid_auto_flow": null,
       "grid_auto_rows": null,
       "grid_column": null,
       "grid_gap": null,
       "grid_row": null,
       "grid_template_areas": null,
       "grid_template_columns": null,
       "grid_template_rows": null,
       "height": null,
       "justify_content": null,
       "justify_items": null,
       "left": null,
       "margin": null,
       "max_height": null,
       "max_width": null,
       "min_height": null,
       "min_width": null,
       "object_fit": null,
       "object_position": null,
       "order": null,
       "overflow": null,
       "overflow_x": null,
       "overflow_y": null,
       "padding": null,
       "right": null,
       "top": null,
       "visibility": null,
       "width": null
      }
     },
     "6dc618e45e174c4a951ec262aac429e4": {
      "model_module": "@jupyter-widgets/controls",
      "model_module_version": "1.5.0",
      "model_name": "HBoxModel",
      "state": {
       "_dom_classes": [],
       "_model_module": "@jupyter-widgets/controls",
       "_model_module_version": "1.5.0",
       "_model_name": "HBoxModel",
       "_view_count": null,
       "_view_module": "@jupyter-widgets/controls",
       "_view_module_version": "1.5.0",
       "_view_name": "HBoxView",
       "box_style": "",
       "children": [
        "IPY_MODEL_663987d3c386477691dd65b469ed342b",
        "IPY_MODEL_df9e1f887986446dba48c82f0008e9a1",
        "IPY_MODEL_44201a4bc8d947dfb5e6bdf4590a7e01"
       ],
       "layout": "IPY_MODEL_fa9bc3fb72084ea4b6c3f118861deaa0"
      }
     },
     "6e6b24ae9a934b1ba102be3fb8e1fae7": {
      "model_module": "@jupyter-widgets/base",
      "model_module_version": "1.2.0",
      "model_name": "LayoutModel",
      "state": {
       "_model_module": "@jupyter-widgets/base",
       "_model_module_version": "1.2.0",
       "_model_name": "LayoutModel",
       "_view_count": null,
       "_view_module": "@jupyter-widgets/base",
       "_view_module_version": "1.2.0",
       "_view_name": "LayoutView",
       "align_content": null,
       "align_items": null,
       "align_self": null,
       "border": null,
       "bottom": null,
       "display": null,
       "flex": null,
       "flex_flow": null,
       "grid_area": null,
       "grid_auto_columns": null,
       "grid_auto_flow": null,
       "grid_auto_rows": null,
       "grid_column": null,
       "grid_gap": null,
       "grid_row": null,
       "grid_template_areas": null,
       "grid_template_columns": null,
       "grid_template_rows": null,
       "height": null,
       "justify_content": null,
       "justify_items": null,
       "left": null,
       "margin": null,
       "max_height": null,
       "max_width": null,
       "min_height": null,
       "min_width": null,
       "object_fit": null,
       "object_position": null,
       "order": null,
       "overflow": null,
       "overflow_x": null,
       "overflow_y": null,
       "padding": null,
       "right": null,
       "top": null,
       "visibility": null,
       "width": null
      }
     },
     "701b0a684c124ee1aa308df0f647f531": {
      "model_module": "@jupyter-widgets/controls",
      "model_module_version": "1.5.0",
      "model_name": "DescriptionStyleModel",
      "state": {
       "_model_module": "@jupyter-widgets/controls",
       "_model_module_version": "1.5.0",
       "_model_name": "DescriptionStyleModel",
       "_view_count": null,
       "_view_module": "@jupyter-widgets/base",
       "_view_module_version": "1.2.0",
       "_view_name": "StyleView",
       "description_width": ""
      }
     },
     "71d18e6a8d12489aa20092987abff713": {
      "model_module": "@jupyter-widgets/controls",
      "model_module_version": "1.5.0",
      "model_name": "DescriptionStyleModel",
      "state": {
       "_model_module": "@jupyter-widgets/controls",
       "_model_module_version": "1.5.0",
       "_model_name": "DescriptionStyleModel",
       "_view_count": null,
       "_view_module": "@jupyter-widgets/base",
       "_view_module_version": "1.2.0",
       "_view_name": "StyleView",
       "description_width": ""
      }
     },
     "7d18ca9289694ac8a9ed593ed513a08a": {
      "model_module": "@jupyter-widgets/controls",
      "model_module_version": "1.5.0",
      "model_name": "ProgressStyleModel",
      "state": {
       "_model_module": "@jupyter-widgets/controls",
       "_model_module_version": "1.5.0",
       "_model_name": "ProgressStyleModel",
       "_view_count": null,
       "_view_module": "@jupyter-widgets/base",
       "_view_module_version": "1.2.0",
       "_view_name": "StyleView",
       "bar_color": null,
       "description_width": ""
      }
     },
     "85f9696396ab4058a2827f7a1b7614cd": {
      "model_module": "@jupyter-widgets/controls",
      "model_module_version": "1.5.0",
      "model_name": "LabelModel",
      "state": {
       "_dom_classes": [],
       "_model_module": "@jupyter-widgets/controls",
       "_model_module_version": "1.5.0",
       "_model_name": "LabelModel",
       "_view_count": null,
       "_view_module": "@jupyter-widgets/controls",
       "_view_module_version": "1.5.0",
       "_view_name": "LabelView",
       "description": "",
       "description_tooltip": null,
       "layout": "IPY_MODEL_111da5e5254b4796824fa2c0d9a8a629",
       "placeholder": "​",
       "style": "IPY_MODEL_f56ab0e163b74611878841d42ab18413",
       "value": "0.096 MB of 0.096 MB uploaded (0.000 MB deduped)\r"
      }
     },
     "880b0b977b114036983596c15c8d2f4c": {
      "model_module": "@jupyter-widgets/controls",
      "model_module_version": "1.5.0",
      "model_name": "HTMLModel",
      "state": {
       "_dom_classes": [],
       "_model_module": "@jupyter-widgets/controls",
       "_model_module_version": "1.5.0",
       "_model_name": "HTMLModel",
       "_view_count": null,
       "_view_module": "@jupyter-widgets/controls",
       "_view_module_version": "1.5.0",
       "_view_name": "HTMLView",
       "description": "",
       "description_tooltip": null,
       "layout": "IPY_MODEL_41bd610e566f475ca304e282df5f1a99",
       "placeholder": "​",
       "style": "IPY_MODEL_17f47908249646319e6a6ade4f3c24e1",
       "value": "Downloading spm.model: 100%"
      }
     },
     "8e15edcec15449ce9a2a73c02744a9aa": {
      "model_module": "@jupyter-widgets/controls",
      "model_module_version": "1.5.0",
      "model_name": "DescriptionStyleModel",
      "state": {
       "_model_module": "@jupyter-widgets/controls",
       "_model_module_version": "1.5.0",
       "_model_name": "DescriptionStyleModel",
       "_view_count": null,
       "_view_module": "@jupyter-widgets/base",
       "_view_module_version": "1.2.0",
       "_view_name": "StyleView",
       "description_width": ""
      }
     },
     "90ab7667ce1f4aba8ece6b09d2545d1e": {
      "model_module": "@jupyter-widgets/base",
      "model_module_version": "1.2.0",
      "model_name": "LayoutModel",
      "state": {
       "_model_module": "@jupyter-widgets/base",
       "_model_module_version": "1.2.0",
       "_model_name": "LayoutModel",
       "_view_count": null,
       "_view_module": "@jupyter-widgets/base",
       "_view_module_version": "1.2.0",
       "_view_name": "LayoutView",
       "align_content": null,
       "align_items": null,
       "align_self": null,
       "border": null,
       "bottom": null,
       "display": null,
       "flex": null,
       "flex_flow": null,
       "grid_area": null,
       "grid_auto_columns": null,
       "grid_auto_flow": null,
       "grid_auto_rows": null,
       "grid_column": null,
       "grid_gap": null,
       "grid_row": null,
       "grid_template_areas": null,
       "grid_template_columns": null,
       "grid_template_rows": null,
       "height": null,
       "justify_content": null,
       "justify_items": null,
       "left": null,
       "margin": null,
       "max_height": null,
       "max_width": null,
       "min_height": null,
       "min_width": null,
       "object_fit": null,
       "object_position": null,
       "order": null,
       "overflow": null,
       "overflow_x": null,
       "overflow_y": null,
       "padding": null,
       "right": null,
       "top": null,
       "visibility": null,
       "width": null
      }
     },
     "9149161656c54f34a3c6274ccb75bf64": {
      "model_module": "@jupyter-widgets/base",
      "model_module_version": "1.2.0",
      "model_name": "LayoutModel",
      "state": {
       "_model_module": "@jupyter-widgets/base",
       "_model_module_version": "1.2.0",
       "_model_name": "LayoutModel",
       "_view_count": null,
       "_view_module": "@jupyter-widgets/base",
       "_view_module_version": "1.2.0",
       "_view_name": "LayoutView",
       "align_content": null,
       "align_items": null,
       "align_self": null,
       "border": null,
       "bottom": null,
       "display": null,
       "flex": null,
       "flex_flow": null,
       "grid_area": null,
       "grid_auto_columns": null,
       "grid_auto_flow": null,
       "grid_auto_rows": null,
       "grid_column": null,
       "grid_gap": null,
       "grid_row": null,
       "grid_template_areas": null,
       "grid_template_columns": null,
       "grid_template_rows": null,
       "height": null,
       "justify_content": null,
       "justify_items": null,
       "left": null,
       "margin": null,
       "max_height": null,
       "max_width": null,
       "min_height": null,
       "min_width": null,
       "object_fit": null,
       "object_position": null,
       "order": null,
       "overflow": null,
       "overflow_x": null,
       "overflow_y": null,
       "padding": null,
       "right": null,
       "top": null,
       "visibility": null,
       "width": null
      }
     },
     "9ae81947afc64bec8e18ec777fc8c8b6": {
      "model_module": "@jupyter-widgets/controls",
      "model_module_version": "1.5.0",
      "model_name": "DescriptionStyleModel",
      "state": {
       "_model_module": "@jupyter-widgets/controls",
       "_model_module_version": "1.5.0",
       "_model_name": "DescriptionStyleModel",
       "_view_count": null,
       "_view_module": "@jupyter-widgets/base",
       "_view_module_version": "1.2.0",
       "_view_name": "StyleView",
       "description_width": ""
      }
     },
     "ab4c7525b25d48028ef70058c407de98": {
      "model_module": "@jupyter-widgets/controls",
      "model_module_version": "1.5.0",
      "model_name": "ProgressStyleModel",
      "state": {
       "_model_module": "@jupyter-widgets/controls",
       "_model_module_version": "1.5.0",
       "_model_name": "ProgressStyleModel",
       "_view_count": null,
       "_view_module": "@jupyter-widgets/base",
       "_view_module_version": "1.2.0",
       "_view_name": "StyleView",
       "bar_color": null,
       "description_width": ""
      }
     },
     "b155f31ed5c54fbda92994626ca0520f": {
      "model_module": "@jupyter-widgets/controls",
      "model_module_version": "1.5.0",
      "model_name": "DescriptionStyleModel",
      "state": {
       "_model_module": "@jupyter-widgets/controls",
       "_model_module_version": "1.5.0",
       "_model_name": "DescriptionStyleModel",
       "_view_count": null,
       "_view_module": "@jupyter-widgets/base",
       "_view_module_version": "1.2.0",
       "_view_name": "StyleView",
       "description_width": ""
      }
     },
     "bb941e0a5cca406bb8eda36036cf80de": {
      "model_module": "@jupyter-widgets/controls",
      "model_module_version": "1.5.0",
      "model_name": "DescriptionStyleModel",
      "state": {
       "_model_module": "@jupyter-widgets/controls",
       "_model_module_version": "1.5.0",
       "_model_name": "DescriptionStyleModel",
       "_view_count": null,
       "_view_module": "@jupyter-widgets/base",
       "_view_module_version": "1.2.0",
       "_view_name": "StyleView",
       "description_width": ""
      }
     },
     "c26b1f56a58b4d26b9309abb3c0544ec": {
      "model_module": "@jupyter-widgets/controls",
      "model_module_version": "1.5.0",
      "model_name": "HTMLModel",
      "state": {
       "_dom_classes": [],
       "_model_module": "@jupyter-widgets/controls",
       "_model_module_version": "1.5.0",
       "_model_name": "HTMLModel",
       "_view_count": null,
       "_view_module": "@jupyter-widgets/controls",
       "_view_module_version": "1.5.0",
       "_view_name": "HTMLView",
       "description": "",
       "description_tooltip": null,
       "layout": "IPY_MODEL_0257892b9df540d28576ee164df92794",
       "placeholder": "​",
       "style": "IPY_MODEL_9ae81947afc64bec8e18ec777fc8c8b6",
       "value": "100%"
      }
     },
     "c7f3399c39ec4f0a9df3cebc1a263d83": {
      "model_module": "@jupyter-widgets/controls",
      "model_module_version": "1.5.0",
      "model_name": "ProgressStyleModel",
      "state": {
       "_model_module": "@jupyter-widgets/controls",
       "_model_module_version": "1.5.0",
       "_model_name": "ProgressStyleModel",
       "_view_count": null,
       "_view_module": "@jupyter-widgets/base",
       "_view_module_version": "1.2.0",
       "_view_name": "StyleView",
       "bar_color": null,
       "description_width": ""
      }
     },
     "cd71f94a42454813be979a7a88bfede7": {
      "model_module": "@jupyter-widgets/base",
      "model_module_version": "1.2.0",
      "model_name": "LayoutModel",
      "state": {
       "_model_module": "@jupyter-widgets/base",
       "_model_module_version": "1.2.0",
       "_model_name": "LayoutModel",
       "_view_count": null,
       "_view_module": "@jupyter-widgets/base",
       "_view_module_version": "1.2.0",
       "_view_name": "LayoutView",
       "align_content": null,
       "align_items": null,
       "align_self": null,
       "border": null,
       "bottom": null,
       "display": null,
       "flex": null,
       "flex_flow": null,
       "grid_area": null,
       "grid_auto_columns": null,
       "grid_auto_flow": null,
       "grid_auto_rows": null,
       "grid_column": null,
       "grid_gap": null,
       "grid_row": null,
       "grid_template_areas": null,
       "grid_template_columns": null,
       "grid_template_rows": null,
       "height": null,
       "justify_content": null,
       "justify_items": null,
       "left": null,
       "margin": null,
       "max_height": null,
       "max_width": null,
       "min_height": null,
       "min_width": null,
       "object_fit": null,
       "object_position": null,
       "order": null,
       "overflow": null,
       "overflow_x": null,
       "overflow_y": null,
       "padding": null,
       "right": null,
       "top": null,
       "visibility": null,
       "width": null
      }
     },
     "ce95b59df6ea41eaba698bad15d014fb": {
      "model_module": "@jupyter-widgets/base",
      "model_module_version": "1.2.0",
      "model_name": "LayoutModel",
      "state": {
       "_model_module": "@jupyter-widgets/base",
       "_model_module_version": "1.2.0",
       "_model_name": "LayoutModel",
       "_view_count": null,
       "_view_module": "@jupyter-widgets/base",
       "_view_module_version": "1.2.0",
       "_view_name": "LayoutView",
       "align_content": null,
       "align_items": null,
       "align_self": null,
       "border": null,
       "bottom": null,
       "display": null,
       "flex": null,
       "flex_flow": null,
       "grid_area": null,
       "grid_auto_columns": null,
       "grid_auto_flow": null,
       "grid_auto_rows": null,
       "grid_column": null,
       "grid_gap": null,
       "grid_row": null,
       "grid_template_areas": null,
       "grid_template_columns": null,
       "grid_template_rows": null,
       "height": null,
       "justify_content": null,
       "justify_items": null,
       "left": null,
       "margin": null,
       "max_height": null,
       "max_width": null,
       "min_height": null,
       "min_width": null,
       "object_fit": null,
       "object_position": null,
       "order": null,
       "overflow": null,
       "overflow_x": null,
       "overflow_y": null,
       "padding": null,
       "right": null,
       "top": null,
       "visibility": null,
       "width": null
      }
     },
     "cf0363a3817142d59c4a5c810c5c3570": {
      "model_module": "@jupyter-widgets/controls",
      "model_module_version": "1.5.0",
      "model_name": "FloatProgressModel",
      "state": {
       "_dom_classes": [],
       "_model_module": "@jupyter-widgets/controls",
       "_model_module_version": "1.5.0",
       "_model_name": "FloatProgressModel",
       "_view_count": null,
       "_view_module": "@jupyter-widgets/controls",
       "_view_module_version": "1.5.0",
       "_view_name": "ProgressView",
       "bar_style": "success",
       "description": "",
       "description_tooltip": null,
       "layout": "IPY_MODEL_cd71f94a42454813be979a7a88bfede7",
       "max": 52,
       "min": 0,
       "orientation": "horizontal",
       "style": "IPY_MODEL_396130f5015e46f89ac91e5334bc676d",
       "value": 52
      }
     },
     "d2e910f298b64d5d82c2b1ccfd130e39": {
      "model_module": "@jupyter-widgets/controls",
      "model_module_version": "1.5.0",
      "model_name": "LabelModel",
      "state": {
       "_dom_classes": [],
       "_model_module": "@jupyter-widgets/controls",
       "_model_module_version": "1.5.0",
       "_model_name": "LabelModel",
       "_view_count": null,
       "_view_module": "@jupyter-widgets/controls",
       "_view_module_version": "1.5.0",
       "_view_name": "LabelView",
       "description": "",
       "description_tooltip": null,
       "layout": "IPY_MODEL_e3ad251e80224571ab19ed3cda0ab91a",
       "placeholder": "​",
       "style": "IPY_MODEL_b155f31ed5c54fbda92994626ca0520f",
       "value": ""
      }
     },
     "d711d792e4964bb7bc9602d0e9131d75": {
      "model_module": "@jupyter-widgets/controls",
      "model_module_version": "1.5.0",
      "model_name": "FloatProgressModel",
      "state": {
       "_dom_classes": [],
       "_model_module": "@jupyter-widgets/controls",
       "_model_module_version": "1.5.0",
       "_model_name": "FloatProgressModel",
       "_view_count": null,
       "_view_module": "@jupyter-widgets/controls",
       "_view_module_version": "1.5.0",
       "_view_name": "ProgressView",
       "bar_style": "",
       "description": "",
       "description_tooltip": null,
       "layout": "IPY_MODEL_9149161656c54f34a3c6274ccb75bf64",
       "max": 1,
       "min": 0,
       "orientation": "horizontal",
       "style": "IPY_MODEL_7d18ca9289694ac8a9ed593ed513a08a",
       "value": 0
      }
     },
     "d82fbf25f6fb4196b0c3f53e7bfa2cd1": {
      "model_module": "@jupyter-widgets/controls",
      "model_module_version": "1.5.0",
      "model_name": "HTMLModel",
      "state": {
       "_dom_classes": [],
       "_model_module": "@jupyter-widgets/controls",
       "_model_module_version": "1.5.0",
       "_model_name": "HTMLModel",
       "_view_count": null,
       "_view_module": "@jupyter-widgets/controls",
       "_view_module_version": "1.5.0",
       "_view_name": "HTMLView",
       "description": "",
       "description_tooltip": null,
       "layout": "IPY_MODEL_4d9431e6693a4f66a2bd1dbb29da27a4",
       "placeholder": "​",
       "style": "IPY_MODEL_bb941e0a5cca406bb8eda36036cf80de",
       "value": " 3911/3911 [00:06&lt;00:00, 675.58it/s]"
      }
     },
     "dbf187f23d684beab8ad302436e2edcf": {
      "model_module": "@jupyter-widgets/controls",
      "model_module_version": "1.5.0",
      "model_name": "HBoxModel",
      "state": {
       "_dom_classes": [],
       "_model_module": "@jupyter-widgets/controls",
       "_model_module_version": "1.5.0",
       "_model_name": "HBoxModel",
       "_view_count": null,
       "_view_module": "@jupyter-widgets/controls",
       "_view_module_version": "1.5.0",
       "_view_name": "HBoxView",
       "box_style": "",
       "children": [
        "IPY_MODEL_1e64e2681594484190ec6c2e9ff2b376",
        "IPY_MODEL_e56b18b370294053a88d770daf324ec7",
        "IPY_MODEL_0aa3266908ab44fd995a54d5d81b60bb"
       ],
       "layout": "IPY_MODEL_ce95b59df6ea41eaba698bad15d014fb"
      }
     },
     "df9e1f887986446dba48c82f0008e9a1": {
      "model_module": "@jupyter-widgets/controls",
      "model_module_version": "1.5.0",
      "model_name": "FloatProgressModel",
      "state": {
       "_dom_classes": [],
       "_model_module": "@jupyter-widgets/controls",
       "_model_module_version": "1.5.0",
       "_model_name": "FloatProgressModel",
       "_view_count": null,
       "_view_module": "@jupyter-widgets/controls",
       "_view_module_version": "1.5.0",
       "_view_name": "ProgressView",
       "bar_style": "success",
       "description": "",
       "description_tooltip": null,
       "layout": "IPY_MODEL_e04808d014fd4d74b22c86257aba6ced",
       "max": 579,
       "min": 0,
       "orientation": "horizontal",
       "style": "IPY_MODEL_c7f3399c39ec4f0a9df3cebc1a263d83",
       "value": 579
      }
     },
     "e04808d014fd4d74b22c86257aba6ced": {
      "model_module": "@jupyter-widgets/base",
      "model_module_version": "1.2.0",
      "model_name": "LayoutModel",
      "state": {
       "_model_module": "@jupyter-widgets/base",
       "_model_module_version": "1.2.0",
       "_model_name": "LayoutModel",
       "_view_count": null,
       "_view_module": "@jupyter-widgets/base",
       "_view_module_version": "1.2.0",
       "_view_name": "LayoutView",
       "align_content": null,
       "align_items": null,
       "align_self": null,
       "border": null,
       "bottom": null,
       "display": null,
       "flex": null,
       "flex_flow": null,
       "grid_area": null,
       "grid_auto_columns": null,
       "grid_auto_flow": null,
       "grid_auto_rows": null,
       "grid_column": null,
       "grid_gap": null,
       "grid_row": null,
       "grid_template_areas": null,
       "grid_template_columns": null,
       "grid_template_rows": null,
       "height": null,
       "justify_content": null,
       "justify_items": null,
       "left": null,
       "margin": null,
       "max_height": null,
       "max_width": null,
       "min_height": null,
       "min_width": null,
       "object_fit": null,
       "object_position": null,
       "order": null,
       "overflow": null,
       "overflow_x": null,
       "overflow_y": null,
       "padding": null,
       "right": null,
       "top": null,
       "visibility": null,
       "width": null
      }
     },
     "e1a235360edb4ac78704a6164c327c0d": {
      "model_module": "@jupyter-widgets/controls",
      "model_module_version": "1.5.0",
      "model_name": "FloatProgressModel",
      "state": {
       "_dom_classes": [],
       "_model_module": "@jupyter-widgets/controls",
       "_model_module_version": "1.5.0",
       "_model_name": "FloatProgressModel",
       "_view_count": null,
       "_view_module": "@jupyter-widgets/controls",
       "_view_module_version": "1.5.0",
       "_view_name": "ProgressView",
       "bar_style": "",
       "description": "",
       "description_tooltip": null,
       "layout": "IPY_MODEL_6a41f96e06044337add5bc9859a5a1b4",
       "max": 1,
       "min": 0,
       "orientation": "horizontal",
       "style": "IPY_MODEL_2424a615c6524436b95cc1e1d9c16143",
       "value": 1
      }
     },
     "e3ad251e80224571ab19ed3cda0ab91a": {
      "model_module": "@jupyter-widgets/base",
      "model_module_version": "1.2.0",
      "model_name": "LayoutModel",
      "state": {
       "_model_module": "@jupyter-widgets/base",
       "_model_module_version": "1.2.0",
       "_model_name": "LayoutModel",
       "_view_count": null,
       "_view_module": "@jupyter-widgets/base",
       "_view_module_version": "1.2.0",
       "_view_name": "LayoutView",
       "align_content": null,
       "align_items": null,
       "align_self": null,
       "border": null,
       "bottom": null,
       "display": null,
       "flex": null,
       "flex_flow": null,
       "grid_area": null,
       "grid_auto_columns": null,
       "grid_auto_flow": null,
       "grid_auto_rows": null,
       "grid_column": null,
       "grid_gap": null,
       "grid_row": null,
       "grid_template_areas": null,
       "grid_template_columns": null,
       "grid_template_rows": null,
       "height": null,
       "justify_content": null,
       "justify_items": null,
       "left": null,
       "margin": null,
       "max_height": null,
       "max_width": null,
       "min_height": null,
       "min_width": null,
       "object_fit": null,
       "object_position": null,
       "order": null,
       "overflow": null,
       "overflow_x": null,
       "overflow_y": null,
       "padding": null,
       "right": null,
       "top": null,
       "visibility": null,
       "width": null
      }
     },
     "e56b18b370294053a88d770daf324ec7": {
      "model_module": "@jupyter-widgets/controls",
      "model_module_version": "1.5.0",
      "model_name": "FloatProgressModel",
      "state": {
       "_dom_classes": [],
       "_model_module": "@jupyter-widgets/controls",
       "_model_module_version": "1.5.0",
       "_model_name": "FloatProgressModel",
       "_view_count": null,
       "_view_module": "@jupyter-widgets/controls",
       "_view_module_version": "1.5.0",
       "_view_name": "ProgressView",
       "bar_style": "success",
       "description": "",
       "description_tooltip": null,
       "layout": "IPY_MODEL_017812a5a05e4df69a63b8c6286a00c9",
       "max": 371146213,
       "min": 0,
       "orientation": "horizontal",
       "style": "IPY_MODEL_00830740327b4ef1b02b535758d64785",
       "value": 371146213
      }
     },
     "ea94561126bb4ec6b9a9d19dee7f9fd3": {
      "model_module": "@jupyter-widgets/base",
      "model_module_version": "1.2.0",
      "model_name": "LayoutModel",
      "state": {
       "_model_module": "@jupyter-widgets/base",
       "_model_module_version": "1.2.0",
       "_model_name": "LayoutModel",
       "_view_count": null,
       "_view_module": "@jupyter-widgets/base",
       "_view_module_version": "1.2.0",
       "_view_name": "LayoutView",
       "align_content": null,
       "align_items": null,
       "align_self": null,
       "border": null,
       "bottom": null,
       "display": null,
       "flex": null,
       "flex_flow": null,
       "grid_area": null,
       "grid_auto_columns": null,
       "grid_auto_flow": null,
       "grid_auto_rows": null,
       "grid_column": null,
       "grid_gap": null,
       "grid_row": null,
       "grid_template_areas": null,
       "grid_template_columns": null,
       "grid_template_rows": null,
       "height": null,
       "justify_content": null,
       "justify_items": null,
       "left": null,
       "margin": null,
       "max_height": null,
       "max_width": null,
       "min_height": null,
       "min_width": null,
       "object_fit": null,
       "object_position": null,
       "order": null,
       "overflow": null,
       "overflow_x": null,
       "overflow_y": null,
       "padding": null,
       "right": null,
       "top": null,
       "visibility": null,
       "width": null
      }
     },
     "f0934fdb82fa4af79788f9c1ec0c0267": {
      "model_module": "@jupyter-widgets/base",
      "model_module_version": "1.2.0",
      "model_name": "LayoutModel",
      "state": {
       "_model_module": "@jupyter-widgets/base",
       "_model_module_version": "1.2.0",
       "_model_name": "LayoutModel",
       "_view_count": null,
       "_view_module": "@jupyter-widgets/base",
       "_view_module_version": "1.2.0",
       "_view_name": "LayoutView",
       "align_content": null,
       "align_items": null,
       "align_self": null,
       "border": null,
       "bottom": null,
       "display": null,
       "flex": null,
       "flex_flow": null,
       "grid_area": null,
       "grid_auto_columns": null,
       "grid_auto_flow": null,
       "grid_auto_rows": null,
       "grid_column": null,
       "grid_gap": null,
       "grid_row": null,
       "grid_template_areas": null,
       "grid_template_columns": null,
       "grid_template_rows": null,
       "height": null,
       "justify_content": null,
       "justify_items": null,
       "left": null,
       "margin": null,
       "max_height": null,
       "max_width": null,
       "min_height": null,
       "min_width": null,
       "object_fit": null,
       "object_position": null,
       "order": null,
       "overflow": null,
       "overflow_x": null,
       "overflow_y": null,
       "padding": null,
       "right": null,
       "top": null,
       "visibility": null,
       "width": null
      }
     },
     "f56ab0e163b74611878841d42ab18413": {
      "model_module": "@jupyter-widgets/controls",
      "model_module_version": "1.5.0",
      "model_name": "DescriptionStyleModel",
      "state": {
       "_model_module": "@jupyter-widgets/controls",
       "_model_module_version": "1.5.0",
       "_model_name": "DescriptionStyleModel",
       "_view_count": null,
       "_view_module": "@jupyter-widgets/base",
       "_view_module_version": "1.2.0",
       "_view_name": "StyleView",
       "description_width": ""
      }
     },
     "fa9bc3fb72084ea4b6c3f118861deaa0": {
      "model_module": "@jupyter-widgets/base",
      "model_module_version": "1.2.0",
      "model_name": "LayoutModel",
      "state": {
       "_model_module": "@jupyter-widgets/base",
       "_model_module_version": "1.2.0",
       "_model_name": "LayoutModel",
       "_view_count": null,
       "_view_module": "@jupyter-widgets/base",
       "_view_module_version": "1.2.0",
       "_view_name": "LayoutView",
       "align_content": null,
       "align_items": null,
       "align_self": null,
       "border": null,
       "bottom": null,
       "display": null,
       "flex": null,
       "flex_flow": null,
       "grid_area": null,
       "grid_auto_columns": null,
       "grid_auto_flow": null,
       "grid_auto_rows": null,
       "grid_column": null,
       "grid_gap": null,
       "grid_row": null,
       "grid_template_areas": null,
       "grid_template_columns": null,
       "grid_template_rows": null,
       "height": null,
       "justify_content": null,
       "justify_items": null,
       "left": null,
       "margin": null,
       "max_height": null,
       "max_width": null,
       "min_height": null,
       "min_width": null,
       "object_fit": null,
       "object_position": null,
       "order": null,
       "overflow": null,
       "overflow_x": null,
       "overflow_y": null,
       "padding": null,
       "right": null,
       "top": null,
       "visibility": null,
       "width": null
      }
     },
     "fbfc77d9da7e4de8aa441e66068e5428": {
      "model_module": "@jupyter-widgets/controls",
      "model_module_version": "1.5.0",
      "model_name": "FloatProgressModel",
      "state": {
       "_dom_classes": [],
       "_model_module": "@jupyter-widgets/controls",
       "_model_module_version": "1.5.0",
       "_model_name": "FloatProgressModel",
       "_view_count": null,
       "_view_module": "@jupyter-widgets/controls",
       "_view_module_version": "1.5.0",
       "_view_name": "ProgressView",
       "bar_style": "success",
       "description": "",
       "description_tooltip": null,
       "layout": "IPY_MODEL_6804d2ca2c91418e9632a6380d0d386a",
       "max": 2464616,
       "min": 0,
       "orientation": "horizontal",
       "style": "IPY_MODEL_ab4c7525b25d48028ef70058c407de98",
       "value": 2464616
      }
     }
    },
    "version_major": 2,
    "version_minor": 0
   }
  }
 },
 "nbformat": 4,
 "nbformat_minor": 5
}
